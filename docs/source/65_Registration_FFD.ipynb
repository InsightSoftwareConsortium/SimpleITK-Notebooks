{
 "cells": [
  {
   "cell_type": "markdown",
   "metadata": {},
   "source": [
    "# Non-Rigid Registration: Free Form Deformation\n",
    "\n",
    "This notebook illustrates the use of the Free Form Deformation (FFD) based non-rigid registration algorithm in SimpleITK.\n",
    "\n",
    "The data we work with is a 4D (3D+time) thoracic-abdominal CT, the Point-validated Pixel-based Breathing Thorax Model (POPI) model. This data consists of a set of temporal CT volumes, a set of masks segmenting each of the CTs to air/body/lung, and a set of corresponding points across the CT volumes. \n",
    "\n",
    "The POPI model is provided by the Léon Bérard Cancer Center & CREATIS Laboratory, Lyon, France. The relevant publication is:\n",
    "\n",
    "J. Vandemeulebroucke, D. Sarrut, P. Clarysse, \"The POPI-model, a point-validated pixel-based breathing thorax model\",\n",
    "Proc. XVth International Conference on the Use of Computers in Radiation Therapy (ICCR), Toronto, Canada, 2007.\n",
    "\n",
    "The POPI data, and additional 4D CT data sets with reference points are available from the CREATIS Laboratory <a href=\"http://www.creatis.insa-lyon.fr/rio/popi-model?action=show&redirect=popi\">here</a>. "
   ]
  },
  {
   "cell_type": "code",
   "execution_count": 1,
   "metadata": {
    "execution": {
     "iopub.execute_input": "2021-10-28T17:58:35.113334Z",
     "iopub.status.busy": "2021-10-28T17:58:35.112240Z",
     "iopub.status.idle": "2021-10-28T17:58:35.420811Z",
     "shell.execute_reply": "2021-10-28T17:58:35.421085Z"
    }
   },
   "outputs": [],
   "source": [
    "import SimpleITK as sitk\n",
    "import registration_utilities as ru\n",
    "import registration_callbacks as rc\n",
    "\n",
    "%matplotlib inline\n",
    "import matplotlib.pyplot as plt\n",
    "\n",
    "from ipywidgets import interact, fixed\n",
    "\n",
    "# utility method that either downloads data from the Girder repository or\n",
    "# if already downloaded returns the file name for reading from disk (cached data)\n",
    "%run update_path_to_download_script\n",
    "from downloaddata import fetch_data as fdata"
   ]
  },
  {
   "cell_type": "markdown",
   "metadata": {},
   "source": [
    "## Utilities\n",
    "\n",
    "Load utilities that are specific to the POPI data, functions for loading ground truth data, display and the labels for masks."
   ]
  },
  {
   "cell_type": "code",
   "execution_count": 2,
   "metadata": {
    "execution": {
     "iopub.execute_input": "2021-10-28T17:58:35.424017Z",
     "iopub.status.busy": "2021-10-28T17:58:35.423578Z",
     "iopub.status.idle": "2021-10-28T17:58:35.425637Z",
     "shell.execute_reply": "2021-10-28T17:58:35.426080Z"
    }
   },
   "outputs": [],
   "source": [
    "%run popi_utilities_setup.py"
   ]
  },
  {
   "cell_type": "markdown",
   "metadata": {},
   "source": [
    "## Loading Data\n",
    "\n",
    "Load all of the images, masks and point data into corresponding lists. If the data is not available locally it will be downloaded from the original remote repository. \n",
    "\n",
    "Take a look at the images. According to the documentation on the POPI site, volume number one corresponds to end inspiration (maximal air volume)."
   ]
  },
  {
   "cell_type": "code",
   "execution_count": 3,
   "metadata": {
    "execution": {
     "iopub.execute_input": "2021-10-28T17:58:35.430179Z",
     "iopub.status.busy": "2021-10-28T17:58:35.429711Z",
     "iopub.status.idle": "2021-10-28T17:58:36.174476Z",
     "shell.execute_reply": "2021-10-28T17:58:36.174186Z"
    }
   },
   "outputs": [
    {
     "name": "stdout",
     "output_type": "stream",
     "text": [
      "Fetching POPI/meta/00-P.mhd\n",
      "Fetching POPI/masks/00-air-body-lungs.mhd\n",
      "Fetching POPI/landmarks/00-Landmarks.pts\n",
      "Fetching POPI/meta/10-P.mhd\n",
      "Fetching POPI/masks/10-air-body-lungs.mhd\n",
      "Fetching POPI/landmarks/10-Landmarks.pts\n",
      "Fetching POPI/meta/20-P.mhd\n",
      "Fetching POPI/masks/20-air-body-lungs.mhd\n",
      "Fetching POPI/landmarks/20-Landmarks.pts\n",
      "Fetching POPI/meta/30-P.mhd\n",
      "Fetching POPI/masks/30-air-body-lungs.mhd\n",
      "Fetching POPI/landmarks/30-Landmarks.pts\n",
      "Fetching POPI/meta/40-P.mhd\n",
      "Fetching POPI/masks/40-air-body-lungs.mhd\n",
      "Fetching POPI/landmarks/40-Landmarks.pts\n",
      "Fetching POPI/meta/50-P.mhd\n",
      "Fetching POPI/masks/50-air-body-lungs.mhd\n",
      "Fetching POPI/landmarks/50-Landmarks.pts\n",
      "Fetching POPI/meta/60-P.mhd\n",
      "Fetching POPI/masks/60-air-body-lungs.mhd\n",
      "Fetching POPI/landmarks/60-Landmarks.pts\n",
      "Fetching POPI/meta/70-P.mhd\n",
      "Fetching POPI/masks/70-air-body-lungs.mhd\n",
      "Fetching POPI/landmarks/70-Landmarks.pts\n",
      "Fetching POPI/meta/80-P.mhd\n",
      "Fetching POPI/masks/80-air-body-lungs.mhd\n",
      "Fetching POPI/landmarks/80-Landmarks.pts\n",
      "Fetching POPI/meta/90-P.mhd\n",
      "Fetching POPI/masks/90-air-body-lungs.mhd\n",
      "Fetching POPI/landmarks/90-Landmarks.pts\n"
     ]
    },
    {
     "data": {
      "application/vnd.jupyter.widget-view+json": {
       "model_id": "aefa532acff8423293bcbff05b104b81",
       "version_major": 2,
       "version_minor": 0
      },
      "text/plain": [
       "interactive(children=(IntSlider(value=4, description='temporal_slice', max=9), IntSlider(value=179, descriptio…"
      ]
     },
     "metadata": {},
     "output_type": "display_data"
    }
   ],
   "source": [
    "images = []\n",
    "masks = []\n",
    "points = []\n",
    "for i in range(0, 10):\n",
    "    image_file_name = f\"POPI/meta/{i}0-P.mhd\"\n",
    "    mask_file_name = f\"POPI/masks/{i}0-air-body-lungs.mhd\"\n",
    "    points_file_name = f\"POPI/landmarks/{i}0-Landmarks.pts\"\n",
    "    images.append(\n",
    "        sitk.ReadImage(fdata(image_file_name), sitk.sitkFloat32)\n",
    "    )  # read and cast to format required for registration\n",
    "    masks.append(sitk.ReadImage(fdata(mask_file_name)))\n",
    "    points.append(read_POPI_points(fdata(points_file_name)))\n",
    "\n",
    "interact(\n",
    "    display_coronal_with_overlay,\n",
    "    temporal_slice=(0, len(images) - 1),\n",
    "    coronal_slice=(0, images[0].GetSize()[1] - 1),\n",
    "    images=fixed(images),\n",
    "    masks=fixed(masks),\n",
    "    label=fixed(lung_label),\n",
    "    window_min=fixed(-1024),\n",
    "    window_max=fixed(976),\n",
    ");"
   ]
  },
  {
   "cell_type": "markdown",
   "metadata": {},
   "source": [
    "### Getting to know your data\n",
    "\n",
    "While the POPI site states that image number 1 is end inspiration, and visual inspection seems to suggest this is correct, we should probably take a look at the lung volumes to ensure that what we expect is indeed what is happening.\n",
    "\n",
    "Which image is end inspiration and which end expiration?"
   ]
  },
  {
   "cell_type": "code",
   "execution_count": 4,
   "metadata": {
    "execution": {
     "iopub.execute_input": "2021-10-28T17:58:36.178352Z",
     "iopub.status.busy": "2021-10-28T17:58:36.177242Z",
     "iopub.status.idle": "2021-10-28T17:58:37.882564Z",
     "shell.execute_reply": "2021-10-28T17:58:37.882884Z"
    }
   },
   "outputs": [
    {
     "name": "stdout",
     "output_type": "stream",
     "text": [
      "Lung volume in image 0 is 5.455734929689075 liters.\n",
      "Lung volume in image 1 is 5.527017905172941 liters.\n",
      "Lung volume in image 2 is 5.554014379499289 liters.\n",
      "Lung volume in image 3 is 5.451784830895104 liters.\n",
      "Lung volume in image 4 is 5.301415956621658 liters.\n",
      "Lung volume in image 5 is 5.191841246039885 liters.\n",
      "Lung volume in image 6 is 5.09130732168864 liters.\n",
      "Lung volume in image 7 is 5.11128669632256 liters.\n",
      "Lung volume in image 8 is 5.195802788867059 liters.\n",
      "Lung volume in image 9 is 5.335378032491021 liters.\n"
     ]
    }
   ],
   "source": [
    "label_shape_statistics_filter = sitk.LabelShapeStatisticsImageFilter()\n",
    "\n",
    "for i, mask in enumerate(masks):\n",
    "    label_shape_statistics_filter.Execute(mask)\n",
    "    print(\n",
    "        f\"Lung volume in image {i} is {0.000001*label_shape_statistics_filter.GetPhysicalSize(lung_label)} liters.\"\n",
    "    )"
   ]
  },
  {
   "cell_type": "markdown",
   "metadata": {},
   "source": [
    "## Free Form Deformation\n",
    "\n",
    "This function will align the fixed and moving images using a FFD. If given a mask, the similarity metric will be evaluated using points sampled inside the mask. If given fixed and moving points the similarity metric value and the target registration errors will be displayed during registration. \n",
    "\n",
    "As this notebook performs intra-modal registration, we use the MeanSquares similarity metric (simple to compute and appropriate for the task)."
   ]
  },
  {
   "cell_type": "code",
   "execution_count": 5,
   "metadata": {
    "execution": {
     "iopub.execute_input": "2021-10-28T17:58:37.909646Z",
     "iopub.status.busy": "2021-10-28T17:58:37.909228Z",
     "iopub.status.idle": "2021-10-28T17:58:37.910495Z",
     "shell.execute_reply": "2021-10-28T17:58:37.910905Z"
    }
   },
   "outputs": [],
   "source": [
    "def bspline_intra_modal_registration(\n",
    "    fixed_image,\n",
    "    moving_image,\n",
    "    fixed_image_mask=None,\n",
    "    fixed_points=None,\n",
    "    moving_points=None,\n",
    "):\n",
    "\n",
    "    registration_method = sitk.ImageRegistrationMethod()\n",
    "\n",
    "    # Determine the number of BSpline control points using the physical spacing we want for the control grid.\n",
    "    grid_physical_spacing = [50.0, 50.0, 50.0]  # A control point every 50mm\n",
    "    image_physical_size = [\n",
    "        size * spacing\n",
    "        for size, spacing in zip(fixed_image.GetSize(), fixed_image.GetSpacing())\n",
    "    ]\n",
    "    mesh_size = [\n",
    "        int(image_size / grid_spacing + 0.5)\n",
    "        for image_size, grid_spacing in zip(image_physical_size, grid_physical_spacing)\n",
    "    ]\n",
    "\n",
    "    initial_transform = sitk.BSplineTransformInitializer(\n",
    "        image1=fixed_image, transformDomainMeshSize=mesh_size, order=3\n",
    "    )\n",
    "    registration_method.SetInitialTransform(initial_transform)\n",
    "\n",
    "    registration_method.SetMetricAsMeanSquares()\n",
    "    # Settings for metric sampling, usage of a mask is optional. When given a mask the sample points will be\n",
    "    # generated inside that region. Also, this implicitly speeds things up as the mask is smaller than the\n",
    "    # whole image.\n",
    "    registration_method.SetMetricSamplingStrategy(registration_method.RANDOM)\n",
    "    registration_method.SetMetricSamplingPercentage(0.01)\n",
    "    if fixed_image_mask:\n",
    "        registration_method.SetMetricFixedMask(fixed_image_mask)\n",
    "\n",
    "    # Multi-resolution framework.\n",
    "    registration_method.SetShrinkFactorsPerLevel(shrinkFactors=[4, 2, 1])\n",
    "    registration_method.SetSmoothingSigmasPerLevel(smoothingSigmas=[2, 1, 0])\n",
    "    registration_method.SmoothingSigmasAreSpecifiedInPhysicalUnitsOn()\n",
    "\n",
    "    registration_method.SetInterpolator(sitk.sitkLinear)\n",
    "    registration_method.SetOptimizerAsLBFGSB(\n",
    "        gradientConvergenceTolerance=1e-5, numberOfIterations=100\n",
    "    )\n",
    "\n",
    "    # If corresponding points in the fixed and moving image are given then we display the similarity metric\n",
    "    # and the TRE during the registration.\n",
    "    if fixed_points and moving_points:\n",
    "        registration_method.AddCommand(\n",
    "            sitk.sitkStartEvent, rc.metric_and_reference_start_plot\n",
    "        )\n",
    "        registration_method.AddCommand(\n",
    "            sitk.sitkEndEvent, rc.metric_and_reference_end_plot\n",
    "        )\n",
    "        registration_method.AddCommand(\n",
    "            sitk.sitkIterationEvent,\n",
    "            lambda: rc.metric_and_reference_plot_values(\n",
    "                registration_method, fixed_points, moving_points\n",
    "            ),\n",
    "        )\n",
    "\n",
    "    return registration_method.Execute(fixed_image, moving_image)"
   ]
  },
  {
   "cell_type": "markdown",
   "metadata": {},
   "source": [
    "## Perform Registration\n",
    "\n",
    "The following cell allows you to select the images used for registration, runs the registration, and afterwards computes statistics comparing the target registration errors before and after registration and displays a histogram of the TREs.\n",
    "\n",
    "To time the registration, uncomment the timeit magic. \n",
    "<b>Note</b>: this creates a separate scope for the cell. Variables set inside the cell, specifically tx, will become local variables and thus their value is not available in other cells. "
   ]
  },
  {
   "cell_type": "code",
   "execution_count": 6,
   "metadata": {
    "execution": {
     "iopub.execute_input": "2021-10-28T17:58:37.924190Z",
     "iopub.status.busy": "2021-10-28T17:58:37.915783Z",
     "iopub.status.idle": "2021-10-28T17:59:33.327937Z",
     "shell.execute_reply": "2021-10-28T17:59:33.328253Z"
    }
   },
   "outputs": [
    {
     "data": {
      "image/png": "[encoded data removed]",
      "text/plain": [
       "<Figure size 432x288 with 2 Axes>"
      ]
     },
     "metadata": {
      "needs_background": "light"
     },
     "output_type": "display_data"
    },
    {
     "name": "stdout",
     "output_type": "stream",
     "text": [
      "Initial alignment errors in millimeters, mean(std): 5.07(2.67), max: 14.02\n",
      "Final alignment errors in millimeters, mean(std): 1.38(0.79), max: 3.30\n"
     ]
    },
    {
     "data": {
      "image/png": "[encoded data removed]",
      "text/plain": [
       "<Figure size 432x288 with 1 Axes>"
      ]
     },
     "metadata": {
      "needs_background": "light"
     },
     "output_type": "display_data"
    }
   ],
   "source": [
    "#%%timeit -r1 -n1\n",
    "\n",
    "# Select the fixed and moving images, valid entries are in [0,9].\n",
    "fixed_image_index = 0\n",
    "moving_image_index = 7\n",
    "\n",
    "\n",
    "tx = bspline_intra_modal_registration(\n",
    "    fixed_image=images[fixed_image_index],\n",
    "    moving_image=images[moving_image_index],\n",
    "    fixed_image_mask=(masks[fixed_image_index] == lung_label),\n",
    "    fixed_points=points[fixed_image_index],\n",
    "    moving_points=points[moving_image_index],\n",
    ")\n",
    "(\n",
    "    initial_errors_mean,\n",
    "    initial_errors_std,\n",
    "    _,\n",
    "    initial_errors_max,\n",
    "    initial_errors,\n",
    ") = ru.registration_errors(\n",
    "    sitk.Euler3DTransform(), points[fixed_image_index], points[moving_image_index]\n",
    ")\n",
    "(\n",
    "    final_errors_mean,\n",
    "    final_errors_std,\n",
    "    _,\n",
    "    final_errors_max,\n",
    "    final_errors,\n",
    ") = ru.registration_errors(tx, points[fixed_image_index], points[moving_image_index])\n",
    "\n",
    "plt.hist(initial_errors, bins=20, alpha=0.5, label=\"before registration\", color=\"blue\")\n",
    "plt.hist(final_errors, bins=20, alpha=0.5, label=\"after registration\", color=\"green\")\n",
    "plt.legend()\n",
    "plt.title(\"TRE histogram\")\n",
    "print(\n",
    "    f\"Initial alignment errors in millimeters, mean(std): {initial_errors_mean:.2f}({initial_errors_std:.2f}), max: {initial_errors_max:.2f}\"\n",
    ")\n",
    "print(\n",
    "    f\"Final alignment errors in millimeters, mean(std): {final_errors_mean:.2f}({final_errors_std:.2f}), max: {final_errors_max:.2f}\"\n",
    ")"
   ]
  },
  {
   "cell_type": "markdown",
   "metadata": {},
   "source": [
    "Another option for evaluating the registration is to use segmentation. In this case, we transfer the segmentation from one image to the other and compare the overlaps, both visually, and quantitatively.\n",
    "\n",
    "<b>Note</b>: A more detailed version of the approach described here can be found in the [Segmentation Evaluation notebook](34_Segmentation_Evaluation.ipynb)."
   ]
  },
  {
   "cell_type": "code",
   "execution_count": 7,
   "metadata": {
    "execution": {
     "iopub.execute_input": "2021-10-28T17:59:33.368717Z",
     "iopub.status.busy": "2021-10-28T17:59:33.367561Z",
     "iopub.status.idle": "2021-10-28T17:59:42.387711Z",
     "shell.execute_reply": "2021-10-28T17:59:42.387968Z"
    }
   },
   "outputs": [
    {
     "data": {
      "application/vnd.jupyter.widget-view+json": {
       "model_id": "993894c5955d48bbaffe411ac371ef77",
       "version_major": 2,
       "version_minor": 0
      },
      "text/plain": [
       "interactive(children=(IntSlider(value=179, description='coronal_slice', max=359), IntSlider(value=0, descripti…"
      ]
     },
     "metadata": {},
     "output_type": "display_data"
    },
    {
     "name": "stdout",
     "output_type": "stream",
     "text": [
      "Dice coefficient before registration: 0.94\n",
      "Dice coefficient after registration: 0.97\n",
      "Hausdorff distance before registration: 18.04\n",
      "Hausdorff distance after registration: 10.24\n"
     ]
    }
   ],
   "source": [
    "# Transfer the segmentation via the estimated transformation. Use Nearest Neighbor interpolation to retain the labels.\n",
    "transformed_labels = sitk.Resample(\n",
    "    masks[moving_image_index],\n",
    "    images[fixed_image_index],\n",
    "    tx,\n",
    "    sitk.sitkNearestNeighbor,\n",
    "    0.0,\n",
    "    masks[moving_image_index].GetPixelID(),\n",
    ")\n",
    "\n",
    "segmentations_before_and_after = [masks[moving_image_index], transformed_labels]\n",
    "interact(\n",
    "    display_coronal_with_label_maps_overlay,\n",
    "    coronal_slice=(0, images[0].GetSize()[1] - 1),\n",
    "    mask_index=(0, len(segmentations_before_and_after) - 1),\n",
    "    image=fixed(images[fixed_image_index]),\n",
    "    masks=fixed(segmentations_before_and_after),\n",
    "    label=fixed(lung_label),\n",
    "    window_min=fixed(-1024),\n",
    "    window_max=fixed(976),\n",
    ")\n",
    "\n",
    "# Compute the Dice coefficient and Hausdorff distance between the segmentations before, and after registration.\n",
    "ground_truth = masks[fixed_image_index] == lung_label\n",
    "before_registration = masks[moving_image_index] == lung_label\n",
    "after_registration = transformed_labels == lung_label\n",
    "\n",
    "label_overlap_measures_filter = sitk.LabelOverlapMeasuresImageFilter()\n",
    "label_overlap_measures_filter.Execute(ground_truth, before_registration)\n",
    "print(\n",
    "    f\"Dice coefficient before registration: {label_overlap_measures_filter.GetDiceCoefficient():.2f}\"\n",
    ")\n",
    "label_overlap_measures_filter.Execute(ground_truth, after_registration)\n",
    "print(\n",
    "    f\"Dice coefficient after registration: {label_overlap_measures_filter.GetDiceCoefficient():.2f}\"\n",
    ")\n",
    "\n",
    "hausdorff_distance_image_filter = sitk.HausdorffDistanceImageFilter()\n",
    "hausdorff_distance_image_filter.Execute(ground_truth, before_registration)\n",
    "print(\n",
    "    f\"Hausdorff distance before registration: {hausdorff_distance_image_filter.GetHausdorffDistance():.2f}\"\n",
    ")\n",
    "hausdorff_distance_image_filter.Execute(ground_truth, after_registration)\n",
    "print(\n",
    "    f\"Hausdorff distance after registration: {hausdorff_distance_image_filter.GetHausdorffDistance():.2f}\"\n",
    ")"
   ]
  },
  {
   "cell_type": "markdown",
   "metadata": {},
   "source": [
    "## Multi-resolution control point grid\n",
    "\n",
    "In the example above we used the standard image registration framework. This implies the same transformation model at all image resolutions. For global transformations (e.g. rigid, affine...) the number of transformation parameters has no relationship to the changing resolution. For the BSpline transformation we can potentially use fewer control points for images with lower frequencies, higher levels of the image pyramid, increasing the number of control points as we go down the pyramid. With the standard framework we use the same number of control points for all pyramid levels.\n",
    "\n",
    "To use a multi-resolution control point grid we have a specific initializer for the BSpline transformation, [SetInitialTransformAsBSpline](https://simpleitk.org/doxygen/latest/html/classitk_1_1simple_1_1ImageRegistrationMethod.html#ada2d2f32fda2b2aa70f8ddfe40bfd74d).\n",
    "\n",
    "The following code solves the same registration task as above, just with a multi-resolution control point grid."
   ]
  },
  {
   "cell_type": "code",
   "execution_count": 8,
   "metadata": {
    "execution": {
     "iopub.execute_input": "2021-10-28T17:59:42.395089Z",
     "iopub.status.busy": "2021-10-28T17:59:42.394681Z",
     "iopub.status.idle": "2021-10-28T17:59:42.396047Z",
     "shell.execute_reply": "2021-10-28T17:59:42.396355Z"
    }
   },
   "outputs": [],
   "source": [
    "def bspline_intra_modal_registration2(\n",
    "    fixed_image,\n",
    "    moving_image,\n",
    "    fixed_image_mask=None,\n",
    "    fixed_points=None,\n",
    "    moving_points=None,\n",
    "):\n",
    "\n",
    "    registration_method = sitk.ImageRegistrationMethod()\n",
    "\n",
    "    # Determine the number of BSpline control points using the physical spacing we\n",
    "    # want for the finest resolution control grid.\n",
    "    grid_physical_spacing = [50.0, 50.0, 50.0]  # A control point every 50mm\n",
    "    image_physical_size = [\n",
    "        size * spacing\n",
    "        for size, spacing in zip(fixed_image.GetSize(), fixed_image.GetSpacing())\n",
    "    ]\n",
    "    mesh_size = [\n",
    "        int(image_size / grid_spacing + 0.5)\n",
    "        for image_size, grid_spacing in zip(image_physical_size, grid_physical_spacing)\n",
    "    ]\n",
    "\n",
    "    # The starting mesh size will be 1/4 of the original, it will be refined by\n",
    "    # the multi-resolution framework.\n",
    "    mesh_size = [int(sz / 4 + 0.5) for sz in mesh_size]\n",
    "\n",
    "    initial_transform = sitk.BSplineTransformInitializer(\n",
    "        image1=fixed_image, transformDomainMeshSize=mesh_size, order=3\n",
    "    )\n",
    "    # Instead of the standard SetInitialTransform we use the BSpline specific method which also\n",
    "    # accepts the scaleFactors parameter to refine the BSpline mesh. In this case we start with\n",
    "    # the given mesh_size at the highest pyramid level then we double it in the next lower level and\n",
    "    # in the full resolution image we use a mesh that is four times the original size.\n",
    "    registration_method.SetInitialTransformAsBSpline(\n",
    "        initial_transform, inPlace=True, scaleFactors=[1, 2, 4]\n",
    "    )\n",
    "    registration_method.SetMetricAsMeanSquares()\n",
    "    # Settings for metric sampling, usage of a mask is optional. When given a mask the sample points will be\n",
    "    # generated inside that region. Also, this implicitly speeds things up as the mask is smaller than the\n",
    "    # whole image.\n",
    "    registration_method.SetMetricSamplingStrategy(registration_method.RANDOM)\n",
    "    registration_method.SetMetricSamplingPercentage(0.01)\n",
    "    if fixed_image_mask:\n",
    "        registration_method.SetMetricFixedMask(fixed_image_mask)\n",
    "\n",
    "    # Multi-resolution framework.\n",
    "    registration_method.SetShrinkFactorsPerLevel(shrinkFactors=[4, 2, 1])\n",
    "    registration_method.SetSmoothingSigmasPerLevel(smoothingSigmas=[2, 1, 0])\n",
    "    registration_method.SmoothingSigmasAreSpecifiedInPhysicalUnitsOn()\n",
    "\n",
    "    registration_method.SetInterpolator(sitk.sitkLinear)\n",
    "    # Use the LBFGS2 instead of LBFGS. The latter cannot adapt to the changing control grid resolution.\n",
    "    registration_method.SetOptimizerAsLBFGS2(\n",
    "        solutionAccuracy=1e-2, numberOfIterations=100, deltaConvergenceTolerance=0.01\n",
    "    )\n",
    "\n",
    "    # If corresponding points in the fixed and moving image are given then we display the similarity metric\n",
    "    # and the TRE during the registration.\n",
    "    if fixed_points and moving_points:\n",
    "        registration_method.AddCommand(\n",
    "            sitk.sitkStartEvent, rc.metric_and_reference_start_plot\n",
    "        )\n",
    "        registration_method.AddCommand(\n",
    "            sitk.sitkEndEvent, rc.metric_and_reference_end_plot\n",
    "        )\n",
    "        registration_method.AddCommand(\n",
    "            sitk.sitkIterationEvent,\n",
    "            lambda: rc.metric_and_reference_plot_values(\n",
    "                registration_method, fixed_points, moving_points\n",
    "            ),\n",
    "        )\n",
    "\n",
    "    return registration_method.Execute(fixed_image, moving_image)"
   ]
  },
  {
   "cell_type": "code",
   "execution_count": 9,
   "metadata": {
    "execution": {
     "iopub.execute_input": "2021-10-28T17:59:42.402006Z",
     "iopub.status.busy": "2021-10-28T17:59:42.401078Z",
     "iopub.status.idle": "2021-10-28T18:01:08.053916Z",
     "shell.execute_reply": "2021-10-28T18:01:08.054179Z"
    }
   },
   "outputs": [
    {
     "data": {
      "image/png": "[encoded data removed]",
      "text/plain": [
       "<Figure size 432x288 with 2 Axes>"
      ]
     },
     "metadata": {
      "needs_background": "light"
     },
     "output_type": "display_data"
    },
    {
     "name": "stdout",
     "output_type": "stream",
     "text": [
      "Initial alignment errors in millimeters, mean(std): 5.07(2.67), max: 14.02\n",
      "Final alignment errors in millimeters, mean(std): 1.65(1.25), max: 7.65\n"
     ]
    },
    {
     "data": {
      "image/png": "[encoded data removed]",
      "text/plain": [
       "<Figure size 432x288 with 1 Axes>"
      ]
     },
     "metadata": {
      "needs_background": "light"
     },
     "output_type": "display_data"
    }
   ],
   "source": [
    "#%%timeit -r1 -n1\n",
    "\n",
    "# Select the fixed and moving images, valid entries are in [0,9].\n",
    "fixed_image_index = 0\n",
    "moving_image_index = 7\n",
    "\n",
    "\n",
    "tx = bspline_intra_modal_registration2(\n",
    "    fixed_image=images[fixed_image_index],\n",
    "    moving_image=images[moving_image_index],\n",
    "    fixed_image_mask=(masks[fixed_image_index] == lung_label),\n",
    "    fixed_points=points[fixed_image_index],\n",
    "    moving_points=points[moving_image_index],\n",
    ")\n",
    "(\n",
    "    initial_errors_mean,\n",
    "    initial_errors_std,\n",
    "    _,\n",
    "    initial_errors_max,\n",
    "    initial_errors,\n",
    ") = ru.registration_errors(\n",
    "    sitk.Euler3DTransform(), points[fixed_image_index], points[moving_image_index]\n",
    ")\n",
    "(\n",
    "    final_errors_mean,\n",
    "    final_errors_std,\n",
    "    _,\n",
    "    final_errors_max,\n",
    "    final_errors,\n",
    ") = ru.registration_errors(tx, points[fixed_image_index], points[moving_image_index])\n",
    "\n",
    "plt.hist(initial_errors, bins=20, alpha=0.5, label=\"before registration\", color=\"blue\")\n",
    "plt.hist(final_errors, bins=20, alpha=0.5, label=\"after registration\", color=\"green\")\n",
    "plt.legend()\n",
    "plt.title(\"TRE histogram\")\n",
    "print(\n",
    "    f\"Initial alignment errors in millimeters, mean(std): {initial_errors_mean:.2f}({initial_errors_std:.2f}), max: {initial_errors_max:.2f}\"\n",
    ")\n",
    "print(\n",
    "    f\"Final alignment errors in millimeters, mean(std): {final_errors_mean:.2f}({final_errors_std:.2f}), max: {final_errors_max:.2f}\"\n",
    ")"
   ]
  }
 ],
 "metadata": {
  "kernelspec": {
   "display_name": "Python 3 (ipykernel)",
   "language": "python",
   "name": "python3"
  },
  "language_info": {
   "codemirror_mode": {
    "name": "ipython",
    "version": 3
   },
   "file_extension": ".py",
   "mimetype": "text/x-python",
   "name": "python",
   "nbconvert_exporter": "python",
   "pygments_lexer": "ipython3",
   "version": "3.8.12"
  },
  "widgets": {
   "application/vnd.jupyter.widget-state+json": {
    "state": {
     "003d06a27c514d3e8e1654dc9b5a002d": {
      "model_module": "@jupyter-widgets/base",
      "model_module_version": "1.2.0",
      "model_name": "LayoutModel",
      "state": {
       "_model_module": "@jupyter-widgets/base",
       "_model_module_version": "1.2.0",
       "_model_name": "LayoutModel",
       "_view_count": null,
       "_view_module": "@jupyter-widgets/base",
       "_view_module_version": "1.2.0",
       "_view_name": "LayoutView",
       "align_content": null,
       "align_items": null,
       "align_self": null,
       "border": null,
       "bottom": null,
       "display": null,
       "flex": null,
       "flex_flow": null,
       "grid_area": null,
       "grid_auto_columns": null,
       "grid_auto_flow": null,
       "grid_auto_rows": null,
       "grid_column": null,
       "grid_gap": null,
       "grid_row": null,
       "grid_template_areas": null,
       "grid_template_columns": null,
       "grid_template_rows": null,
       "height": null,
       "justify_content": null,
       "justify_items": null,
       "left": null,
       "margin": null,
       "max_height": null,
       "max_width": null,
       "min_height": null,
       "min_width": null,
       "object_fit": null,
       "object_position": null,
       "order": null,
       "overflow": null,
       "overflow_x": null,
       "overflow_y": null,
       "padding": null,
       "right": null,
       "top": null,
       "visibility": null,
       "width": null
      }
     },
     "12aaaab485ba47a2abe0c329d6b9563e": {
      "model_module": "@jupyter-widgets/base",
      "model_module_version": "1.2.0",
      "model_name": "LayoutModel",
      "state": {
       "_model_module": "@jupyter-widgets/base",
       "_model_module_version": "1.2.0",
       "_model_name": "LayoutModel",
       "_view_count": null,
       "_view_module": "@jupyter-widgets/base",
       "_view_module_version": "1.2.0",
       "_view_name": "LayoutView",
       "align_content": null,
       "align_items": null,
       "align_self": null,
       "border": null,
       "bottom": null,
       "display": null,
       "flex": null,
       "flex_flow": null,
       "grid_area": null,
       "grid_auto_columns": null,
       "grid_auto_flow": null,
       "grid_auto_rows": null,
       "grid_column": null,
       "grid_gap": null,
       "grid_row": null,
       "grid_template_areas": null,
       "grid_template_columns": null,
       "grid_template_rows": null,
       "height": null,
       "justify_content": null,
       "justify_items": null,
       "left": null,
       "margin": null,
       "max_height": null,
       "max_width": null,
       "min_height": null,
       "min_width": null,
       "object_fit": null,
       "object_position": null,
       "order": null,
       "overflow": null,
       "overflow_x": null,
       "overflow_y": null,
       "padding": null,
       "right": null,
       "top": null,
       "visibility": null,
       "width": null
      }
     },
     "14fe7d1fe65c4fa9b1a9764cb986769c": {
      "model_module": "@jupyter-widgets/output",
      "model_module_version": "1.0.0",
      "model_name": "OutputModel",
      "state": {
       "_dom_classes": [],
       "_model_module": "@jupyter-widgets/output",
       "_model_module_version": "1.0.0",
       "_model_name": "OutputModel",
       "_view_count": null,
       "_view_module": "@jupyter-widgets/output",
       "_view_module_version": "1.0.0",
       "_view_name": "OutputView",
       "layout": "IPY_MODEL_169b10c3460f49d5a156aeb1183264cd",
       "msg_id": "",
       "outputs": [
        {
         "data": {
          "image/png": "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\n",
          "text/plain": "<Figure size 432x288 with 1 Axes>"
         },
         "metadata": {
          "needs_background": "light"
         },
         "output_type": "display_data"
        }
       ]
      }
     },
     "169b10c3460f49d5a156aeb1183264cd": {
      "model_module": "@jupyter-widgets/base",
      "model_module_version": "1.2.0",
      "model_name": "LayoutModel",
      "state": {
       "_model_module": "@jupyter-widgets/base",
       "_model_module_version": "1.2.0",
       "_model_name": "LayoutModel",
       "_view_count": null,
       "_view_module": "@jupyter-widgets/base",
       "_view_module_version": "1.2.0",
       "_view_name": "LayoutView",
       "align_content": null,
       "align_items": null,
       "align_self": null,
       "border": null,
       "bottom": null,
       "display": null,
       "flex": null,
       "flex_flow": null,
       "grid_area": null,
       "grid_auto_columns": null,
       "grid_auto_flow": null,
       "grid_auto_rows": null,
       "grid_column": null,
       "grid_gap": null,
       "grid_row": null,
       "grid_template_areas": null,
       "grid_template_columns": null,
       "grid_template_rows": null,
       "height": null,
       "justify_content": null,
       "justify_items": null,
       "left": null,
       "margin": null,
       "max_height": null,
       "max_width": null,
       "min_height": null,
       "min_width": null,
       "object_fit": null,
       "object_position": null,
       "order": null,
       "overflow": null,
       "overflow_x": null,
       "overflow_y": null,
       "padding": null,
       "right": null,
       "top": null,
       "visibility": null,
       "width": null
      }
     },
     "2cfeea739bdb4e959a4d18743e42d947": {
      "model_module": "@jupyter-widgets/controls",
      "model_module_version": "1.5.0",
      "model_name": "IntSliderModel",
      "state": {
       "_dom_classes": [],
       "_model_module": "@jupyter-widgets/controls",
       "_model_module_version": "1.5.0",
       "_model_name": "IntSliderModel",
       "_view_count": null,
       "_view_module": "@jupyter-widgets/controls",
       "_view_module_version": "1.5.0",
       "_view_name": "IntSliderView",
       "continuous_update": true,
       "description": "coronal_slice",
       "description_tooltip": null,
       "disabled": false,
       "layout": "IPY_MODEL_4ac8c5887ed644799899cb1d5c292917",
       "max": 359,
       "min": 0,
       "orientation": "horizontal",
       "readout": true,
       "readout_format": "d",
       "step": 1,
       "style": "IPY_MODEL_a3073e9cd6dd4c00b520165a54d0a1b9",
       "value": 179
      }
     },
     "377e72b94ae44629a3fe3782c85940a0": {
      "model_module": "@jupyter-widgets/controls",
      "model_module_version": "1.5.0",
      "model_name": "IntSliderModel",
      "state": {
       "_dom_classes": [],
       "_model_module": "@jupyter-widgets/controls",
       "_model_module_version": "1.5.0",
       "_model_name": "IntSliderModel",
       "_view_count": null,
       "_view_module": "@jupyter-widgets/controls",
       "_view_module_version": "1.5.0",
       "_view_name": "IntSliderView",
       "continuous_update": true,
       "description": "mask_index",
       "description_tooltip": null,
       "disabled": false,
       "layout": "IPY_MODEL_c510c31033084b0287938a6f232b7606",
       "max": 1,
       "min": 0,
       "orientation": "horizontal",
       "readout": true,
       "readout_format": "d",
       "step": 1,
       "style": "IPY_MODEL_7f6788c42d964bcfa2016a18c5e8a178",
       "value": 0
      }
     },
     "4ac8c5887ed644799899cb1d5c292917": {
      "model_module": "@jupyter-widgets/base",
      "model_module_version": "1.2.0",
      "model_name": "LayoutModel",
      "state": {
       "_model_module": "@jupyter-widgets/base",
       "_model_module_version": "1.2.0",
       "_model_name": "LayoutModel",
       "_view_count": null,
       "_view_module": "@jupyter-widgets/base",
       "_view_module_version": "1.2.0",
       "_view_name": "LayoutView",
       "align_content": null,
       "align_items": null,
       "align_self": null,
       "border": null,
       "bottom": null,
       "display": null,
       "flex": null,
       "flex_flow": null,
       "grid_area": null,
       "grid_auto_columns": null,
       "grid_auto_flow": null,
       "grid_auto_rows": null,
       "grid_column": null,
       "grid_gap": null,
       "grid_row": null,
       "grid_template_areas": null,
       "grid_template_columns": null,
       "grid_template_rows": null,
       "height": null,
       "justify_content": null,
       "justify_items": null,
       "left": null,
       "margin": null,
       "max_height": null,
       "max_width": null,
       "min_height": null,
       "min_width": null,
       "object_fit": null,
       "object_position": null,
       "order": null,
       "overflow": null,
       "overflow_x": null,
       "overflow_y": null,
       "padding": null,
       "right": null,
       "top": null,
       "visibility": null,
       "width": null
      }
     },
     "559c230d585a4f979ec9a341abce3a53": {
      "model_module": "@jupyter-widgets/base",
      "model_module_version": "1.2.0",
      "model_name": "LayoutModel",
      "state": {
       "_model_module": "@jupyter-widgets/base",
       "_model_module_version": "1.2.0",
       "_model_name": "LayoutModel",
       "_view_count": null,
       "_view_module": "@jupyter-widgets/base",
       "_view_module_version": "1.2.0",
       "_view_name": "LayoutView",
       "align_content": null,
       "align_items": null,
       "align_self": null,
       "border": null,
       "bottom": null,
       "display": null,
       "flex": null,
       "flex_flow": null,
       "grid_area": null,
       "grid_auto_columns": null,
       "grid_auto_flow": null,
       "grid_auto_rows": null,
       "grid_column": null,
       "grid_gap": null,
       "grid_row": null,
       "grid_template_areas": null,
       "grid_template_columns": null,
       "grid_template_rows": null,
       "height": null,
       "justify_content": null,
       "justify_items": null,
       "left": null,
       "margin": null,
       "max_height": null,
       "max_width": null,
       "min_height": null,
       "min_width": null,
       "object_fit": null,
       "object_position": null,
       "order": null,
       "overflow": null,
       "overflow_x": null,
       "overflow_y": null,
       "padding": null,
       "right": null,
       "top": null,
       "visibility": null,
       "width": null
      }
     },
     "564003dc4c4b4b4a976cf9462f75ee9a": {
      "model_module": "@jupyter-widgets/controls",
      "model_module_version": "1.5.0",
      "model_name": "SliderStyleModel",
      "state": {
       "_model_module": "@jupyter-widgets/controls",
       "_model_module_version": "1.5.0",
       "_model_name": "SliderStyleModel",
       "_view_count": null,
       "_view_module": "@jupyter-widgets/base",
       "_view_module_version": "1.2.0",
       "_view_name": "StyleView",
       "description_width": "",
       "handle_color": null
      }
     },
     "7f6788c42d964bcfa2016a18c5e8a178": {
      "model_module": "@jupyter-widgets/controls",
      "model_module_version": "1.5.0",
      "model_name": "SliderStyleModel",
      "state": {
       "_model_module": "@jupyter-widgets/controls",
       "_model_module_version": "1.5.0",
       "_model_name": "SliderStyleModel",
       "_view_count": null,
       "_view_module": "@jupyter-widgets/base",
       "_view_module_version": "1.2.0",
       "_view_name": "StyleView",
       "description_width": "",
       "handle_color": null
      }
     },
     "90cb19cbfa9945ceb6b36159af62c334": {
      "model_module": "@jupyter-widgets/base",
      "model_module_version": "1.2.0",
      "model_name": "LayoutModel",
      "state": {
       "_model_module": "@jupyter-widgets/base",
       "_model_module_version": "1.2.0",
       "_model_name": "LayoutModel",
       "_view_count": null,
       "_view_module": "@jupyter-widgets/base",
       "_view_module_version": "1.2.0",
       "_view_name": "LayoutView",
       "align_content": null,
       "align_items": null,
       "align_self": null,
       "border": null,
       "bottom": null,
       "display": null,
       "flex": null,
       "flex_flow": null,
       "grid_area": null,
       "grid_auto_columns": null,
       "grid_auto_flow": null,
       "grid_auto_rows": null,
       "grid_column": null,
       "grid_gap": null,
       "grid_row": null,
       "grid_template_areas": null,
       "grid_template_columns": null,
       "grid_template_rows": null,
       "height": null,
       "justify_content": null,
       "justify_items": null,
       "left": null,
       "margin": null,
       "max_height": null,
       "max_width": null,
       "min_height": null,
       "min_width": null,
       "object_fit": null,
       "object_position": null,
       "order": null,
       "overflow": null,
       "overflow_x": null,
       "overflow_y": null,
       "padding": null,
       "right": null,
       "top": null,
       "visibility": null,
       "width": null
      }
     },
     "927f922cbc0a4bbb8be2ce517c917246": {
      "model_module": "@jupyter-widgets/base",
      "model_module_version": "1.2.0",
      "model_name": "LayoutModel",
      "state": {
       "_model_module": "@jupyter-widgets/base",
       "_model_module_version": "1.2.0",
       "_model_name": "LayoutModel",
       "_view_count": null,
       "_view_module": "@jupyter-widgets/base",
       "_view_module_version": "1.2.0",
       "_view_name": "LayoutView",
       "align_content": null,
       "align_items": null,
       "align_self": null,
       "border": null,
       "bottom": null,
       "display": null,
       "flex": null,
       "flex_flow": null,
       "grid_area": null,
       "grid_auto_columns": null,
       "grid_auto_flow": null,
       "grid_auto_rows": null,
       "grid_column": null,
       "grid_gap": null,
       "grid_row": null,
       "grid_template_areas": null,
       "grid_template_columns": null,
       "grid_template_rows": null,
       "height": null,
       "justify_content": null,
       "justify_items": null,
       "left": null,
       "margin": null,
       "max_height": null,
       "max_width": null,
       "min_height": null,
       "min_width": null,
       "object_fit": null,
       "object_position": null,
       "order": null,
       "overflow": null,
       "overflow_x": null,
       "overflow_y": null,
       "padding": null,
       "right": null,
       "top": null,
       "visibility": null,
       "width": null
      }
     },
     "993894c5955d48bbaffe411ac371ef77": {
      "model_module": "@jupyter-widgets/controls",
      "model_module_version": "1.5.0",
      "model_name": "VBoxModel",
      "state": {
       "_dom_classes": [
        "widget-interact"
       ],
       "_model_module": "@jupyter-widgets/controls",
       "_model_module_version": "1.5.0",
       "_model_name": "VBoxModel",
       "_view_count": null,
       "_view_module": "@jupyter-widgets/controls",
       "_view_module_version": "1.5.0",
       "_view_name": "VBoxView",
       "box_style": "",
       "children": [
        "IPY_MODEL_2cfeea739bdb4e959a4d18743e42d947",
        "IPY_MODEL_377e72b94ae44629a3fe3782c85940a0",
        "IPY_MODEL_ac76fa422e784e2da47122b94c68d8c9"
       ],
       "layout": "IPY_MODEL_003d06a27c514d3e8e1654dc9b5a002d"
      }
     },
     "a3073e9cd6dd4c00b520165a54d0a1b9": {
      "model_module": "@jupyter-widgets/controls",
      "model_module_version": "1.5.0",
      "model_name": "SliderStyleModel",
      "state": {
       "_model_module": "@jupyter-widgets/controls",
       "_model_module_version": "1.5.0",
       "_model_name": "SliderStyleModel",
       "_view_count": null,
       "_view_module": "@jupyter-widgets/base",
       "_view_module_version": "1.2.0",
       "_view_name": "StyleView",
       "description_width": "",
       "handle_color": null
      }
     },
     "ac76fa422e784e2da47122b94c68d8c9": {
      "model_module": "@jupyter-widgets/output",
      "model_module_version": "1.0.0",
      "model_name": "OutputModel",
      "state": {
       "_dom_classes": [],
       "_model_module": "@jupyter-widgets/output",
       "_model_module_version": "1.0.0",
       "_model_name": "OutputModel",
       "_view_count": null,
       "_view_module": "@jupyter-widgets/output",
       "_view_module_version": "1.0.0",
       "_view_name": "OutputView",
       "layout": "IPY_MODEL_559c230d585a4f979ec9a341abce3a53",
       "msg_id": "",
       "outputs": [
        {
         "data": {
          "image/png": "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\n",
          "text/plain": "<Figure size 432x288 with 1 Axes>"
         },
         "metadata": {
          "needs_background": "light"
         },
         "output_type": "display_data"
        }
       ]
      }
     },
     "aefa532acff8423293bcbff05b104b81": {
      "model_module": "@jupyter-widgets/controls",
      "model_module_version": "1.5.0",
      "model_name": "VBoxModel",
      "state": {
       "_dom_classes": [
        "widget-interact"
       ],
       "_model_module": "@jupyter-widgets/controls",
       "_model_module_version": "1.5.0",
       "_model_name": "VBoxModel",
       "_view_count": null,
       "_view_module": "@jupyter-widgets/controls",
       "_view_module_version": "1.5.0",
       "_view_name": "VBoxView",
       "box_style": "",
       "children": [
        "IPY_MODEL_cf7c6ee97195440ca3efa69f1082f4cc",
        "IPY_MODEL_cc78f209b80f4156af0fd9378aa1a714",
        "IPY_MODEL_14fe7d1fe65c4fa9b1a9764cb986769c"
       ],
       "layout": "IPY_MODEL_90cb19cbfa9945ceb6b36159af62c334"
      }
     },
     "c510c31033084b0287938a6f232b7606": {
      "model_module": "@jupyter-widgets/base",
      "model_module_version": "1.2.0",
      "model_name": "LayoutModel",
      "state": {
       "_model_module": "@jupyter-widgets/base",
       "_model_module_version": "1.2.0",
       "_model_name": "LayoutModel",
       "_view_count": null,
       "_view_module": "@jupyter-widgets/base",
       "_view_module_version": "1.2.0",
       "_view_name": "LayoutView",
       "align_content": null,
       "align_items": null,
       "align_self": null,
       "border": null,
       "bottom": null,
       "display": null,
       "flex": null,
       "flex_flow": null,
       "grid_area": null,
       "grid_auto_columns": null,
       "grid_auto_flow": null,
       "grid_auto_rows": null,
       "grid_column": null,
       "grid_gap": null,
       "grid_row": null,
       "grid_template_areas": null,
       "grid_template_columns": null,
       "grid_template_rows": null,
       "height": null,
       "justify_content": null,
       "justify_items": null,
       "left": null,
       "margin": null,
       "max_height": null,
       "max_width": null,
       "min_height": null,
       "min_width": null,
       "object_fit": null,
       "object_position": null,
       "order": null,
       "overflow": null,
       "overflow_x": null,
       "overflow_y": null,
       "padding": null,
       "right": null,
       "top": null,
       "visibility": null,
       "width": null
      }
     },
     "cc78f209b80f4156af0fd9378aa1a714": {
      "model_module": "@jupyter-widgets/controls",
      "model_module_version": "1.5.0",
      "model_name": "IntSliderModel",
      "state": {
       "_dom_classes": [],
       "_model_module": "@jupyter-widgets/controls",
       "_model_module_version": "1.5.0",
       "_model_name": "IntSliderModel",
       "_view_count": null,
       "_view_module": "@jupyter-widgets/controls",
       "_view_module_version": "1.5.0",
       "_view_name": "IntSliderView",
       "continuous_update": true,
       "description": "coronal_slice",
       "description_tooltip": null,
       "disabled": false,
       "layout": "IPY_MODEL_12aaaab485ba47a2abe0c329d6b9563e",
       "max": 359,
       "min": 0,
       "orientation": "horizontal",
       "readout": true,
       "readout_format": "d",
       "step": 1,
       "style": "IPY_MODEL_e24e58c7bf754f36a6f40f8dd96e968b",
       "value": 179
      }
     },
     "cf7c6ee97195440ca3efa69f1082f4cc": {
      "model_module": "@jupyter-widgets/controls",
      "model_module_version": "1.5.0",
      "model_name": "IntSliderModel",
      "state": {
       "_dom_classes": [],
       "_model_module": "@jupyter-widgets/controls",
       "_model_module_version": "1.5.0",
       "_model_name": "IntSliderModel",
       "_view_count": null,
       "_view_module": "@jupyter-widgets/controls",
       "_view_module_version": "1.5.0",
       "_view_name": "IntSliderView",
       "continuous_update": true,
       "description": "temporal_slice",
       "description_tooltip": null,
       "disabled": false,
       "layout": "IPY_MODEL_927f922cbc0a4bbb8be2ce517c917246",
       "max": 9,
       "min": 0,
       "orientation": "horizontal",
       "readout": true,
       "readout_format": "d",
       "step": 1,
       "style": "IPY_MODEL_564003dc4c4b4b4a976cf9462f75ee9a",
       "value": 4
      }
     },
     "e24e58c7bf754f36a6f40f8dd96e968b": {
      "model_module": "@jupyter-widgets/controls",
      "model_module_version": "1.5.0",
      "model_name": "SliderStyleModel",
      "state": {
       "_model_module": "@jupyter-widgets/controls",
       "_model_module_version": "1.5.0",
       "_model_name": "SliderStyleModel",
       "_view_count": null,
       "_view_module": "@jupyter-widgets/base",
       "_view_module_version": "1.2.0",
       "_view_name": "StyleView",
       "description_width": "",
       "handle_color": null
      }
     }
    },
    "version_major": 2,
    "version_minor": 0
   }
  }
 },
 "nbformat": 4,
 "nbformat_minor": 4
}
