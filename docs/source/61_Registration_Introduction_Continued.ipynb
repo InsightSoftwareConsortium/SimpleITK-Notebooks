{
 "cells": [
  {
   "cell_type": "markdown",
   "metadata": {},
   "source": [
    "# Introduction to SimpleITKv4 Registration - Continued\n",
    "\n",
    "\n",
    "## ITK v4 Registration Components \n",
    "<img src=\"ITKv4RegistrationComponentsDiagram.svg\" style=\"width:700px\"/><br><br>\n",
    "\n",
    "\n",
    "Before starting with this notebook, please go over the first introductory notebook found [here](60_Registration_Introduction.ipynb). \n",
    "\n",
    "In this notebook we will visually assess registration by viewing the overlap between images using external viewers.\n",
    "The two viewers we recommend for this task are [ITK-SNAP](http://www.itksnap.org) and [3D Slicer](http://www.slicer.org/). ITK-SNAP supports concurrent linked viewing between multiple instances of the program. 3D Slicer supports concurrent viewing of multiple volumes via alpha blending."
   ]
  },
  {
   "cell_type": "code",
   "execution_count": 1,
   "metadata": {
    "execution": {
     "iopub.execute_input": "2021-10-28T18:12:15.656794Z",
     "iopub.status.busy": "2021-10-28T18:12:15.654390Z",
     "iopub.status.idle": "2021-10-28T18:12:16.042557Z",
     "shell.execute_reply": "2021-10-28T18:12:16.042908Z"
    }
   },
   "outputs": [],
   "source": [
    "import SimpleITK as sitk\n",
    "\n",
    "# If the environment variable SIMPLE_ITK_MEMORY_CONSTRAINED_ENVIRONMENT is set, this will override the ReadImage\n",
    "# function so that it also resamples the image to a smaller size (testing environment is memory constrained).\n",
    "%run setup_for_testing\n",
    "\n",
    "# Utility method that either downloads data from the network or\n",
    "# if already downloaded returns the file name for reading from disk (cached data).\n",
    "%run update_path_to_download_script\n",
    "from downloaddata import fetch_data as fdata\n",
    "\n",
    "# Always write output to a separate directory, we don't want to pollute the source directory.\n",
    "import os\n",
    "\n",
    "OUTPUT_DIR = \"Output\"\n",
    "\n",
    "# GUI components (sliders, dropdown...).\n",
    "from ipywidgets import interact, fixed\n",
    "\n",
    "# Enable display of HTML.\n",
    "from IPython.display import display, HTML\n",
    "\n",
    "# Plots will be inlined.\n",
    "%matplotlib inline\n",
    "\n",
    "# Callbacks for plotting registration progress.\n",
    "import registration_callbacks"
   ]
  },
  {
   "cell_type": "markdown",
   "metadata": {},
   "source": [
    "## Utility functions\n",
    "A number of utility functions, saving a transform and corresponding resampled image, callback for selecting a \n",
    "DICOM series from several series found in the same directory."
   ]
  },
  {
   "cell_type": "code",
   "execution_count": 2,
   "metadata": {
    "execution": {
     "iopub.execute_input": "2021-10-28T18:12:16.049494Z",
     "iopub.status.busy": "2021-10-28T18:12:16.049043Z",
     "iopub.status.idle": "2021-10-28T18:12:16.050378Z",
     "shell.execute_reply": "2021-10-28T18:12:16.050633Z"
    }
   },
   "outputs": [],
   "source": [
    "def save_transform_and_image(transform, fixed_image, moving_image, outputfile_prefix):\n",
    "    \"\"\"\n",
    "    Write the given transformation to file, resample the moving_image onto the fixed_images grid and save the\n",
    "    result to file.\n",
    "\n",
    "    Args:\n",
    "        transform (SimpleITK Transform): transform that maps points from the fixed image coordinate system to the moving.\n",
    "        fixed_image (SimpleITK Image): resample onto the spatial grid defined by this image.\n",
    "        moving_image (SimpleITK Image): resample this image.\n",
    "        outputfile_prefix (string): transform is written to outputfile_prefix.tfm and resampled image is written to\n",
    "                                    outputfile_prefix.mha.\n",
    "    \"\"\"\n",
    "    resample = sitk.ResampleImageFilter()\n",
    "    resample.SetReferenceImage(fixed_image)\n",
    "\n",
    "    # SimpleITK supports several interpolation options, we go with the simplest that gives reasonable results.\n",
    "    resample.SetInterpolator(sitk.sitkLinear)\n",
    "    resample.SetTransform(transform)\n",
    "    sitk.WriteImage(resample.Execute(moving_image), outputfile_prefix + \".mha\")\n",
    "    sitk.WriteTransform(transform, outputfile_prefix + \".tfm\")\n",
    "\n",
    "\n",
    "def DICOM_series_dropdown_callback(fixed_image, moving_image, series_dictionary):\n",
    "    \"\"\"\n",
    "    Callback from dropbox which selects the two series which will be used for registration.\n",
    "    The callback prints out some information about each of the series from the meta-data dictionary.\n",
    "    For a list of all meta-dictionary tags and their human readable names see DICOM standard part 6,\n",
    "    Data Dictionary (http://medical.nema.org/medical/dicom/current/output/pdf/part06.pdf)\n",
    "    \"\"\"\n",
    "    # The callback will update these global variables with the user selection.\n",
    "    global selected_series_fixed\n",
    "    global selected_series_moving\n",
    "\n",
    "    img_fixed = sitk.ReadImage(series_dictionary[fixed_image][0])\n",
    "    img_moving = sitk.ReadImage(series_dictionary[moving_image][0])\n",
    "\n",
    "    # There are many interesting tags in the DICOM data dictionary, display a selected few.\n",
    "    tags_to_print = {\n",
    "        \"0010|0010\": \"Patient name: \",\n",
    "        \"0008|0060\": \"Modality: \",\n",
    "        \"0008|0021\": \"Series date: \",\n",
    "        \"0008|0031\": \"Series time:\",\n",
    "        \"0008|0070\": \"Manufacturer: \",\n",
    "    }\n",
    "    html_table = []\n",
    "    html_table.append(\n",
    "        \"<table><tr><td><b>Tag</b></td><td><b>Fixed Image</b></td><td><b>Moving Image</b></td></tr>\"\n",
    "    )\n",
    "    for tag in tags_to_print:\n",
    "        fixed_tag = \"\"\n",
    "        moving_tag = \"\"\n",
    "        try:\n",
    "            fixed_tag = img_fixed.GetMetaData(tag)\n",
    "        except:  # ignore if the tag isn't in the dictionary\n",
    "            pass\n",
    "        try:\n",
    "            moving_tag = img_moving.GetMetaData(tag)\n",
    "        except:  # ignore if the tag isn't in the dictionary\n",
    "            pass\n",
    "        html_table.append(\n",
    "            \"<tr><td>\"\n",
    "            + tags_to_print[tag]\n",
    "            + \"</td><td>\"\n",
    "            + fixed_tag\n",
    "            + \"</td><td>\"\n",
    "            + moving_tag\n",
    "            + \"</td></tr>\"\n",
    "        )\n",
    "    html_table.append(\"</table>\")\n",
    "    display(HTML(\"\".join(html_table)))\n",
    "    selected_series_fixed = fixed_image\n",
    "    selected_series_moving = moving_image"
   ]
  },
  {
   "cell_type": "markdown",
   "metadata": {},
   "source": [
    "## Loading Data\n",
    "\n",
    "In this notebook we will work with CT and MR scans of the CIRS 057A multi-modality abdominal phantom. The scans are multi-slice DICOM images. The data is stored in a zip archive which is automatically retrieved and extracted when we request a file which is part of the archive."
   ]
  },
  {
   "cell_type": "code",
   "execution_count": 3,
   "metadata": {
    "execution": {
     "iopub.execute_input": "2021-10-28T18:12:16.054371Z",
     "iopub.status.busy": "2021-10-28T18:12:16.053961Z",
     "iopub.status.idle": "2021-10-28T18:12:17.349437Z",
     "shell.execute_reply": "2021-10-28T18:12:17.349754Z"
    }
   },
   "outputs": [
    {
     "name": "stdout",
     "output_type": "stream",
     "text": [
      "Fetching CIRS057A_MR_CT_DICOM/readme.txt\n"
     ]
    },
    {
     "data": {
      "application/vnd.jupyter.widget-view+json": {
       "model_id": "2a0e12da633d4a5e8bf8a4590704b292",
       "version_major": 2,
       "version_minor": 0
      },
      "text/plain": [
       "interactive(children=(Dropdown(description='fixed_image', options=('1.2.840.113619.2.290.3.3233817346.783.1399…"
      ]
     },
     "metadata": {},
     "output_type": "display_data"
    }
   ],
   "source": [
    "data_directory = os.path.dirname(fdata(\"CIRS057A_MR_CT_DICOM/readme.txt\"))\n",
    "\n",
    "# 'selected_series_moving/fixed' will be updated by the interact function.\n",
    "selected_series_fixed = \"\"\n",
    "selected_series_moving = \"\"\n",
    "\n",
    "# Directory contains multiple DICOM studies/series, store the file names\n",
    "# in dictionary with the key being the series ID.\n",
    "reader = sitk.ImageSeriesReader()\n",
    "series_file_names = {}\n",
    "series_IDs = list(reader.GetGDCMSeriesIDs(data_directory))  # list of all series\n",
    "\n",
    "if series_IDs:  # check that we have at least one series\n",
    "    for series in series_IDs:\n",
    "        series_file_names[series] = reader.GetGDCMSeriesFileNames(\n",
    "            data_directory, series\n",
    "        )\n",
    "    interact(\n",
    "        DICOM_series_dropdown_callback,\n",
    "        fixed_image=series_IDs,\n",
    "        moving_image=series_IDs,\n",
    "        series_dictionary=fixed(series_file_names),\n",
    "    )\n",
    "else:\n",
    "    print(\"This is surprising, data directory does not contain any DICOM series.\")"
   ]
  },
  {
   "cell_type": "code",
   "execution_count": 4,
   "metadata": {
    "execution": {
     "iopub.execute_input": "2021-10-28T18:12:17.353828Z",
     "iopub.status.busy": "2021-10-28T18:12:17.353312Z",
     "iopub.status.idle": "2021-10-28T18:12:18.508428Z",
     "shell.execute_reply": "2021-10-28T18:12:18.508687Z"
    }
   },
   "outputs": [],
   "source": [
    "# Actually read the data based on the user's selection.\n",
    "fixed_image = sitk.ReadImage(series_file_names[selected_series_fixed])\n",
    "moving_image = sitk.ReadImage(series_file_names[selected_series_moving])\n",
    "\n",
    "# Save images to file and view overlap using external viewer.\n",
    "sitk.WriteImage(fixed_image, os.path.join(OUTPUT_DIR, \"fixedImage.mha\"))\n",
    "sitk.WriteImage(moving_image, os.path.join(OUTPUT_DIR, \"preAlignment.mha\"))"
   ]
  },
  {
   "cell_type": "markdown",
   "metadata": {},
   "source": [
    "## Initial Alignment\n",
    "\n",
    "A reasonable guesstimate for the initial translational alignment can be obtained by using\n",
    "the CenteredTransformInitializer (functional interface to the CenteredTransformInitializerFilter). \n",
    "\n",
    "The resulting transformation is centered with respect to the fixed image and the\n",
    "translation aligns the centers of the two images. There are two options for\n",
    "defining the centers of the images, either the physical centers\n",
    "of the two data sets (GEOMETRY), or the centers defined by the intensity \n",
    "moments (MOMENTS).\n",
    "\n",
    "Two things to note about this filter, it requires the fixed and moving image \n",
    "have the same type even though it is not algorithmically required, and its\n",
    "return type is the generic SimpleITK.Transform."
   ]
  },
  {
   "cell_type": "code",
   "execution_count": 5,
   "metadata": {
    "execution": {
     "iopub.execute_input": "2021-10-28T18:12:18.511700Z",
     "iopub.status.busy": "2021-10-28T18:12:18.511308Z",
     "iopub.status.idle": "2021-10-28T18:12:19.013775Z",
     "shell.execute_reply": "2021-10-28T18:12:19.014031Z"
    }
   },
   "outputs": [],
   "source": [
    "initial_transform = sitk.CenteredTransformInitializer(\n",
    "    sitk.Cast(fixed_image, moving_image.GetPixelID()),\n",
    "    moving_image,\n",
    "    sitk.Euler3DTransform(),\n",
    "    sitk.CenteredTransformInitializerFilter.GEOMETRY,\n",
    ")\n",
    "\n",
    "# Save moving image after initial transform and view overlap using external viewer.\n",
    "save_transform_and_image(\n",
    "    initial_transform,\n",
    "    fixed_image,\n",
    "    moving_image,\n",
    "    os.path.join(OUTPUT_DIR, \"initialAlignment\"),\n",
    ")"
   ]
  },
  {
   "cell_type": "markdown",
   "metadata": {},
   "source": [
    "Look at the transformation, what type is it?"
   ]
  },
  {
   "cell_type": "code",
   "execution_count": 6,
   "metadata": {
    "execution": {
     "iopub.execute_input": "2021-10-28T18:12:19.016631Z",
     "iopub.status.busy": "2021-10-28T18:12:19.016227Z",
     "iopub.status.idle": "2021-10-28T18:12:19.017755Z",
     "shell.execute_reply": "2021-10-28T18:12:19.017994Z"
    }
   },
   "outputs": [
    {
     "name": "stdout",
     "output_type": "stream",
     "text": [
      "itk::simple::Transform\n",
      " Euler3DTransform (0x7ff71b53d0d0)\n",
      "   RTTI typeinfo:   itk::Euler3DTransform<double>\n",
      "   Reference Count: 1\n",
      "   Modified Time: 21285\n",
      "   Debug: Off\n",
      "   Object Name: \n",
      "   Observers: \n",
      "     none\n",
      "   Matrix: \n",
      "     1 0 0 \n",
      "     0 1 0 \n",
      "     0 0 1 \n",
      "   Offset: [0, 0, 0]\n",
      "   Center: [-0.328125, -0.328125, -106.875]\n",
      "   Translation: [0, 0, 0]\n",
      "   Inverse: \n",
      "     1 0 0 \n",
      "     0 1 0 \n",
      "     0 0 1 \n",
      "   Singular: 0\n",
      "   Euler's angles: AngleX=0 AngleY=0 AngleZ=0\n",
      "   m_ComputeZYX = 0\n",
      "\n"
     ]
    }
   ],
   "source": [
    "print(initial_transform)"
   ]
  },
  {
   "cell_type": "markdown",
   "metadata": {},
   "source": [
    "## Final registration"
   ]
  },
  {
   "cell_type": "markdown",
   "metadata": {},
   "source": [
    "### Version 1\n",
    "<ul>\n",
    "<li> Single scale (not using image pyramid).</li>\n",
    "<li> Initial transformation is not modified in place.</li>\n",
    "</ul>\n",
    "\n",
    "<ol>\n",
    "<li>\n",
    "Illustrate the need for scaling the step size differently for each parameter:\n",
    "<ul>\n",
    "<li> SetOptimizerScalesFromIndexShift - estimated from maximum shift of voxel indexes (only use if data is isotropic).</li>\n",
    "<li> SetOptimizerScalesFromPhysicalShift - estimated from maximum shift of physical locations of voxels.</li>\n",
    "<li> SetOptimizerScalesFromJacobian - estimated from the averaged squared norm of the Jacobian w.r.t. parameters.</li>\n",
    "</ul>\n",
    "</li>\n",
    "<li>\n",
    "Look at the optimizer's stopping condition to ensure we have not terminated prematurely.\n",
    "</li>\n",
    "</ol>"
   ]
  },
  {
   "cell_type": "code",
   "execution_count": 7,
   "metadata": {
    "execution": {
     "iopub.execute_input": "2021-10-28T18:12:19.021968Z",
     "iopub.status.busy": "2021-10-28T18:12:19.019354Z",
     "iopub.status.idle": "2021-10-28T18:12:25.791049Z",
     "shell.execute_reply": "2021-10-28T18:12:25.791292Z"
    }
   },
   "outputs": [
    {
     "data": {
      "image/png": "[encoded data removed]",
      "text/plain": [
       "<Figure size 432x288 with 1 Axes>"
      ]
     },
     "metadata": {
      "needs_background": "light"
     },
     "output_type": "display_data"
    }
   ],
   "source": [
    "registration_method = sitk.ImageRegistrationMethod()\n",
    "\n",
    "registration_method.SetMetricAsMattesMutualInformation(numberOfHistogramBins=50)\n",
    "registration_method.SetMetricSamplingStrategy(registration_method.RANDOM)\n",
    "registration_method.SetMetricSamplingPercentage(0.01)\n",
    "\n",
    "registration_method.SetInterpolator(sitk.sitkLinear)\n",
    "\n",
    "registration_method.SetOptimizerAsGradientDescent(\n",
    "    learningRate=1.0, numberOfIterations=100\n",
    ")\n",
    "# Scale the step size differently for each parameter, this is critical!!!\n",
    "registration_method.SetOptimizerScalesFromPhysicalShift()\n",
    "\n",
    "registration_method.SetInitialTransform(initial_transform, inPlace=False)\n",
    "\n",
    "registration_method.AddCommand(\n",
    "    sitk.sitkStartEvent, registration_callbacks.metric_start_plot\n",
    ")\n",
    "registration_method.AddCommand(\n",
    "    sitk.sitkEndEvent, registration_callbacks.metric_end_plot\n",
    ")\n",
    "registration_method.AddCommand(\n",
    "    sitk.sitkIterationEvent,\n",
    "    lambda: registration_callbacks.metric_plot_values(registration_method),\n",
    ")\n",
    "\n",
    "final_transform_v1 = registration_method.Execute(\n",
    "    sitk.Cast(fixed_image, sitk.sitkFloat32), sitk.Cast(moving_image, sitk.sitkFloat32)\n",
    ")"
   ]
  },
  {
   "cell_type": "code",
   "execution_count": 8,
   "metadata": {
    "execution": {
     "iopub.execute_input": "2021-10-28T18:12:25.803328Z",
     "iopub.status.busy": "2021-10-28T18:12:25.794335Z",
     "iopub.status.idle": "2021-10-28T18:12:26.367876Z",
     "shell.execute_reply": "2021-10-28T18:12:26.368147Z"
    }
   },
   "outputs": [
    {
     "name": "stdout",
     "output_type": "stream",
     "text": [
      "Optimizer's stopping condition, GradientDescentOptimizerv4Template: Convergence checker passed at iteration 9.\n",
      "Final metric value: -0.886216286133825\n"
     ]
    }
   ],
   "source": [
    "print(\n",
    "    f\"Optimizer's stopping condition, {registration_method.GetOptimizerStopConditionDescription()}\"\n",
    ")\n",
    "print(f\"Final metric value: {registration_method.GetMetricValue()}\")\n",
    "\n",
    "# Save moving image after registration and view overlap using external viewer.\n",
    "save_transform_and_image(\n",
    "    final_transform_v1,\n",
    "    fixed_image,\n",
    "    moving_image,\n",
    "    os.path.join(OUTPUT_DIR, \"finalAlignment-v1\"),\n",
    ")"
   ]
  },
  {
   "cell_type": "markdown",
   "metadata": {},
   "source": [
    "Look at the final transformation, what type is it?"
   ]
  },
  {
   "cell_type": "code",
   "execution_count": 9,
   "metadata": {
    "execution": {
     "iopub.execute_input": "2021-10-28T18:12:26.370616Z",
     "iopub.status.busy": "2021-10-28T18:12:26.370152Z",
     "iopub.status.idle": "2021-10-28T18:12:26.371754Z",
     "shell.execute_reply": "2021-10-28T18:12:26.371992Z"
    }
   },
   "outputs": [
    {
     "name": "stdout",
     "output_type": "stream",
     "text": [
      "itk::simple::Transform\n",
      " CompositeTransform (0x7ff71b65b5d0)\n",
      "   RTTI typeinfo:   itk::CompositeTransform<double, 3u>\n",
      "   Reference Count: 1\n",
      "   Modified Time: 1506259\n",
      "   Debug: Off\n",
      "   Object Name: \n",
      "   Observers: \n",
      "     none\n",
      "   Transforms in queue, from begin to end:\n",
      "   >>>>>>>>>\n",
      "   Euler3DTransform (0x7ff72a7cf690)\n",
      "     RTTI typeinfo:   itk::Euler3DTransform<double>\n",
      "     Reference Count: 1\n",
      "     Modified Time: 1506100\n",
      "     Debug: Off\n",
      "     Object Name: \n",
      "     Observers: \n",
      "       none\n",
      "     Matrix: \n",
      "       1 -0.00010226 0.000203567 \n",
      "       0.000102053 0.999999 0.00101853 \n",
      "       -0.000203671 -0.00101851 0.999999 \n",
      "     Offset: [-0.685412, 4.0646, -2.01793]\n",
      "     Center: [-0.328125, -0.328125, -106.875]\n",
      "     Translation: [-0.707135, 3.95571, -2.01748]\n",
      "     Inverse: \n",
      "       1 0.000102053 -0.000203671 \n",
      "       -0.00010226 0.999999 -0.00101851 \n",
      "       0.000203567 0.00101853 0.999999 \n",
      "     Singular: 0\n",
      "     Euler's angles: AngleX=-0.00101851 AngleY=0.000203671 AngleZ=0.00010226\n",
      "     m_ComputeZYX = 0\n",
      "   End of MultiTransform.\n",
      "<<<<<<<<<<\n",
      "   TransformsToOptimizeFlags, begin() to end(): \n",
      "      1 \n",
      "   TransformsToOptimize in queue, from begin to end:\n",
      "   End of TransformsToOptimizeQueue.\n",
      "<<<<<<<<<<\n",
      "   End of CompositeTransform.\n",
      "<<<<<<<<<<\n",
      "\n"
     ]
    }
   ],
   "source": [
    "print(final_transform_v1)"
   ]
  },
  {
   "cell_type": "markdown",
   "metadata": {},
   "source": [
    "### Version 1.1\n",
    "\n",
    "The previous example illustrated the use of the ITK v4 registration framework in an ITK v3 manner. We only referred to a single transformation which was what we optimized.\n",
    "\n",
    "In ITK v4 the registration method accepts three transformations (if you look at the diagram above you will only see two transformations, Moving transform represents $T_{opt} \\circ T_m$):\n",
    "<ul>\n",
    "<li>\n",
    "SetInitialTransform, $T_{opt}$ - composed with the moving initial transform, maps points from the virtual image domain to the moving image domain, modified during optimization. \n",
    "</li>\n",
    "<li>\n",
    "SetFixedInitialTransform $T_f$- maps points from the virtual image domain to the fixed image domain, never modified.\n",
    "</li>\n",
    "<li>\n",
    "SetMovingInitialTransform $T_m$- maps points from the virtual image domain to the moving image domain, never modified.\n",
    "</li>\n",
    "</ul>\n",
    "\n",
    "The transformation that maps points from the fixed to moving image domains is thus: $^M\\mathbf{p}  = T_{opt}(T_m(T_f^{-1}(^F\\mathbf{p})))$\n",
    "\n",
    "We now modify the previous example to use $T_{opt}$ and $T_m$."
   ]
  },
  {
   "cell_type": "code",
   "execution_count": 10,
   "metadata": {
    "execution": {
     "iopub.execute_input": "2021-10-28T18:12:26.375807Z",
     "iopub.status.busy": "2021-10-28T18:12:26.373361Z",
     "iopub.status.idle": "2021-10-28T18:12:32.931424Z",
     "shell.execute_reply": "2021-10-28T18:12:32.931668Z"
    }
   },
   "outputs": [
    {
     "data": {
      "image/png": "[encoded data removed]",
      "text/plain": [
       "<Figure size 432x288 with 1 Axes>"
      ]
     },
     "metadata": {
      "needs_background": "light"
     },
     "output_type": "display_data"
    }
   ],
   "source": [
    "registration_method = sitk.ImageRegistrationMethod()\n",
    "registration_method.SetMetricAsMattesMutualInformation(numberOfHistogramBins=50)\n",
    "registration_method.SetMetricSamplingStrategy(registration_method.RANDOM)\n",
    "registration_method.SetMetricSamplingPercentage(0.01)\n",
    "registration_method.SetInterpolator(sitk.sitkLinear)\n",
    "registration_method.SetOptimizerAsGradientDescent(\n",
    "    learningRate=1.0, numberOfIterations=100\n",
    ")\n",
    "registration_method.SetOptimizerScalesFromPhysicalShift()\n",
    "\n",
    "# Set the initial moving and optimized transforms.\n",
    "optimized_transform = sitk.Euler3DTransform()\n",
    "registration_method.SetMovingInitialTransform(initial_transform)\n",
    "registration_method.SetInitialTransform(optimized_transform)\n",
    "\n",
    "registration_method.AddCommand(\n",
    "    sitk.sitkStartEvent, registration_callbacks.metric_start_plot\n",
    ")\n",
    "registration_method.AddCommand(\n",
    "    sitk.sitkEndEvent, registration_callbacks.metric_end_plot\n",
    ")\n",
    "registration_method.AddCommand(\n",
    "    sitk.sitkIterationEvent,\n",
    "    lambda: registration_callbacks.metric_plot_values(registration_method),\n",
    ")\n",
    "\n",
    "registration_method.Execute(\n",
    "    sitk.Cast(fixed_image, sitk.sitkFloat32), sitk.Cast(moving_image, sitk.sitkFloat32)\n",
    ")\n",
    "\n",
    "# Need to compose the transformations after registration.\n",
    "final_transform_v11 = sitk.CompositeTransform(optimized_transform)\n",
    "final_transform_v11.AddTransform(initial_transform)"
   ]
  },
  {
   "cell_type": "code",
   "execution_count": 11,
   "metadata": {
    "execution": {
     "iopub.execute_input": "2021-10-28T18:12:32.943948Z",
     "iopub.status.busy": "2021-10-28T18:12:32.934125Z",
     "iopub.status.idle": "2021-10-28T18:12:33.448116Z",
     "shell.execute_reply": "2021-10-28T18:12:33.448381Z"
    }
   },
   "outputs": [
    {
     "name": "stdout",
     "output_type": "stream",
     "text": [
      "Optimizer's stopping condition, GradientDescentOptimizerv4Template: Convergence checker passed at iteration 9.\n",
      "Final metric value: -0.9854007478407427\n"
     ]
    }
   ],
   "source": [
    "print(\n",
    "    f\"Optimizer's stopping condition, {registration_method.GetOptimizerStopConditionDescription()}\"\n",
    ")\n",
    "print(f\"Final metric value: {registration_method.GetMetricValue()}\")\n",
    "\n",
    "# Save moving image after registration and view overlap using external viewer.\n",
    "save_transform_and_image(\n",
    "    final_transform_v11,\n",
    "    fixed_image,\n",
    "    moving_image,\n",
    "    os.path.join(OUTPUT_DIR, \"finalAlignment-v1.1\"),\n",
    ")"
   ]
  },
  {
   "cell_type": "markdown",
   "metadata": {},
   "source": [
    "Look at the final transformation, what type is it? Why is it different from the previous example?"
   ]
  },
  {
   "cell_type": "code",
   "execution_count": 12,
   "metadata": {
    "execution": {
     "iopub.execute_input": "2021-10-28T18:12:33.450686Z",
     "iopub.status.busy": "2021-10-28T18:12:33.450284Z",
     "iopub.status.idle": "2021-10-28T18:12:33.451975Z",
     "shell.execute_reply": "2021-10-28T18:12:33.452231Z"
    }
   },
   "outputs": [
    {
     "name": "stdout",
     "output_type": "stream",
     "text": [
      "itk::simple::CompositeTransform\n",
      " CompositeTransform (0x7ff71a7a80c0)\n",
      "   RTTI typeinfo:   itk::CompositeTransform<double, 3u>\n",
      "   Reference Count: 1\n",
      "   Modified Time: 2991258\n",
      "   Debug: Off\n",
      "   Object Name: \n",
      "   Observers: \n",
      "     none\n",
      "   Transforms in queue, from begin to end:\n",
      "   >>>>>>>>>\n",
      "   Euler3DTransform (0x7ff72a794350)\n",
      "     RTTI typeinfo:   itk::Euler3DTransform<double>\n",
      "     Reference Count: 3\n",
      "     Modified Time: 2991084\n",
      "     Debug: Off\n",
      "     Object Name: \n",
      "     Observers: \n",
      "       none\n",
      "     Matrix: \n",
      "       1 6.70408e-05 -5.13802e-06 \n",
      "       -6.70416e-05 1 -0.000142918 \n",
      "       5.12844e-06 0.000142919 1 \n",
      "     Offset: [-0.101232, -2.69489, -0.808352]\n",
      "     Center: [-0.328125, -0.328125, -106.875]\n",
      "     Translation: [-0.100705, -2.67959, -0.8084]\n",
      "     Inverse: \n",
      "       1 -6.70416e-05 5.12844e-06 \n",
      "       6.70408e-05 1 0.000142919 \n",
      "       -5.13802e-06 -0.000142918 1 \n",
      "     Singular: 0\n",
      "     Euler's angles: AngleX=0.000142919 AngleY=-5.12844e-06 AngleZ=-6.70408e-05\n",
      "     m_ComputeZYX = 0\n",
      "   >>>>>>>>>\n",
      "   Euler3DTransform (0x7ff72a890fe0)\n",
      "     RTTI typeinfo:   itk::Euler3DTransform<double>\n",
      "     Reference Count: 1\n",
      "     Modified Time: 2991254\n",
      "     Debug: Off\n",
      "     Object Name: \n",
      "     Observers: \n",
      "       none\n",
      "     Matrix: \n",
      "       1 0 0 \n",
      "       0 1 0 \n",
      "       0 0 1 \n",
      "     Offset: [0, 0, 0]\n",
      "     Center: [-0.328125, -0.328125, -106.875]\n",
      "     Translation: [0, 0, 0]\n",
      "     Inverse: \n",
      "       1 0 0 \n",
      "       0 1 0 \n",
      "       0 0 1 \n",
      "     Singular: 0\n",
      "     Euler's angles: AngleX=0 AngleY=0 AngleZ=0\n",
      "     m_ComputeZYX = 0\n",
      "   End of MultiTransform.\n",
      "<<<<<<<<<<\n",
      "   TransformsToOptimizeFlags, begin() to end(): \n",
      "      0 1 \n",
      "   TransformsToOptimize in queue, from begin to end:\n",
      "   End of TransformsToOptimizeQueue.\n",
      "<<<<<<<<<<\n",
      "   End of CompositeTransform.\n",
      "<<<<<<<<<<\n",
      "\n"
     ]
    }
   ],
   "source": [
    "print(final_transform_v11)"
   ]
  },
  {
   "cell_type": "markdown",
   "metadata": {},
   "source": [
    "### Version 2\n",
    "\n",
    "<ul>\n",
    "<li> Multi scale - specify both scale, and how much to smooth with respect to original image.</li>\n",
    "<li> Initial transformation modified in place, so in the end we have the same type of transformation in hand.</li>\n",
    "</ul>"
   ]
  },
  {
   "cell_type": "code",
   "execution_count": 13,
   "metadata": {
    "execution": {
     "iopub.execute_input": "2021-10-28T18:12:33.458370Z",
     "iopub.status.busy": "2021-10-28T18:12:33.456705Z",
     "iopub.status.idle": "2021-10-28T18:12:53.974434Z",
     "shell.execute_reply": "2021-10-28T18:12:53.974693Z"
    }
   },
   "outputs": [
    {
     "data": {
      "image/png": "[encoded data removed]",
      "text/plain": [
       "<Figure size 432x288 with 1 Axes>"
      ]
     },
     "metadata": {
      "needs_background": "light"
     },
     "output_type": "display_data"
    },
    {
     "data": {
      "text/plain": [
       "<SimpleITK.SimpleITK.Transform; proxy of <Swig Object of type 'itk::simple::Transform *' at 0x7ff7102bb600> >"
      ]
     },
     "execution_count": 13,
     "metadata": {},
     "output_type": "execute_result"
    }
   ],
   "source": [
    "registration_method = sitk.ImageRegistrationMethod()\n",
    "\n",
    "registration_method.SetMetricAsMattesMutualInformation(numberOfHistogramBins=50)\n",
    "registration_method.SetMetricSamplingStrategy(registration_method.RANDOM)\n",
    "registration_method.SetMetricSamplingPercentage(0.01)\n",
    "\n",
    "registration_method.SetInterpolator(sitk.sitkLinear)\n",
    "\n",
    "registration_method.SetOptimizerAsGradientDescent(\n",
    "    learningRate=1.0, numberOfIterations=100\n",
    ")  # , estimateLearningRate=registration_method.EachIteration)\n",
    "registration_method.SetOptimizerScalesFromPhysicalShift()\n",
    "\n",
    "final_transform = sitk.Euler3DTransform(initial_transform)\n",
    "registration_method.SetInitialTransform(final_transform)\n",
    "registration_method.SetShrinkFactorsPerLevel(shrinkFactors=[4, 2, 1])\n",
    "registration_method.SetSmoothingSigmasPerLevel(smoothingSigmas=[2, 1, 0])\n",
    "registration_method.SmoothingSigmasAreSpecifiedInPhysicalUnitsOn()\n",
    "\n",
    "registration_method.AddCommand(\n",
    "    sitk.sitkStartEvent, registration_callbacks.metric_start_plot\n",
    ")\n",
    "registration_method.AddCommand(\n",
    "    sitk.sitkEndEvent, registration_callbacks.metric_end_plot\n",
    ")\n",
    "registration_method.AddCommand(\n",
    "    sitk.sitkMultiResolutionIterationEvent,\n",
    "    registration_callbacks.metric_update_multires_iterations,\n",
    ")\n",
    "registration_method.AddCommand(\n",
    "    sitk.sitkIterationEvent,\n",
    "    lambda: registration_callbacks.metric_plot_values(registration_method),\n",
    ")\n",
    "\n",
    "registration_method.Execute(\n",
    "    sitk.Cast(fixed_image, sitk.sitkFloat32), sitk.Cast(moving_image, sitk.sitkFloat32)\n",
    ")"
   ]
  },
  {
   "cell_type": "code",
   "execution_count": 14,
   "metadata": {
    "execution": {
     "iopub.execute_input": "2021-10-28T18:12:53.993145Z",
     "iopub.status.busy": "2021-10-28T18:12:53.977221Z",
     "iopub.status.idle": "2021-10-28T18:12:54.484323Z",
     "shell.execute_reply": "2021-10-28T18:12:54.484585Z"
    }
   },
   "outputs": [
    {
     "name": "stdout",
     "output_type": "stream",
     "text": [
      "Optimizer's stopping condition, GradientDescentOptimizerv4Template: Convergence checker passed at iteration 11.\n",
      "Final metric value: -0.8570790632194539\n"
     ]
    }
   ],
   "source": [
    "print(\n",
    "    f\"Optimizer's stopping condition, {registration_method.GetOptimizerStopConditionDescription()}\"\n",
    ")\n",
    "print(f\"Final metric value: {registration_method.GetMetricValue()}\")\n",
    "\n",
    "# Save moving image after registration and view overlap using external viewer.\n",
    "save_transform_and_image(\n",
    "    final_transform,\n",
    "    fixed_image,\n",
    "    moving_image,\n",
    "    os.path.join(OUTPUT_DIR, \"finalAlignment-v2\"),\n",
    ")"
   ]
  },
  {
   "cell_type": "markdown",
   "metadata": {},
   "source": [
    "Look at the final transformation, what type is it?"
   ]
  },
  {
   "cell_type": "code",
   "execution_count": 15,
   "metadata": {
    "execution": {
     "iopub.execute_input": "2021-10-28T18:12:54.486941Z",
     "iopub.status.busy": "2021-10-28T18:12:54.486551Z",
     "iopub.status.idle": "2021-10-28T18:12:54.488170Z",
     "shell.execute_reply": "2021-10-28T18:12:54.488448Z"
    }
   },
   "outputs": [
    {
     "name": "stdout",
     "output_type": "stream",
     "text": [
      "itk::simple::Euler3DTransform\n",
      " Euler3DTransform (0x7ff72a815c70)\n",
      "   RTTI typeinfo:   itk::Euler3DTransform<double>\n",
      "   Reference Count: 3\n",
      "   Modified Time: 4687540\n",
      "   Debug: Off\n",
      "   Object Name: \n",
      "   Observers: \n",
      "     none\n",
      "   Matrix: \n",
      "     0.999999 0.0011999 -0.000382501 \n",
      "     -0.00120134 0.999992 -0.00376291 \n",
      "     0.000377983 0.00376337 0.999993 \n",
      "   Offset: [0.751228, -4.10778, 4.22283]\n",
      "   Center: [-0.328125, -0.328125, -106.875]\n",
      "   Translation: [0.791714, -3.70522, 4.22224]\n",
      "   Inverse: \n",
      "     0.999999 -0.00120134 0.000377983 \n",
      "     0.0011999 0.999992 0.00376337 \n",
      "     -0.000382501 -0.00376291 0.999993 \n",
      "   Singular: 0\n",
      "   Euler's angles: AngleX=0.00376338 AngleY=-0.000377986 AngleZ=-0.00119991\n",
      "   m_ComputeZYX = 0\n",
      "\n"
     ]
    }
   ],
   "source": [
    "print(final_transform)"
   ]
  }
 ],
 "metadata": {
  "kernelspec": {
   "display_name": "Python 3 (ipykernel)",
   "language": "python",
   "name": "python3"
  },
  "language_info": {
   "codemirror_mode": {
    "name": "ipython",
    "version": 3
   },
   "file_extension": ".py",
   "mimetype": "text/x-python",
   "name": "python",
   "nbconvert_exporter": "python",
   "pygments_lexer": "ipython3",
   "version": "3.8.12"
  },
  "widgets": {
   "application/vnd.jupyter.widget-state+json": {
    "state": {
     "2a0e12da633d4a5e8bf8a4590704b292": {
      "model_module": "@jupyter-widgets/controls",
      "model_module_version": "1.5.0",
      "model_name": "VBoxModel",
      "state": {
       "_dom_classes": [
        "widget-interact"
       ],
       "_model_module": "@jupyter-widgets/controls",
       "_model_module_version": "1.5.0",
       "_model_name": "VBoxModel",
       "_view_count": null,
       "_view_module": "@jupyter-widgets/controls",
       "_view_module_version": "1.5.0",
       "_view_name": "VBoxView",
       "box_style": "",
       "children": [
        "IPY_MODEL_923ea33208f140e6943cdc56bee4d5c9",
        "IPY_MODEL_c934137b877d40769c3b77ea22aaffea",
        "IPY_MODEL_2f029113d3224648891926af4e214e30"
       ],
       "layout": "IPY_MODEL_e99715d18b904679a8be35d8ab109cc8"
      }
     },
     "2f029113d3224648891926af4e214e30": {
      "model_module": "@jupyter-widgets/output",
      "model_module_version": "1.0.0",
      "model_name": "OutputModel",
      "state": {
       "_dom_classes": [],
       "_model_module": "@jupyter-widgets/output",
       "_model_module_version": "1.0.0",
       "_model_name": "OutputModel",
       "_view_count": null,
       "_view_module": "@jupyter-widgets/output",
       "_view_module_version": "1.0.0",
       "_view_name": "OutputView",
       "layout": "IPY_MODEL_63223720ba354015a6e951a0783b2aad",
       "msg_id": "",
       "outputs": [
        {
         "data": {
          "text/html": "<table><tr><td><b>Tag</b></td><td><b>Fixed Image</b></td><td><b>Moving Image</b></td></tr><tr><td>Patient name: </td><td>test</td><td>test</td></tr><tr><td>Modality: </td><td>CT</td><td>CT</td></tr><tr><td>Series date: </td><td>20140502</td><td>20140502</td></tr><tr><td>Series time:</td><td>131001</td><td>131001</td></tr><tr><td>Manufacturer: </td><td>GE MEDICAL SYSTEMS</td><td>GE MEDICAL SYSTEMS</td></tr></table>",
          "text/plain": "<IPython.core.display.HTML object>"
         },
         "metadata": {},
         "output_type": "display_data"
        }
       ]
      }
     },
     "2f86a73fb8174cf0b9d3b8e2aefe6deb": {
      "model_module": "@jupyter-widgets/base",
      "model_module_version": "1.2.0",
      "model_name": "LayoutModel",
      "state": {
       "_model_module": "@jupyter-widgets/base",
       "_model_module_version": "1.2.0",
       "_model_name": "LayoutModel",
       "_view_count": null,
       "_view_module": "@jupyter-widgets/base",
       "_view_module_version": "1.2.0",
       "_view_name": "LayoutView",
       "align_content": null,
       "align_items": null,
       "align_self": null,
       "border": null,
       "bottom": null,
       "display": null,
       "flex": null,
       "flex_flow": null,
       "grid_area": null,
       "grid_auto_columns": null,
       "grid_auto_flow": null,
       "grid_auto_rows": null,
       "grid_column": null,
       "grid_gap": null,
       "grid_row": null,
       "grid_template_areas": null,
       "grid_template_columns": null,
       "grid_template_rows": null,
       "height": null,
       "justify_content": null,
       "justify_items": null,
       "left": null,
       "margin": null,
       "max_height": null,
       "max_width": null,
       "min_height": null,
       "min_width": null,
       "object_fit": null,
       "object_position": null,
       "order": null,
       "overflow": null,
       "overflow_x": null,
       "overflow_y": null,
       "padding": null,
       "right": null,
       "top": null,
       "visibility": null,
       "width": null
      }
     },
     "4f804f6a6c75436195fbce279d52fabf": {
      "model_module": "@jupyter-widgets/base",
      "model_module_version": "1.2.0",
      "model_name": "LayoutModel",
      "state": {
       "_model_module": "@jupyter-widgets/base",
       "_model_module_version": "1.2.0",
       "_model_name": "LayoutModel",
       "_view_count": null,
       "_view_module": "@jupyter-widgets/base",
       "_view_module_version": "1.2.0",
       "_view_name": "LayoutView",
       "align_content": null,
       "align_items": null,
       "align_self": null,
       "border": null,
       "bottom": null,
       "display": null,
       "flex": null,
       "flex_flow": null,
       "grid_area": null,
       "grid_auto_columns": null,
       "grid_auto_flow": null,
       "grid_auto_rows": null,
       "grid_column": null,
       "grid_gap": null,
       "grid_row": null,
       "grid_template_areas": null,
       "grid_template_columns": null,
       "grid_template_rows": null,
       "height": null,
       "justify_content": null,
       "justify_items": null,
       "left": null,
       "margin": null,
       "max_height": null,
       "max_width": null,
       "min_height": null,
       "min_width": null,
       "object_fit": null,
       "object_position": null,
       "order": null,
       "overflow": null,
       "overflow_x": null,
       "overflow_y": null,
       "padding": null,
       "right": null,
       "top": null,
       "visibility": null,
       "width": null
      }
     },
     "557392ef2a864c778a205075fbc45282": {
      "model_module": "@jupyter-widgets/controls",
      "model_module_version": "1.5.0",
      "model_name": "DescriptionStyleModel",
      "state": {
       "_model_module": "@jupyter-widgets/controls",
       "_model_module_version": "1.5.0",
       "_model_name": "DescriptionStyleModel",
       "_view_count": null,
       "_view_module": "@jupyter-widgets/base",
       "_view_module_version": "1.2.0",
       "_view_name": "StyleView",
       "description_width": ""
      }
     },
     "63223720ba354015a6e951a0783b2aad": {
      "model_module": "@jupyter-widgets/base",
      "model_module_version": "1.2.0",
      "model_name": "LayoutModel",
      "state": {
       "_model_module": "@jupyter-widgets/base",
       "_model_module_version": "1.2.0",
       "_model_name": "LayoutModel",
       "_view_count": null,
       "_view_module": "@jupyter-widgets/base",
       "_view_module_version": "1.2.0",
       "_view_name": "LayoutView",
       "align_content": null,
       "align_items": null,
       "align_self": null,
       "border": null,
       "bottom": null,
       "display": null,
       "flex": null,
       "flex_flow": null,
       "grid_area": null,
       "grid_auto_columns": null,
       "grid_auto_flow": null,
       "grid_auto_rows": null,
       "grid_column": null,
       "grid_gap": null,
       "grid_row": null,
       "grid_template_areas": null,
       "grid_template_columns": null,
       "grid_template_rows": null,
       "height": null,
       "justify_content": null,
       "justify_items": null,
       "left": null,
       "margin": null,
       "max_height": null,
       "max_width": null,
       "min_height": null,
       "min_width": null,
       "object_fit": null,
       "object_position": null,
       "order": null,
       "overflow": null,
       "overflow_x": null,
       "overflow_y": null,
       "padding": null,
       "right": null,
       "top": null,
       "visibility": null,
       "width": null
      }
     },
     "923ea33208f140e6943cdc56bee4d5c9": {
      "model_module": "@jupyter-widgets/controls",
      "model_module_version": "1.5.0",
      "model_name": "DropdownModel",
      "state": {
       "_dom_classes": [],
       "_model_module": "@jupyter-widgets/controls",
       "_model_module_version": "1.5.0",
       "_model_name": "DropdownModel",
       "_options_labels": [
        "1.2.840.113619.2.290.3.3233817346.783.1399004564.515",
        "1.3.12.2.1107.5.2.18.41548.30000014030519285935000000933",
        "1.3.12.2.1107.5.2.18.41548.30000014030519285935000001992"
       ],
       "_view_count": null,
       "_view_module": "@jupyter-widgets/controls",
       "_view_module_version": "1.5.0",
       "_view_name": "DropdownView",
       "description": "fixed_image",
       "description_tooltip": null,
       "disabled": false,
       "index": 0,
       "layout": "IPY_MODEL_2f86a73fb8174cf0b9d3b8e2aefe6deb",
       "style": "IPY_MODEL_557392ef2a864c778a205075fbc45282"
      }
     },
     "c934137b877d40769c3b77ea22aaffea": {
      "model_module": "@jupyter-widgets/controls",
      "model_module_version": "1.5.0",
      "model_name": "DropdownModel",
      "state": {
       "_dom_classes": [],
       "_model_module": "@jupyter-widgets/controls",
       "_model_module_version": "1.5.0",
       "_model_name": "DropdownModel",
       "_options_labels": [
        "1.2.840.113619.2.290.3.3233817346.783.1399004564.515",
        "1.3.12.2.1107.5.2.18.41548.30000014030519285935000000933",
        "1.3.12.2.1107.5.2.18.41548.30000014030519285935000001992"
       ],
       "_view_count": null,
       "_view_module": "@jupyter-widgets/controls",
       "_view_module_version": "1.5.0",
       "_view_name": "DropdownView",
       "description": "moving_image",
       "description_tooltip": null,
       "disabled": false,
       "index": 0,
       "layout": "IPY_MODEL_4f804f6a6c75436195fbce279d52fabf",
       "style": "IPY_MODEL_d010e4746e124d2aa8a044ea638ffce6"
      }
     },
     "d010e4746e124d2aa8a044ea638ffce6": {
      "model_module": "@jupyter-widgets/controls",
      "model_module_version": "1.5.0",
      "model_name": "DescriptionStyleModel",
      "state": {
       "_model_module": "@jupyter-widgets/controls",
       "_model_module_version": "1.5.0",
       "_model_name": "DescriptionStyleModel",
       "_view_count": null,
       "_view_module": "@jupyter-widgets/base",
       "_view_module_version": "1.2.0",
       "_view_name": "StyleView",
       "description_width": ""
      }
     },
     "e99715d18b904679a8be35d8ab109cc8": {
      "model_module": "@jupyter-widgets/base",
      "model_module_version": "1.2.0",
      "model_name": "LayoutModel",
      "state": {
       "_model_module": "@jupyter-widgets/base",
       "_model_module_version": "1.2.0",
       "_model_name": "LayoutModel",
       "_view_count": null,
       "_view_module": "@jupyter-widgets/base",
       "_view_module_version": "1.2.0",
       "_view_name": "LayoutView",
       "align_content": null,
       "align_items": null,
       "align_self": null,
       "border": null,
       "bottom": null,
       "display": null,
       "flex": null,
       "flex_flow": null,
       "grid_area": null,
       "grid_auto_columns": null,
       "grid_auto_flow": null,
       "grid_auto_rows": null,
       "grid_column": null,
       "grid_gap": null,
       "grid_row": null,
       "grid_template_areas": null,
       "grid_template_columns": null,
       "grid_template_rows": null,
       "height": null,
       "justify_content": null,
       "justify_items": null,
       "left": null,
       "margin": null,
       "max_height": null,
       "max_width": null,
       "min_height": null,
       "min_width": null,
       "object_fit": null,
       "object_position": null,
       "order": null,
       "overflow": null,
       "overflow_x": null,
       "overflow_y": null,
       "padding": null,
       "right": null,
       "top": null,
       "visibility": null,
       "width": null
      }
     }
    },
    "version_major": 2,
    "version_minor": 0
   }
  }
 },
 "nbformat": 4,
 "nbformat_minor": 4
}
