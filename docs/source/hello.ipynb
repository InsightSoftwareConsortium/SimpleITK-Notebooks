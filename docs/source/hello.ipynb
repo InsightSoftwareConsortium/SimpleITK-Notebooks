{
 "cells": [
  {
   "cell_type": "code",
   "execution_count": 10,
   "metadata": {},
   "outputs": [
    {
     "name": "stdout",
     "output_type": "stream",
     "text": [
      "/Users/jan-hendrik/projects/SimpleITK-Notebooks/docs/source\n",
      "/Users/jan-hendrik/projects/SimpleITK-Notebooks/docs/source/Python\n",
      "/Users/jan-hendrik/projects/SimpleITK-Notebooks/docs/source/Data\n",
      "/Users/jan-hendrik/projects/SimpleITK-Notebooks/docs/source/Utilities\n"
     ]
    }
   ],
   "source": [
    "from pathlib import Path\n",
    "import shutil\n",
    "\n",
    "## deleting all files in docs/source, when they should exist\n",
    "DOCS_SOURCE_DIR = Path.cwd() \n",
    "print(DOCS_SOURCE_DIR)\n",
    "\n",
    "folders = [\"Python\", \"Data\", \"Utilities\"]\n",
    "for folder in folders:\n",
    "    print(DOCS_SOURCE_DIR / folder)\n",
    "    try:\n",
    "        shutil.rmtree(DOCS_SOURCE_DIR/folder)\n",
    "    except FileNotFoundError:\n",
    "        print(f\"Directory {DOCS_SOURCE_DIR/folder} was not yet in docs/source, so not deleted.\")\n"
   ]
  },
  {
   "cell_type": "code",
   "execution_count": 4,
   "metadata": {},
   "outputs": [
    {
     "name": "stdout",
     "output_type": "stream",
     "text": [
      "/Users/jan-hendrik/projects/SimpleITK-Notebooks\n",
      "/Users/jan-hendrik/projects/SimpleITK-Notebooks\n",
      "/Users/jan-hendrik/projects/SimpleITK-Notebooks/docs/source\n",
      "######\n",
      "/Users/jan-hendrik/projects/SimpleITK-Notebooks/Python\n",
      "/Users/jan-hendrik/projects/SimpleITK-Notebooks/docs/source/Python\n",
      "******DONE*******\n",
      "######\n",
      "/Users/jan-hendrik/projects/SimpleITK-Notebooks/Data\n",
      "/Users/jan-hendrik/projects/SimpleITK-Notebooks/docs/source/Data\n",
      "******DONE*******\n",
      "######\n",
      "/Users/jan-hendrik/projects/SimpleITK-Notebooks/Utilities\n",
      "/Users/jan-hendrik/projects/SimpleITK-Notebooks/docs/source/Utilities\n",
      "******DONE*******\n"
     ]
    }
   ],
   "source": [
    "from pathlib import Path\n",
    "import shutil \n",
    "\n",
    "ROOT_DIR = Path.cwd().parent.parent\n",
    "print(ROOT_DIR )\n",
    "\n",
    "COPYFROM = ROOT_DIR \n",
    "COPYTO = ROOT_DIR / \"docs\" / \"source\"\n",
    "print(COPYFROM)\n",
    "print(COPYTO)\n",
    "folders = [\"Python\", \"Data\", \"Utilities\"]\n",
    "for num, folder in enumerate(folders): \n",
    "    print(\"######\")\n",
    "    folder_from = COPYFROM/ folder\n",
    "    folder_to = COPYTO /folder\n",
    "    print(f\"{folder_from}\")\n",
    "    print(f\"{folder_to}\")\n",
    "    shutil.copytree(folder_from, folder_to)\n",
    "    print(\"******DONE*******\")\n"
   ]
  },
  {
   "cell_type": "code",
   "execution_count": 7,
   "metadata": {},
   "outputs": [
    {
     "name": "stdout",
     "output_type": "stream",
     "text": [
      "/Users/jan-hendrik/projects/SimpleITK-Notebooks/docs/source/Python/00_Setup.ipynb\n",
      "/Users/jan-hendrik/projects/SimpleITK-Notebooks/docs/source/Python/01_Image_Basics.ipynb\n",
      "/Users/jan-hendrik/projects/SimpleITK-Notebooks/docs/source/Python/02_Pythonic_Image.ipynb\n",
      "/Users/jan-hendrik/projects/SimpleITK-Notebooks/docs/source/Python/03_Image_Details.ipynb\n",
      "/Users/jan-hendrik/projects/SimpleITK-Notebooks/docs/source/Python/04_Image_Display.ipynb\n",
      "/Users/jan-hendrik/projects/SimpleITK-Notebooks/docs/source/Python/05_Results_Visualization.ipynb\n",
      "/Users/jan-hendrik/projects/SimpleITK-Notebooks/docs/source/Python/11_Progress.ipynb\n",
      "/Users/jan-hendrik/projects/SimpleITK-Notebooks/docs/source/Python/20_Expand_With_Interpolators.ipynb\n",
      "/Users/jan-hendrik/projects/SimpleITK-Notebooks/docs/source/Python/21_Transforms_and_Resampling.ipynb\n",
      "/Users/jan-hendrik/projects/SimpleITK-Notebooks/docs/source/Python/22_Transforms.ipynb\n",
      "/Users/jan-hendrik/projects/SimpleITK-Notebooks/docs/source/Python/300_Segmentation_Overview.ipynb\n",
      "/Users/jan-hendrik/projects/SimpleITK-Notebooks/docs/source/Python/30_Segmentation_Region_Growing.ipynb\n",
      "/Users/jan-hendrik/projects/SimpleITK-Notebooks/docs/source/Python/31_Levelset_Segmentation.ipynb\n",
      "/Users/jan-hendrik/projects/SimpleITK-Notebooks/docs/source/Python/32_Watersheds_Segmentation.ipynb\n",
      "/Users/jan-hendrik/projects/SimpleITK-Notebooks/docs/source/Python/33_Segmentation_Thresholding_Edge_Detection.ipynb\n",
      "/Users/jan-hendrik/projects/SimpleITK-Notebooks/docs/source/Python/34_Segmentation_Evaluation.ipynb\n",
      "/Users/jan-hendrik/projects/SimpleITK-Notebooks/docs/source/Python/35_Segmentation_Shape_Analysis.ipynb\n",
      "/Users/jan-hendrik/projects/SimpleITK-Notebooks/docs/source/Python/36_Microscopy_Colocalization_Distance_Analysis.ipynb\n",
      "/Users/jan-hendrik/projects/SimpleITK-Notebooks/docs/source/Python/51_VH_Segmentation1.ipynb\n",
      "/Users/jan-hendrik/projects/SimpleITK-Notebooks/docs/source/Python/55_VH_Resample.ipynb\n",
      "/Users/jan-hendrik/projects/SimpleITK-Notebooks/docs/source/Python/56_VH_Registration1.ipynb\n",
      "/Users/jan-hendrik/projects/SimpleITK-Notebooks/docs/source/Python/60_Registration_Introduction.ipynb\n",
      "/Users/jan-hendrik/projects/SimpleITK-Notebooks/docs/source/Python/61_Registration_Introduction_Continued.ipynb\n",
      "/Users/jan-hendrik/projects/SimpleITK-Notebooks/docs/source/Python/62_Registration_Tuning.ipynb\n",
      "/Users/jan-hendrik/projects/SimpleITK-Notebooks/docs/source/Python/63_Registration_Initialization.ipynb\n",
      "/Users/jan-hendrik/projects/SimpleITK-Notebooks/docs/source/Python/64_Registration_Memory_Time_Tradeoff.ipynb\n",
      "/Users/jan-hendrik/projects/SimpleITK-Notebooks/docs/source/Python/65_Registration_FFD.ipynb\n",
      "/Users/jan-hendrik/projects/SimpleITK-Notebooks/docs/source/Python/66_Registration_Demons.ipynb\n",
      "/Users/jan-hendrik/projects/SimpleITK-Notebooks/docs/source/Python/67_Registration_Semiautomatic_Homework.ipynb\n",
      "/Users/jan-hendrik/projects/SimpleITK-Notebooks/docs/source/Python/68_Registration_Errors.ipynb\n",
      "/Users/jan-hendrik/projects/SimpleITK-Notebooks/docs/source/Python/69_x-ray-panorama.ipynb\n",
      "/Users/jan-hendrik/projects/SimpleITK-Notebooks/docs/source/Python/70_Data_Augmentation.ipynb\n",
      "/Users/jan-hendrik/projects/SimpleITK-Notebooks/docs/source/Python/71_Trust_But_Verify.ipynb\n"
     ]
    }
   ],
   "source": [
    "from pathlib import Path\n",
    "import shutil\n",
    "ROOT_DIR = Path.cwd().parent.parent\n",
    "\n",
    "NEWLOCATION = ROOT_DIR / \"docs\" / \"source\"\n",
    "exclude_notobooks = [\n",
    "\"Python/00_Setup.ipynb\",\n",
    "\"Python/01_Image_Basics.ipynb\",\n",
    "\"Python/02_Pythonic_Image.ipynb\",\n",
    "\"Python/03_Image_Details.ipynb\",\n",
    "\"Python/04_Image_Display.ipynb\",\n",
    "\"Python/05_Results_Visualization.ipynb\",\n",
    "#\"Python/10_matplotlibs_imshow.ipynb\",\n",
    "\"Python/11_Progress.ipynb\",\n",
    "\"Python/20_Expand_With_Interpolators.ipynb\",\n",
    "\"Python/21_Transforms_and_Resampling.ipynb\",\n",
    "\"Python/22_Transforms.ipynb\",\n",
    "\"Python/300_Segmentation_Overview.ipynb\",\n",
    "\"Python/30_Segmentation_Region_Growing.ipynb\",\n",
    "\"Python/31_Levelset_Segmentation.ipynb\",\n",
    "\"Python/32_Watersheds_Segmentation.ipynb\",\n",
    "\"Python/33_Segmentation_Thresholding_Edge_Detection.ipynb\",\n",
    "\"Python/34_Segmentation_Evaluation.ipynb\",\n",
    "\"Python/35_Segmentation_Shape_Analysis.ipynb\",\n",
    "\"Python/36_Microscopy_Colocalization_Distance_Analysis.ipynb\",\n",
    "\"Python/51_VH_Segmentation1.ipynb\",\n",
    "\"Python/55_VH_Resample.ipynb\",\n",
    "\"Python/56_VH_Registration1.ipynb\",\n",
    "\"Python/60_Registration_Introduction.ipynb\",\n",
    "\"Python/61_Registration_Introduction_Continued.ipynb\",\n",
    "\"Python/62_Registration_Tuning.ipynb\",\n",
    "\"Python/63_Registration_Initialization.ipynb\",\n",
    "\"Python/64_Registration_Memory_Time_Tradeoff.ipynb\",\n",
    "\"Python/65_Registration_FFD.ipynb\",\n",
    "\"Python/66_Registration_Demons.ipynb\",\n",
    "\"Python/67_Registration_Semiautomatic_Homework.ipynb\",\n",
    "\"Python/68_Registration_Errors.ipynb\",\n",
    "\"Python/69_x-ray-panorama.ipynb\",\n",
    "\"Python/70_Data_Augmentation.ipynb\",\n",
    "\"Python/71_Trust_But_Verify.ipynb\",\n",
    "]\n",
    "\n",
    "for nb in exclude_notobooks:\n",
    "    excluded_notebook = NEWLOCATION/nb\n",
    "    print(excluded_notebook)\n",
    "    excluded_notebook.unlink()\n"
   ]
  },
  {
   "cell_type": "code",
   "execution_count": 2,
   "metadata": {},
   "outputs": [
    {
     "name": "stdout",
     "output_type": "stream",
     "text": [
      "/Users/jan-hendrik/projects/SimpleITK-Notebooks/docs/source\n",
      "/Users/jan-hendrik/projects/SimpleITK-Notebooks/docs/source/Python\n",
      "/Users/jan-hendrik/projects/SimpleITK-Notebooks/docs/source/Data\n",
      "/Users/jan-hendrik/projects/SimpleITK-Notebooks/docs/source/Utilities\n"
     ]
    }
   ],
   "source": []
  },
  {
   "cell_type": "code",
   "execution_count": null,
   "metadata": {},
   "outputs": [],
   "source": []
  }
 ],
 "metadata": {
  "interpreter": {
   "hash": "7ebf924f33491c921954fca832147f8f5cb2261a32d05c905747d88e8d31766a"
  },
  "kernelspec": {
   "display_name": "Python 3.8.12 64-bit ('sitk': conda)",
   "language": "python",
   "name": "python3"
  },
  "language_info": {
   "codemirror_mode": {
    "name": "ipython",
    "version": 3
   },
   "file_extension": ".py",
   "mimetype": "text/x-python",
   "name": "python",
   "nbconvert_exporter": "python",
   "pygments_lexer": "ipython3",
   "version": "3.8.12"
  },
  "orig_nbformat": 4
 },
 "nbformat": 4,
 "nbformat_minor": 2
}
