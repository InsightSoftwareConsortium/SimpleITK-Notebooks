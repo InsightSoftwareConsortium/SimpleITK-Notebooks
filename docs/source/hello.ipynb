{
 "cells": [
  {
   "cell_type": "code",
   "execution_count": 7,
   "metadata": {},
   "outputs": [
    {
     "name": "stdout",
     "output_type": "stream",
     "text": [
      "/Users/jan-hendrik/projects/SimpleITK-Notebooks\n"
     ]
    }
   ],
   "source": [
    "from pathlib import Path\n",
    "import shutil\n",
    "\n",
    "ROOT_DIR = Path.cwd().parent.parent\n",
    "print(ROOT_DIR )\n",
    "\n",
    "COPYFROM = ROOT_DIR \n",
    "COPYTO = ROOT_DIR / \"docs\" / \"source\"\n",
    "print(COPYFROM)\n",
    "print(COPYTO)\n",
    "folders = [\"Python\", \"Data\", \"Utilities\"]\n",
    "for num, folder in enumerate(folders): \n",
    "    print(\"######\")\n",
    "    folder_from = COPYFROM/ folder\n",
    "    folder_to = COPYTO /folder\n",
    "    print(f\"{folder_from}\")\n",
    "    print(f\"{folder_to}\")\n",
    "    shutil.copytree(folder_from, folder_to)\n",
    "    print(\"******DONE*******\")\n"
   ]
  }
 ],
 "metadata": {
  "interpreter": {
   "hash": "7ebf924f33491c921954fca832147f8f5cb2261a32d05c905747d88e8d31766a"
  },
  "kernelspec": {
   "display_name": "Python 3.8.12 64-bit ('sitk': conda)",
   "language": "python",
   "name": "python3"
  },
  "language_info": {
   "codemirror_mode": {
    "name": "ipython",
    "version": 3
   },
   "file_extension": ".py",
   "mimetype": "text/x-python",
   "name": "python",
   "nbconvert_exporter": "python",
   "pygments_lexer": "ipython3",
   "version": "3.8.12"
  },
  "orig_nbformat": 4
 },
 "nbformat": 4,
 "nbformat_minor": 2
}
