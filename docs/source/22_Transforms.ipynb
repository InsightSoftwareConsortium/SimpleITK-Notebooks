{
 "cells": [
  {
   "cell_type": "markdown",
   "metadata": {},
   "source": [
    "# SimpleITK Spatial Transformations <a href=\"https://mybinder.org/v2/gh/InsightSoftwareConsortium/SimpleITK-Notebooks/master?filepath=Python%2F22_Transforms.ipynb\"><img style=\"float: right;\" src=\"https://mybinder.org/badge_logo.svg\"></a>\n",
    "\n",
    "\n",
    "**Summary:**\n",
    "\n",
    "1. Points are represented by vector-like data types: Tuple, Numpy array, List.\n",
    "2. Matrices are represented by vector-like data types in row major order.\n",
    "3. Default transformation initialization as the identity transform.\n",
    "4. Angles specified in radians, distances specified in unknown but consistent units (nm,mm,m,km...).\n",
    "5. All global transformations **except translation** are of the form:\n",
    "$$T(\\mathbf{x}) = A(\\mathbf{x}-\\mathbf{c}) + \\mathbf{t} + \\mathbf{c}$$\n",
    "\n",
    "   Nomenclature (when printing your transformation):\n",
    "\n",
    "   * Matrix: the matrix $A$\n",
    "   * Center: the point $\\mathbf{c}$\n",
    "   * Translation: the vector $\\mathbf{t}$\n",
    "   * Offset: $\\mathbf{t} + \\mathbf{c} - A\\mathbf{c}$\n",
    "6. Bounded transformations, BSplineTransform and DisplacementFieldTransform, behave as the identity transform outside the defined bounds.\n",
    "7. DisplacementFieldTransform:\n",
    "   * Initializing the DisplacementFieldTransform using an image requires that the image's pixel type be sitk.sitkVectorFloat64.\n",
    "   * Initializing the DisplacementFieldTransform using an image will \"clear out\" your image (your alias to the image will point to an empty, zero sized, image).\n",
    "8. Composite transformations are applied in stack order (first added, last applied).\n"
   ]
  },
  {
   "cell_type": "markdown",
   "metadata": {},
   "source": [
    "## Transformation Types\n",
    "This notebook introduces the transformation types supported by SimpleITK and illustrates how to \"promote\" transformations from a lower to higher parameter space (e.g. 3D translation to 3D rigid).  \n",
    "\n",
    "\n",
    "| Class Name | Details|\n",
    "|:-------------|:---------|\n",
    "|[TranslationTransform](https://simpleitk.org/doxygen/latest/html/classitk_1_1simple_1_1TranslationTransform.html) | 2D or 3D, translation|\n",
    "|[VersorTransform](https://simpleitk.org/doxygen/latest/html/classitk_1_1simple_1_1VersorTransform.html)| 3D, rotation represented by a versor|\n",
    "|[VersorRigid3DTransform](https://simpleitk.org/doxygen/latest/html/classitk_1_1simple_1_1VersorRigid3DTransform.html)|3D, rigid transformation with rotation represented by a versor|\n",
    "|[Euler2DTransform](https://simpleitk.org/doxygen/latest/html/classitk_1_1simple_1_1Euler2DTransform.html)| 2D, rigid transformation with rotation represented by a Euler angle|\n",
    "|[Euler3DTransform](https://simpleitk.org/doxygen/latest/html/classitk_1_1simple_1_1Euler3DTransform.html)| 3D, rigid transformation with rotation represented by Euler angles|\n",
    "|[Similarity2DTransform](https://simpleitk.org/doxygen/latest/html/classitk_1_1simple_1_1Similarity2DTransform.html)| 2D, composition of isotropic scaling and rigid transformation with rotation represented by a Euler angle|\n",
    "|[Similarity3DTransform](https://simpleitk.org/doxygen/latest/html/classitk_1_1simple_1_1Similarity3DTransform.html) | 3D, composition of isotropic scaling and rigid transformation with rotation represented by a versor|\n",
    "|[ScaleTransform](https://simpleitk.org/doxygen/latest/html/classitk_1_1simple_1_1ScaleTransform.html)|2D or 3D, anisotropic scaling|\n",
    "|[ScaleVersor3DTransform](https://simpleitk.org/doxygen/latest/html/classitk_1_1simple_1_1ScaleVersor3DTransform.html)| 3D, rigid transformation and anisotropic scale is **added** to the rotation matrix part (not composed as one would expect)|\n",
    "|[ScaleSkewVersor3DTransform](https://simpleitk.org/doxygen/latest/html/classitk_1_1simple_1_1ScaleSkewVersor3DTransform.html#details)|3D, rigid transformation with anisotropic scale and skew matrices **added** to the rotation matrix part (not composed as one would expect) |\n",
    "|[ComposeScaleSkewVersor3DTransform](https://simpleitk.org/doxygen/latest/html/classitk_1_1simple_1_1ComposeScaleSkewVersor3DTransform.html)| 3D, a composition of rotation $R$, scaling $S$, and shearing $K$, $A=RSK$ in addition to translation. |\n",
    "|[AffineTransform](https://simpleitk.org/doxygen/latest/html/classitk_1_1simple_1_1AffineTransform.html)| 2D or 3D, affine transformation|\n",
    "|[BSplineTransform](https://simpleitk.org/doxygen/latest/html/classitk_1_1simple_1_1BSplineTransform.html)|2D or 3D, deformable transformation represented by a sparse regular grid of control points |\n",
    "|[DisplacementFieldTransform](https://simpleitk.org/doxygen/latest/html/classitk_1_1simple_1_1DisplacementFieldTransform.html)| 2D or 3D, deformable transformation represented as a dense regular grid of vectors|\n",
    "|[CompositeTransform](https://simpleitk.org/doxygen/latest/html/classitk_1_1simple_1_1CompositeTransform.html)| 2D or 3D, stack of transformations concatenated via composition, last added, first applied|\n",
    "|[Transform](https://simpleitk.org/doxygen/latest/html/classitk_1_1simple_1_1Transform.html#details) | 2D or 3D, parent/super-class for all transforms"
   ]
  },
  {
   "cell_type": "code",
   "execution_count": 1,
   "metadata": {
    "execution": {
     "iopub.execute_input": "2021-10-28T17:51:13.148206Z",
     "iopub.status.busy": "2021-10-28T17:51:13.146890Z",
     "iopub.status.idle": "2021-10-28T17:51:13.430925Z",
     "shell.execute_reply": "2021-10-28T17:51:13.431206Z"
    }
   },
   "outputs": [
    {
     "name": "stdout",
     "output_type": "stream",
     "text": [
      "SimpleITK Version: 2.1.1 (ITK 5.2)\n",
      "Compiled: Sep  9 2021 19:12:54\n",
      "\n"
     ]
    }
   ],
   "source": [
    "import SimpleITK as sitk\n",
    "import numpy as np\n",
    "\n",
    "%matplotlib inline\n",
    "import matplotlib.pyplot as plt\n",
    "from ipywidgets import interact, fixed\n",
    "\n",
    "OUTPUT_DIR = \"Output\"\n",
    "\n",
    "print(sitk.Version())"
   ]
  },
  {
   "cell_type": "markdown",
   "metadata": {},
   "source": [
    "## Points in SimpleITK"
   ]
  },
  {
   "cell_type": "markdown",
   "metadata": {},
   "source": [
    "### Utility functions\n",
    "\n",
    "A number of functions that deal with point data in a uniform manner."
   ]
  },
  {
   "cell_type": "code",
   "execution_count": 2,
   "metadata": {
    "execution": {
     "iopub.execute_input": "2021-10-28T17:51:13.439550Z",
     "iopub.status.busy": "2021-10-28T17:51:13.439060Z",
     "iopub.status.idle": "2021-10-28T17:51:13.440499Z",
     "shell.execute_reply": "2021-10-28T17:51:13.440827Z"
    }
   },
   "outputs": [],
   "source": [
    "import numpy as np\n",
    "\n",
    "\n",
    "def point2str(point, precision=1):\n",
    "    \"\"\"\n",
    "    Format a point for printing, based on specified precision with trailing zeros. Uniform printing for vector-like data\n",
    "    (tuple, numpy array, list).\n",
    "\n",
    "    Args:\n",
    "        point (vector-like): nD point with floating point coordinates.\n",
    "        precision (int): Number of digits after the decimal point.\n",
    "    Return:\n",
    "        String represntation of the given point \"xx.xxx yy.yyy zz.zzz...\".\n",
    "    \"\"\"\n",
    "    return \" \".join(f\"{c:.{precision}f}\" for c in point)\n",
    "\n",
    "\n",
    "def uniform_random_points(bounds, num_points):\n",
    "    \"\"\"\n",
    "    Generate random (uniform withing bounds) nD point cloud. Dimension is based on the number of pairs in the bounds input.\n",
    "\n",
    "    Args:\n",
    "        bounds (list(tuple-like)): list where each tuple defines the coordinate bounds.\n",
    "        num_points (int): number of points to generate.\n",
    "\n",
    "    Returns:\n",
    "        list containing num_points numpy arrays whose coordinates are within the given bounds.\n",
    "    \"\"\"\n",
    "    internal_bounds = [sorted(b) for b in bounds]\n",
    "    # Generate rows for each of the coordinates according to the given bounds, stack into an array,\n",
    "    # and split into a list of points.\n",
    "    mat = np.vstack(\n",
    "        [np.random.uniform(b[0], b[1], num_points) for b in internal_bounds]\n",
    "    )\n",
    "    return list(mat[: len(bounds)].T)\n",
    "\n",
    "\n",
    "def target_registration_errors(tx, point_list, reference_point_list):\n",
    "    \"\"\"\n",
    "    Distances between points transformed by the given transformation and their\n",
    "    location in another coordinate system. When the points are only used to evaluate\n",
    "    registration accuracy (not used in the registration) this is the target registration\n",
    "    error (TRE).\n",
    "    \"\"\"\n",
    "    return [\n",
    "        np.linalg.norm(np.array(tx.TransformPoint(p)) - np.array(p_ref))\n",
    "        for p, p_ref in zip(point_list, reference_point_list)\n",
    "    ]\n",
    "\n",
    "\n",
    "def print_transformation_differences(tx1, tx2):\n",
    "    \"\"\"\n",
    "    Check whether two transformations are \"equivalent\" in an arbitrary spatial region\n",
    "    either 3D or 2D, [x=(-10,10), y=(-100,100), z=(-1000,1000)]. This is just a sanity check,\n",
    "    as we are just looking at the effect of the transformations on a random set of points in\n",
    "    the region.\n",
    "    \"\"\"\n",
    "    if tx1.GetDimension() == 2 and tx2.GetDimension() == 2:\n",
    "        bounds = [(-10, 10), (-100, 100)]\n",
    "    elif tx1.GetDimension() == 3 and tx2.GetDimension() == 3:\n",
    "        bounds = [(-10, 10), (-100, 100), (-1000, 1000)]\n",
    "    else:\n",
    "        raise ValueError(\n",
    "            \"Transformation dimensions mismatch, or unsupported transformation dimensionality\"\n",
    "        )\n",
    "    num_points = 10\n",
    "    point_list = uniform_random_points(bounds, num_points)\n",
    "    tx1_point_list = [tx1.TransformPoint(p) for p in point_list]\n",
    "    differences = target_registration_errors(tx2, point_list, tx1_point_list)\n",
    "    print(\n",
    "        tx1.GetName()\n",
    "        + \"-\"\n",
    "        + tx2.GetName()\n",
    "        + f\":\\tminDifference: {min(differences):.2f} maxDifference: {max(differences):.2f}\"\n",
    "    )"
   ]
  },
  {
   "cell_type": "markdown",
   "metadata": {},
   "source": [
    "In SimpleITK points can be represented by any vector-like data type. In Python these include Tuple, Numpy array, and List. In general Python will treat these data types differently, as illustrated by the print function below."
   ]
  },
  {
   "cell_type": "code",
   "execution_count": 3,
   "metadata": {
    "execution": {
     "iopub.execute_input": "2021-10-28T17:51:13.444470Z",
     "iopub.status.busy": "2021-10-28T17:51:13.444059Z",
     "iopub.status.idle": "2021-10-28T17:51:13.445713Z",
     "shell.execute_reply": "2021-10-28T17:51:13.445969Z"
    }
   },
   "outputs": [
    {
     "name": "stdout",
     "output_type": "stream",
     "text": [
      "(9.0, 10.531, 11.8341)\n",
      "[ 9.     10.531  11.8341]\n",
      "[9.0, 10.531, 11.8341]\n",
      "9.00 10.53 11.83\n",
      "9.00 10.53 11.83\n",
      "9.00 10.53 11.83\n"
     ]
    }
   ],
   "source": [
    "# SimpleITK points represented by vector-like data structures.\n",
    "point_tuple = (9.0, 10.531, 11.8341)\n",
    "point_np_array = np.array([9.0, 10.531, 11.8341])\n",
    "point_list = [9.0, 10.531, 11.8341]\n",
    "\n",
    "print(point_tuple)\n",
    "print(point_np_array)\n",
    "print(point_list)\n",
    "\n",
    "# Uniform printing with specified precision.\n",
    "precision = 2\n",
    "print(point2str(point_tuple, precision))\n",
    "print(point2str(point_np_array, precision))\n",
    "print(point2str(point_list, precision))"
   ]
  },
  {
   "cell_type": "markdown",
   "metadata": {},
   "source": [
    "## Global Transformations\n",
    "All global transformations <i>except translation</i> are of the form:\n",
    "$$T(\\mathbf{x}) = A(\\mathbf{x}-\\mathbf{c}) + \\mathbf{t} + \\mathbf{c}$$\n",
    "\n",
    "In ITK speak (when printing your transformation):\n",
    "<ul>\n",
    "<li>Matrix: the matrix $A$</li>\n",
    "<li>Center: the point $\\mathbf{c}$</li>\n",
    "<li>Translation: the vector $\\mathbf{t}$</li>\n",
    "<li>Offset: $\\mathbf{t} + \\mathbf{c} - A\\mathbf{c}$</li>\n",
    "</ul>"
   ]
  },
  {
   "cell_type": "markdown",
   "metadata": {},
   "source": [
    "## TranslationTransform"
   ]
  },
  {
   "cell_type": "code",
   "execution_count": 4,
   "metadata": {
    "execution": {
     "iopub.execute_input": "2021-10-28T17:51:13.448744Z",
     "iopub.status.busy": "2021-10-28T17:51:13.448275Z",
     "iopub.status.idle": "2021-10-28T17:51:13.450132Z",
     "shell.execute_reply": "2021-10-28T17:51:13.450444Z"
    }
   },
   "outputs": [
    {
     "name": "stdout",
     "output_type": "stream",
     "text": [
      "itk::simple::TranslationTransform\n",
      " TranslationTransform (0x7fc1a60f7c20)\n",
      "   RTTI typeinfo:   itk::TranslationTransform<double, 3u>\n",
      "   Reference Count: 1\n",
      "   Modified Time: 669\n",
      "   Debug: Off\n",
      "   Object Name: \n",
      "   Observers: \n",
      "     none\n",
      "   Offset: [1, 2, 3]\n",
      "\n"
     ]
    }
   ],
   "source": [
    "# A 3D translation. Note that you need to specify the dimensionality, as the sitk TranslationTransform\n",
    "# represents both 2D and 3D translations.\n",
    "dimension = 3\n",
    "offset = (1, 2, 3)  # offset can be any vector-like data\n",
    "translation = sitk.TranslationTransform(dimension, offset)\n",
    "print(translation)"
   ]
  },
  {
   "cell_type": "code",
   "execution_count": 5,
   "metadata": {
    "execution": {
     "iopub.execute_input": "2021-10-28T17:51:13.453513Z",
     "iopub.status.busy": "2021-10-28T17:51:13.452976Z",
     "iopub.status.idle": "2021-10-28T17:51:13.454722Z",
     "shell.execute_reply": "2021-10-28T17:51:13.454994Z"
    }
   },
   "outputs": [
    {
     "name": "stdout",
     "output_type": "stream",
     "text": [
      "original point: 10.0 11.0 12.0\n",
      "transformed point: 11.0 13.0 15.0\n",
      "back to original: 10.0 11.0 12.0\n"
     ]
    }
   ],
   "source": [
    "# Transform a point and use the inverse transformation to get the original back.\n",
    "point = [10, 11, 12]\n",
    "transformed_point = translation.TransformPoint(point)\n",
    "translation_inverse = translation.GetInverse()\n",
    "print(\n",
    "    \"original point: \" + point2str(point) + \"\\n\"\n",
    "    \"transformed point: \" + point2str(transformed_point) + \"\\n\"\n",
    "    \"back to original: \"\n",
    "    + point2str(translation_inverse.TransformPoint(transformed_point))\n",
    ")"
   ]
  },
  {
   "cell_type": "markdown",
   "metadata": {},
   "source": [
    "## Euler2DTransform"
   ]
  },
  {
   "cell_type": "code",
   "execution_count": 6,
   "metadata": {
    "execution": {
     "iopub.execute_input": "2021-10-28T17:51:13.458309Z",
     "iopub.status.busy": "2021-10-28T17:51:13.457841Z",
     "iopub.status.idle": "2021-10-28T17:51:13.459643Z",
     "shell.execute_reply": "2021-10-28T17:51:13.459968Z"
    }
   },
   "outputs": [
    {
     "name": "stdout",
     "output_type": "stream",
     "text": [
      "original point: 10.0 11.0\n",
      "transformed point: -3.8 18.4\n",
      "original point: 10.0 11.0\n",
      "transformed point: 17.2 19.4\n"
     ]
    }
   ],
   "source": [
    "point = [10, 11]\n",
    "rotation2D = sitk.Euler2DTransform()\n",
    "rotation2D.SetTranslation((7.2, 8.4))\n",
    "rotation2D.SetAngle(np.pi / 2)\n",
    "print(\n",
    "    \"original point: \" + point2str(point) + \"\\n\"\n",
    "    \"transformed point: \" + point2str(rotation2D.TransformPoint(point))\n",
    ")\n",
    "\n",
    "# Change the center of rotation so that it coincides with the point we want to\n",
    "# transform, why is this a unique configuration?\n",
    "rotation2D.SetCenter(point)\n",
    "print(\n",
    "    \"original point: \" + point2str(point) + \"\\n\"\n",
    "    \"transformed point: \" + point2str(rotation2D.TransformPoint(point))\n",
    ")"
   ]
  },
  {
   "cell_type": "markdown",
   "metadata": {},
   "source": [
    "## VersorTransform"
   ]
  },
  {
   "cell_type": "code",
   "execution_count": 7,
   "metadata": {
    "execution": {
     "iopub.execute_input": "2021-10-28T17:51:13.463862Z",
     "iopub.status.busy": "2021-10-28T17:51:13.463405Z",
     "iopub.status.idle": "2021-10-28T17:51:13.465010Z",
     "shell.execute_reply": "2021-10-28T17:51:13.465339Z"
    }
   },
   "outputs": [
    {
     "name": "stdout",
     "output_type": "stream",
     "text": [
      "Points after transformation:\n",
      "p1=(-10.0, -100.0, 1000.0)\n",
      "p2=(-10.000000000000012, -100.0, 1000.0)\n",
      "p3=(-10.0, -100.0, 1000.0)\n"
     ]
    }
   ],
   "source": [
    "# Rotation only, parametrized by Versor (vector part of unit quaternion),\n",
    "# quaternion defined by rotation of theta around axis n:\n",
    "#  q = [n*sin(theta/2), cos(theta/2)]\n",
    "\n",
    "# 180 degree rotation around z axis\n",
    "\n",
    "# Use a versor:\n",
    "rotation1 = sitk.VersorTransform([0, 0, 1, 0])\n",
    "\n",
    "# Use axis-angle:\n",
    "rotation2 = sitk.VersorTransform((0, 0, 1), np.pi)\n",
    "\n",
    "# Use a matrix:\n",
    "rotation3 = sitk.VersorTransform()\n",
    "rotation3.SetMatrix([-1, 0, 0, 0, -1, 0, 0, 0, 1])\n",
    "\n",
    "point = (10, 100, 1000)\n",
    "\n",
    "p1 = rotation1.TransformPoint(point)\n",
    "p2 = rotation2.TransformPoint(point)\n",
    "p3 = rotation3.TransformPoint(point)\n",
    "\n",
    "print(\n",
    "    \"Points after transformation:\\np1=\"\n",
    "    + str(p1)\n",
    "    + \"\\np2=\"\n",
    "    + str(p2)\n",
    "    + \"\\np3=\"\n",
    "    + str(p3)\n",
    ")"
   ]
  },
  {
   "cell_type": "markdown",
   "metadata": {},
   "source": [
    "We applied the \"same\" transformation to the same point, so why are the results slightly different for the second initialization method?\n",
    "  \n",
    "This is where theory meets practice. Using the axis-angle initialization method involves trigonometric functions which on a fixed precision machine lead to these slight differences. In many cases this is not an issue, but it is something to remember. From here on we will sweep it under the rug (printing with a more reasonable precision). "
   ]
  },
  {
   "cell_type": "markdown",
   "metadata": {},
   "source": [
    "## Translation to Rigid [3D]\n",
    "Copy the translational component."
   ]
  },
  {
   "cell_type": "code",
   "execution_count": 8,
   "metadata": {
    "execution": {
     "iopub.execute_input": "2021-10-28T17:51:13.495608Z",
     "iopub.status.busy": "2021-10-28T17:51:13.482309Z",
     "iopub.status.idle": "2021-10-28T17:51:13.571675Z",
     "shell.execute_reply": "2021-10-28T17:51:13.571951Z"
    }
   },
   "outputs": [
    {
     "name": "stdout",
     "output_type": "stream",
     "text": [
      "Euler\tminError: 0.00 maxError: 0.00\n",
      "Versor\tminError: 0.00 maxError: 0.00\n"
     ]
    },
    {
     "data": {
      "image/png": "[encoded data removed]",
      "text/plain": [
       "<Figure size 432x288 with 1 Axes>"
      ]
     },
     "metadata": {
      "needs_background": "light"
     },
     "output_type": "display_data"
    }
   ],
   "source": [
    "dimension = 3\n",
    "t = (1, 2, 3)\n",
    "translation = sitk.TranslationTransform(dimension, t)\n",
    "\n",
    "# Only need to copy the translational component.\n",
    "rigid_euler = sitk.Euler3DTransform()\n",
    "rigid_euler.SetTranslation(translation.GetOffset())\n",
    "\n",
    "rigid_versor = sitk.VersorRigid3DTransform()\n",
    "rigid_versor.SetTranslation(translation.GetOffset())\n",
    "\n",
    "# Sanity check to make sure the transformations are equivalent.\n",
    "bounds = [(-10, 10), (-100, 100), (-1000, 1000)]\n",
    "num_points = 10\n",
    "point_list = uniform_random_points(bounds, num_points)\n",
    "transformed_point_list = [translation.TransformPoint(p) for p in point_list]\n",
    "\n",
    "# Draw the original and transformed points, include the label so that we\n",
    "# can modify the plots without requiring explicit changes to the legend.\n",
    "from mpl_toolkits.mplot3d import Axes3D\n",
    "\n",
    "fig = plt.figure()\n",
    "ax = fig.add_subplot(111, projection=\"3d\")\n",
    "orig = ax.scatter(\n",
    "    list(np.array(point_list).T)[0],\n",
    "    list(np.array(point_list).T)[1],\n",
    "    list(np.array(point_list).T)[2],\n",
    "    marker=\"o\",\n",
    "    color=\"blue\",\n",
    "    label=\"Original points\",\n",
    ")\n",
    "transformed = ax.scatter(\n",
    "    list(np.array(transformed_point_list).T)[0],\n",
    "    list(np.array(transformed_point_list).T)[1],\n",
    "    list(np.array(transformed_point_list).T)[2],\n",
    "    marker=\"^\",\n",
    "    color=\"red\",\n",
    "    label=\"Transformed points\",\n",
    ")\n",
    "plt.legend(loc=(0.0, 1.0))\n",
    "\n",
    "euler_errors = target_registration_errors(\n",
    "    rigid_euler, point_list, transformed_point_list\n",
    ")\n",
    "versor_errors = target_registration_errors(\n",
    "    rigid_versor, point_list, transformed_point_list\n",
    ")\n",
    "\n",
    "print(f\"Euler\\tminError: {min(euler_errors):.2f} maxError: {max(euler_errors):.2f}\")\n",
    "print(f\"Versor\\tminError: {min(versor_errors):.2f} maxError: {max(versor_errors):.2f}\")"
   ]
  },
  {
   "cell_type": "markdown",
   "metadata": {},
   "source": [
    "## Rotation to Rigid [3D]\n",
    "Copy the matrix or versor and <b>center of rotation</b>."
   ]
  },
  {
   "cell_type": "code",
   "execution_count": 9,
   "metadata": {
    "execution": {
     "iopub.execute_input": "2021-10-28T17:51:13.578196Z",
     "iopub.status.busy": "2021-10-28T17:51:13.577740Z",
     "iopub.status.idle": "2021-10-28T17:51:13.673859Z",
     "shell.execute_reply": "2021-10-28T17:51:13.674127Z"
    }
   },
   "outputs": [
    {
     "name": "stdout",
     "output_type": "stream",
     "text": [
      "Euler\tminError: 0.00 maxError: 0.00\n",
      "Versor\tminError: 28.28 maxError: 28.28\n"
     ]
    },
    {
     "data": {
      "image/png": "[encoded data removed]",
      "text/plain": [
       "<Figure size 432x288 with 1 Axes>"
      ]
     },
     "metadata": {
      "needs_background": "light"
     },
     "output_type": "display_data"
    }
   ],
   "source": [
    "rotationCenter = (10, 10, 10)\n",
    "rotation = sitk.VersorTransform([0, 0, 1, 0], rotationCenter)\n",
    "\n",
    "rigid_euler = sitk.Euler3DTransform()\n",
    "rigid_euler.SetMatrix(rotation.GetMatrix())\n",
    "rigid_euler.SetCenter(rotation.GetCenter())\n",
    "\n",
    "rigid_versor = sitk.VersorRigid3DTransform()\n",
    "rigid_versor.SetRotation(rotation.GetVersor())\n",
    "# rigid_versor.SetCenter(rotation.GetCenter()) #intentional error\n",
    "\n",
    "# Sanity check to make sure the transformations are equivalent.\n",
    "bounds = [(-10, 10), (-100, 100), (-1000, 1000)]\n",
    "num_points = 10\n",
    "point_list = uniform_random_points(bounds, num_points)\n",
    "transformed_point_list = [rotation.TransformPoint(p) for p in point_list]\n",
    "\n",
    "euler_errors = target_registration_errors(\n",
    "    rigid_euler, point_list, transformed_point_list\n",
    ")\n",
    "versor_errors = target_registration_errors(\n",
    "    rigid_versor, point_list, transformed_point_list\n",
    ")\n",
    "\n",
    "# Draw the points transformed by the original transformation and after transformation\n",
    "# using the incorrect transformation, illustrate the effect of center of rotation.\n",
    "from mpl_toolkits.mplot3d import Axes3D\n",
    "\n",
    "incorrect_transformed_point_list = [rigid_versor.TransformPoint(p) for p in point_list]\n",
    "fig = plt.figure()\n",
    "ax = fig.add_subplot(111, projection=\"3d\")\n",
    "orig = ax.scatter(\n",
    "    list(np.array(transformed_point_list).T)[0],\n",
    "    list(np.array(transformed_point_list).T)[1],\n",
    "    list(np.array(transformed_point_list).T)[2],\n",
    "    marker=\"o\",\n",
    "    color=\"blue\",\n",
    "    label=\"Rotation around specific center\",\n",
    ")\n",
    "transformed = ax.scatter(\n",
    "    list(np.array(incorrect_transformed_point_list).T)[0],\n",
    "    list(np.array(incorrect_transformed_point_list).T)[1],\n",
    "    list(np.array(incorrect_transformed_point_list).T)[2],\n",
    "    marker=\"^\",\n",
    "    color=\"red\",\n",
    "    label=\"Rotation around origin\",\n",
    ")\n",
    "plt.legend(loc=(0.0, 1.0))\n",
    "\n",
    "print(f\"Euler\\tminError: {min(euler_errors):.2f} maxError: {max(euler_errors):.2f}\")\n",
    "print(f\"Versor\\tminError: {min(versor_errors):.2f} maxError: {max(versor_errors):.2f}\")"
   ]
  },
  {
   "cell_type": "markdown",
   "metadata": {},
   "source": [
    "## Similarity [2D]\n",
    "\n",
    "When the center of the similarity transformation is not at the origin the effect of the transformation is not what most of us expect. This is readily visible if we limit the transformation to scaling: $T(\\mathbf{x}) = s\\mathbf{x}-s\\mathbf{c} + \\mathbf{c}$. Changing the transformation's center results in scale + translation."
   ]
  },
  {
   "cell_type": "code",
   "execution_count": 10,
   "metadata": {
    "execution": {
     "iopub.execute_input": "2021-10-28T17:51:13.681124Z",
     "iopub.status.busy": "2021-10-28T17:51:13.679257Z",
     "iopub.status.idle": "2021-10-28T17:51:13.805947Z",
     "shell.execute_reply": "2021-10-28T17:51:13.806283Z"
    }
   },
   "outputs": [
    {
     "data": {
      "application/vnd.jupyter.widget-view+json": {
       "model_id": "03151b97c31a4b9a9455296ed9888b61",
       "version_major": 2,
       "version_minor": 0
      },
      "text/plain": [
       "interactive(children=(IntSlider(value=0, description='x', max=10, min=-10), IntSlider(value=0, description='y'…"
      ]
     },
     "metadata": {},
     "output_type": "display_data"
    }
   ],
   "source": [
    "def display_center_effect(x, y, tx, point_list, xlim, ylim):\n",
    "    tx.SetCenter((x, y))\n",
    "    transformed_point_list = [tx.TransformPoint(p) for p in point_list]\n",
    "\n",
    "    plt.scatter(\n",
    "        list(np.array(transformed_point_list).T)[0],\n",
    "        list(np.array(transformed_point_list).T)[1],\n",
    "        marker=\"^\",\n",
    "        color=\"red\",\n",
    "        label=\"transformed points\",\n",
    "    )\n",
    "    plt.scatter(\n",
    "        list(np.array(point_list).T)[0],\n",
    "        list(np.array(point_list).T)[1],\n",
    "        marker=\"o\",\n",
    "        color=\"blue\",\n",
    "        label=\"original points\",\n",
    "    )\n",
    "    plt.xlim(xlim)\n",
    "    plt.ylim(ylim)\n",
    "    plt.legend(loc=(0.25, 1.01))\n",
    "\n",
    "\n",
    "# 2D square centered on (0,0)\n",
    "points = [\n",
    "    np.array((-1.0, -1.0)),\n",
    "    np.array((-1.0, 1.0)),\n",
    "    np.array((1.0, 1.0)),\n",
    "    np.array((1.0, -1.0)),\n",
    "]\n",
    "\n",
    "# Scale by 2\n",
    "similarity = sitk.Similarity2DTransform()\n",
    "similarity.SetScale(2)\n",
    "\n",
    "interact(\n",
    "    display_center_effect,\n",
    "    x=(-10, 10),\n",
    "    y=(-10, 10),\n",
    "    tx=fixed(similarity),\n",
    "    point_list=fixed(points),\n",
    "    xlim=fixed((-10, 10)),\n",
    "    ylim=fixed((-10, 10)),\n",
    ");"
   ]
  },
  {
   "cell_type": "markdown",
   "metadata": {},
   "source": [
    "## Rigid to Similarity [3D]\n",
    "Copy the translation, center, and matrix or versor."
   ]
  },
  {
   "cell_type": "code",
   "execution_count": 11,
   "metadata": {
    "execution": {
     "iopub.execute_input": "2021-10-28T17:51:13.810114Z",
     "iopub.status.busy": "2021-10-28T17:51:13.809669Z",
     "iopub.status.idle": "2021-10-28T17:51:13.812085Z",
     "shell.execute_reply": "2021-10-28T17:51:13.812355Z"
    }
   },
   "outputs": [
    {
     "name": "stdout",
     "output_type": "stream",
     "text": [
      "Euler3DTransform-Similarity3DTransform:\tminDifference: 0.00 maxDifference: 0.00\n"
     ]
    }
   ],
   "source": [
    "rotation_center = (100, 100, 100)\n",
    "theta_x = 0.0\n",
    "theta_y = 0.0\n",
    "theta_z = np.pi / 2.0\n",
    "translation = (1, 2, 3)\n",
    "\n",
    "rigid_euler = sitk.Euler3DTransform(\n",
    "    rotation_center, theta_x, theta_y, theta_z, translation\n",
    ")\n",
    "\n",
    "similarity = sitk.Similarity3DTransform()\n",
    "similarity.SetMatrix(rigid_euler.GetMatrix())\n",
    "similarity.SetTranslation(rigid_euler.GetTranslation())\n",
    "similarity.SetCenter(rigid_euler.GetCenter())\n",
    "\n",
    "# Apply the transformations to the same set of random points and compare the results\n",
    "# (see utility functions at top of notebook).\n",
    "print_transformation_differences(rigid_euler, similarity)"
   ]
  },
  {
   "cell_type": "markdown",
   "metadata": {},
   "source": [
    "## Compose Scale Skew Versor\n",
    "\n",
    "Composition of rotation  $R$ , scaling  $S$ , and shearing  $K$ in addition to translation:\n",
    "$$\n",
    "T(x)=RSK(\\mathbf{x}-\\mathbf{c}) + \\mathbf{t} + \\mathbf{c},\\;\\; \\textrm{where } S = \\left[\\begin{array}{ccc} s_0 & 0 & 0 \\\\ 0 & s_1 & 0 \\\\ 0 & 0 & s_2 \\end{array}\\right]\\;\\; \\textrm{and } K = \\left[\\begin{array}{ccc} 1 & k_0 & k_1 \\\\ 0 & 1 & k_2 \\\\ 0 & 0 & 1 \\end{array}\\right]$$ "
   ]
  },
  {
   "cell_type": "code",
   "execution_count": 12,
   "metadata": {
    "execution": {
     "iopub.execute_input": "2021-10-28T17:51:13.816538Z",
     "iopub.status.busy": "2021-10-28T17:51:13.816078Z",
     "iopub.status.idle": "2021-10-28T17:51:13.818375Z",
     "shell.execute_reply": "2021-10-28T17:51:13.818640Z"
    }
   },
   "outputs": [
    {
     "name": "stdout",
     "output_type": "stream",
     "text": [
      "Transform1 parameters: (0.0, 0.0, 0.7071067811865475, 1.0, 2.0, 3.0, 3.14, 1.59, 2.65, 4.0, 5.0, 6.0)\n",
      "Transform2 parameters: (0.0, 0.0, 0.7071067811865475, 1.0, 2.0, 3.0, 3.14, 1.59, 2.65, 4.0, 5.0, 6.0)\n",
      "ComposeScaleSkewVersor3DTransform-ComposeScaleSkewVersor3DTransform:\tminDifference: 3277.22 maxDifference: 3277.22\n"
     ]
    }
   ],
   "source": [
    "rotation_center = [100, 100, 100]\n",
    "axis = [0, 0, 1]\n",
    "angle = np.pi / 2.0\n",
    "translation = [1, 2, 3]\n",
    "scale_factors = [3.14, 1.59, 2.65]\n",
    "skew = [4, 5, 6]\n",
    "compose_scale_skew_rigid1 = sitk.ComposeScaleSkewVersor3DTransform(\n",
    "    scale_factors, skew, axis, angle, translation, rotation_center\n",
    ")\n",
    "\n",
    "# The versor is n*sin(theta/2) for a unit norm axis\n",
    "versor = [a * np.sin(angle / 2.0) / np.linalg.norm(axis) for a in axis]\n",
    "compose_scale_skew_rigid2 = sitk.ComposeScaleSkewVersor3DTransform()\n",
    "# Parameter order is versor, translation, scale, skew\n",
    "compose_scale_skew_rigid2.SetParameters(versor + translation + scale_factors + skew)\n",
    "\n",
    "# Compare the two transformations, their parameters and their effect on a set of\n",
    "# random points (utility function top of notebook)\n",
    "print(f\"Transform1 parameters: {compose_scale_skew_rigid1.GetParameters()}\")\n",
    "print(f\"Transform2 parameters: {compose_scale_skew_rigid2.GetParameters()}\")\n",
    "print_transformation_differences(compose_scale_skew_rigid1, compose_scale_skew_rigid2)"
   ]
  },
  {
   "cell_type": "markdown",
   "metadata": {},
   "source": [
    "Why don't the two transformations have the same effect on the point set even though their parameters are the same? What parameters did we forget to set for the second transformation?"
   ]
  },
  {
   "cell_type": "markdown",
   "metadata": {},
   "source": [
    "## Similarity to Affine [3D]\n",
    "Copy the translation, center and matrix."
   ]
  },
  {
   "cell_type": "code",
   "execution_count": 13,
   "metadata": {
    "execution": {
     "iopub.execute_input": "2021-10-28T17:51:13.822415Z",
     "iopub.status.busy": "2021-10-28T17:51:13.821983Z",
     "iopub.status.idle": "2021-10-28T17:51:13.823645Z",
     "shell.execute_reply": "2021-10-28T17:51:13.823967Z"
    }
   },
   "outputs": [
    {
     "name": "stdout",
     "output_type": "stream",
     "text": [
      "Similarity3DTransform-AffineTransform:\tminDifference: 0.00 maxDifference: 0.00\n"
     ]
    }
   ],
   "source": [
    "rotation_center = (100, 100, 100)\n",
    "axis = (0, 0, 1)\n",
    "angle = np.pi / 2.0\n",
    "translation = (1, 2, 3)\n",
    "scale_factor = 2.0\n",
    "similarity = sitk.Similarity3DTransform(\n",
    "    scale_factor, axis, angle, translation, rotation_center\n",
    ")\n",
    "\n",
    "affine = sitk.AffineTransform(3)\n",
    "affine.SetMatrix(similarity.GetMatrix())\n",
    "affine.SetTranslation(similarity.GetTranslation())\n",
    "affine.SetCenter(similarity.GetCenter())\n",
    "\n",
    "# Apply the transformations to the same set of random points and compare the results\n",
    "# (see utility functions at top of notebook).\n",
    "print_transformation_differences(similarity, affine)"
   ]
  },
  {
   "cell_type": "markdown",
   "metadata": {},
   "source": [
    "## Scale Transform\n",
    "\n",
    "Just as the case was for the similarity transformation above, when the transformations center is not at the origin, instead of a pure anisotropic scaling we also have translation ($T(\\mathbf{x}) = \\mathbf{s}^T\\mathbf{x}-\\mathbf{s}^T\\mathbf{c} + \\mathbf{c}$)."
   ]
  },
  {
   "cell_type": "code",
   "execution_count": 14,
   "metadata": {
    "execution": {
     "iopub.execute_input": "2021-10-28T17:51:13.837714Z",
     "iopub.status.busy": "2021-10-28T17:51:13.828744Z",
     "iopub.status.idle": "2021-10-28T17:51:13.925935Z",
     "shell.execute_reply": "2021-10-28T17:51:13.926273Z"
    }
   },
   "outputs": [
    {
     "data": {
      "application/vnd.jupyter.widget-view+json": {
       "model_id": "daab1096815144c3ab4ef4fa40dc9534",
       "version_major": 2,
       "version_minor": 0
      },
      "text/plain": [
       "interactive(children=(IntSlider(value=0, description='x', max=10, min=-10), IntSlider(value=0, description='y'…"
      ]
     },
     "metadata": {},
     "output_type": "display_data"
    }
   ],
   "source": [
    "# 2D square centered on (0,0).\n",
    "points = [\n",
    "    np.array((-1.0, -1.0)),\n",
    "    np.array((-1.0, 1.0)),\n",
    "    np.array((1.0, 1.0)),\n",
    "    np.array((1.0, -1.0)),\n",
    "]\n",
    "\n",
    "# Scale by half in x and 2 in y.\n",
    "scale = sitk.ScaleTransform(2, (0.5, 2))\n",
    "\n",
    "# Interactively change the location of the center.\n",
    "interact(\n",
    "    display_center_effect,\n",
    "    x=(-10, 10),\n",
    "    y=(-10, 10),\n",
    "    tx=fixed(scale),\n",
    "    point_list=fixed(points),\n",
    "    xlim=fixed((-10, 10)),\n",
    "    ylim=fixed((-10, 10)),\n",
    ");"
   ]
  },
  {
   "cell_type": "markdown",
   "metadata": {},
   "source": [
    "## Scale Versor\n",
    "\n",
    "This is not what you would expect from the name (composition of anisotropic scaling and rigid). This is:\n",
    "$$T(x) = (R+S)(\\mathbf{x}-\\mathbf{c}) + \\mathbf{t} + \\mathbf{c},\\;\\; \\textrm{where } S= \\left[\\begin{array}{ccc} s_0-1 & 0 & 0 \\\\ 0 & s_1-1 & 0 \\\\ 0 & 0 & s_2-1 \\end{array}\\right]$$ \n",
    "\n",
    "There is no natural way of \"promoting\" the similarity transformation to this transformation."
   ]
  },
  {
   "cell_type": "code",
   "execution_count": 15,
   "metadata": {
    "execution": {
     "iopub.execute_input": "2021-10-28T17:51:13.929345Z",
     "iopub.status.busy": "2021-10-28T17:51:13.928880Z",
     "iopub.status.idle": "2021-10-28T17:51:13.930693Z",
     "shell.execute_reply": "2021-10-28T17:51:13.930925Z"
    }
   },
   "outputs": [
    {
     "name": "stdout",
     "output_type": "stream",
     "text": [
      "itk::simple::ScaleVersor3DTransform\n",
      " ScaleVersor3DTransform (0x7fc185fbd270)\n",
      "   RTTI typeinfo:   itk::ScaleVersor3DTransform<double>\n",
      "   Reference Count: 1\n",
      "   Modified Time: 766\n",
      "   Debug: Off\n",
      "   Object Name: \n",
      "   Observers: \n",
      "     none\n",
      "   Matrix: \n",
      "     0.5 0 0 \n",
      "     0 0.7 0 \n",
      "     0 0 0.9 \n",
      "   Offset: [1, 2, 3]\n",
      "   Center: [0, 0, 0]\n",
      "   Translation: [1, 2, 3]\n",
      "   Inverse: \n",
      "     2 0 0 \n",
      "     0 1.42857 0 \n",
      "     0 0 1.11111 \n",
      "   Singular: 0\n",
      "   Versor: [ 0, 0, 0, 1 ]\n",
      "   Scales:       [0.5, 0.7, 0.9]\n",
      "\n"
     ]
    }
   ],
   "source": [
    "scales = (0.5, 0.7, 0.9)\n",
    "translation = (1, 2, 3)\n",
    "axis = (0, 0, 1)\n",
    "angle = 0.0\n",
    "scale_versor = sitk.ScaleVersor3DTransform(scales, axis, angle, translation)\n",
    "print(scale_versor)"
   ]
  },
  {
   "cell_type": "markdown",
   "metadata": {},
   "source": [
    "## Scale Skew Versor\n",
    "\n",
    "Again, not what you expect based on the name, this is not a composition of transformations. This is:\n",
    "$$T(x) = (R+S+K)(\\mathbf{x}-\\mathbf{c}) + \\mathbf{t} + \\mathbf{c},\\;\\; \\textrm{where } S = \\left[\\begin{array}{ccc} s_0-1 & 0 & 0 \\\\ 0 & s_1-1 & 0 \\\\ 0 & 0 & s_2-1 \\end{array}\\right]\\;\\; \\textrm{and } K = \\left[\\begin{array}{ccc} 0 & k_0 & k_1 \\\\ k_2 & 0 & k_3 \\\\ k_4 & k_5 & 0 \\end{array}\\right]$$ \n",
    "\n",
    "In practice this is an over-parametrized version of the affine transform, 15 (scale, skew, versor, translation) vs. 12 parameters (matrix, translation)."
   ]
  },
  {
   "cell_type": "code",
   "execution_count": 16,
   "metadata": {
    "execution": {
     "iopub.execute_input": "2021-10-28T17:51:13.933865Z",
     "iopub.status.busy": "2021-10-28T17:51:13.933435Z",
     "iopub.status.idle": "2021-10-28T17:51:13.935161Z",
     "shell.execute_reply": "2021-10-28T17:51:13.935463Z"
    }
   },
   "outputs": [
    {
     "name": "stdout",
     "output_type": "stream",
     "text": [
      "itk::simple::ScaleSkewVersor3DTransform\n",
      " ScaleSkewVersor3DTransform (0x7fc190a0ae20)\n",
      "   RTTI typeinfo:   itk::ScaleSkewVersor3DTransform<double>\n",
      "   Reference Count: 1\n",
      "   Modified Time: 776\n",
      "   Debug: Off\n",
      "   Object Name: \n",
      "   Observers: \n",
      "     none\n",
      "   Matrix: \n",
      "     2 0 0.2 \n",
      "     0.4 2.1 0.6 \n",
      "     0.8 1 3 \n",
      "   Offset: [1, 2, 3]\n",
      "   Center: [0, 0, 0]\n",
      "   Translation: [1, 2, 3]\n",
      "   Inverse: \n",
      "     0.511486 0.0179469 -0.0376884 \n",
      "     -0.0646088 0.524049 -0.100503 \n",
      "     -0.11486 -0.179469 0.376884 \n",
      "   Singular: 0\n",
      "   Versor: [ 0, 0, 0, 1 ]\n",
      "   Scale:       [2, 2.1, 3]\n",
      "   Skew:        [0, 0.2, 0.4, 0.6, 0.8, 1]\n",
      "\n"
     ]
    }
   ],
   "source": [
    "scale = (2, 2.1, 3)\n",
    "skew = np.linspace(\n",
    "    start=0.0, stop=1.0, num=6\n",
    ")  # six equally spaced values in[0,1], an arbitrary choice\n",
    "translation = (1, 2, 3)\n",
    "versor = (0, 0, 0, 1.0)\n",
    "scale_skew_versor = sitk.ScaleSkewVersor3DTransform(scale, skew, versor, translation)\n",
    "print(scale_skew_versor)"
   ]
  },
  {
   "cell_type": "markdown",
   "metadata": {},
   "source": [
    "## Bounded Transformations\n",
    "\n",
    "SimpleITK supports two types of bounded non-rigid transformations, BSplineTransform (sparse representation) and \tDisplacementFieldTransform (dense representation).\n",
    "\n",
    "Transforming a point that is outside the bounds will return the original point - identity transform."
   ]
  },
  {
   "cell_type": "code",
   "execution_count": 17,
   "metadata": {
    "execution": {
     "iopub.execute_input": "2021-10-28T17:51:13.939656Z",
     "iopub.status.busy": "2021-10-28T17:51:13.939214Z",
     "iopub.status.idle": "2021-10-28T17:51:13.940328Z",
     "shell.execute_reply": "2021-10-28T17:51:13.940640Z"
    }
   },
   "outputs": [],
   "source": [
    "#\n",
    "# This function displays the effects of the deformable transformation on a grid of points by scaling the\n",
    "# initial displacements (either of control points for BSpline or the deformation field itself). It does\n",
    "# assume that all points are contained in the range(-2.5,-2.5), (2.5,2.5).\n",
    "#\n",
    "def display_displacement_scaling_effect(\n",
    "    s, original_x_mat, original_y_mat, tx, original_control_point_displacements\n",
    "):\n",
    "    if tx.GetDimension() != 2:\n",
    "        raise ValueError(\"display_displacement_scaling_effect only works in 2D\")\n",
    "\n",
    "    plt.scatter(\n",
    "        original_x_mat,\n",
    "        original_y_mat,\n",
    "        marker=\"o\",\n",
    "        color=\"blue\",\n",
    "        label=\"original points\",\n",
    "    )\n",
    "    pointsX = []\n",
    "    pointsY = []\n",
    "    tx.SetParameters(s * original_control_point_displacements)\n",
    "\n",
    "    for index, value in np.ndenumerate(original_x_mat):\n",
    "        px, py = tx.TransformPoint((value, original_y_mat[index]))\n",
    "        pointsX.append(px)\n",
    "        pointsY.append(py)\n",
    "\n",
    "    plt.scatter(pointsX, pointsY, marker=\"^\", color=\"red\", label=\"transformed points\")\n",
    "    plt.legend(loc=(0.25, 1.01))\n",
    "    plt.xlim((-2.5, 2.5))\n",
    "    plt.ylim((-2.5, 2.5))"
   ]
  },
  {
   "cell_type": "markdown",
   "metadata": {},
   "source": [
    "## BSpline\n",
    "Using a sparse set of control points to control a free form deformation. Note that the order of parameters to the transformation is $[x_0\\ldots x_N,y_0\\ldots y_N, z_0\\ldots z_N]$ for $N$ control points.\n",
    "\n",
    "\n",
    "To configure this transformation type we need to specify its bounded domain and the parameters for the control points, the incremental shifts from original grid positions. This can either be done explicitly by specifying the set of parameters defining the domain and control point parameters one by one or by using a set of images that encode all of this information in a more compact manner.\n",
    "\n",
    "The next two code cells illustrate these two options."
   ]
  },
  {
   "cell_type": "code",
   "execution_count": 18,
   "metadata": {
    "execution": {
     "iopub.execute_input": "2021-10-28T17:51:13.945814Z",
     "iopub.status.busy": "2021-10-28T17:51:13.945422Z",
     "iopub.status.idle": "2021-10-28T17:51:14.029300Z",
     "shell.execute_reply": "2021-10-28T17:51:14.029625Z"
    }
   },
   "outputs": [
    {
     "data": {
      "application/vnd.jupyter.widget-view+json": {
       "model_id": "f374f6c2543448909eacbe0e439fc322",
       "version_major": 2,
       "version_minor": 0
      },
      "text/plain": [
       "interactive(children=(FloatSlider(value=0.0, description='s', max=1.5, min=-1.5), Output()), _dom_classes=('wi…"
      ]
     },
     "metadata": {},
     "output_type": "display_data"
    }
   ],
   "source": [
    "# Create the transformation (when working with images it is easier to use the BSplineTransformInitializer function\n",
    "# or its object oriented counterpart BSplineTransformInitializerFilter).\n",
    "dimension = 2\n",
    "spline_order = 3\n",
    "direction_matrix_row_major = [1.0, 0.0, 0.0, 1.0]  # identity, mesh is axis aligned\n",
    "origin = [-1.0, -1.0]\n",
    "domain_physical_dimensions = [2, 2]\n",
    "mesh_size = [4, 3]\n",
    "\n",
    "bspline = sitk.BSplineTransform(dimension, spline_order)\n",
    "bspline.SetTransformDomainOrigin(origin)\n",
    "bspline.SetTransformDomainDirection(direction_matrix_row_major)\n",
    "bspline.SetTransformDomainPhysicalDimensions(domain_physical_dimensions)\n",
    "bspline.SetTransformDomainMeshSize(mesh_size)\n",
    "\n",
    "# Random displacement of the control points, specifying the x and y\n",
    "# displacements separately allows us to play with these parameters,\n",
    "# just multiply one of them with zero to see the effect.\n",
    "x_displacement = np.random.random(len(bspline.GetParameters()) // 2)\n",
    "y_displacement = np.random.random(len(bspline.GetParameters()) // 2)\n",
    "original_control_point_displacements = np.concatenate([x_displacement, y_displacement])\n",
    "bspline.SetParameters(original_control_point_displacements)\n",
    "\n",
    "# Apply the BSpline transformation to a grid of points\n",
    "# starting the point set exactly at the origin of the BSpline mesh is problematic as\n",
    "# these points are considered outside the transformation's domain,\n",
    "# remove epsilon below and see what happens.\n",
    "numSamplesX = 10\n",
    "numSamplesY = 20\n",
    "\n",
    "coordsX = np.linspace(\n",
    "    origin[0] + np.finfo(float).eps,\n",
    "    origin[0] + domain_physical_dimensions[0],\n",
    "    numSamplesX,\n",
    ")\n",
    "coordsY = np.linspace(\n",
    "    origin[1] + np.finfo(float).eps,\n",
    "    origin[1] + domain_physical_dimensions[1],\n",
    "    numSamplesY,\n",
    ")\n",
    "XX, YY = np.meshgrid(coordsX, coordsY)\n",
    "\n",
    "interact(\n",
    "    display_displacement_scaling_effect,\n",
    "    s=(-1.5, 1.5),\n",
    "    original_x_mat=fixed(XX),\n",
    "    original_y_mat=fixed(YY),\n",
    "    tx=fixed(bspline),\n",
    "    original_control_point_displacements=fixed(original_control_point_displacements),\n",
    ");"
   ]
  },
  {
   "cell_type": "markdown",
   "metadata": {},
   "source": [
    "We next define the same BSpline transformation using a set of coefficient images. Note that to compare the parameter values for the two transformations we need to scale the values in the new transformation using the scale value used in the GUI above."
   ]
  },
  {
   "cell_type": "code",
   "execution_count": 19,
   "metadata": {
    "execution": {
     "iopub.execute_input": "2021-10-28T17:51:14.033854Z",
     "iopub.status.busy": "2021-10-28T17:51:14.033477Z",
     "iopub.status.idle": "2021-10-28T17:51:14.035072Z",
     "shell.execute_reply": "2021-10-28T17:51:14.035321Z"
    },
    "simpleitk_error_expected": "invalid syntax"
   },
   "outputs": [
    {
     "ename": "SyntaxError",
     "evalue": "invalid syntax (175885312.py, line 16)",
     "output_type": "error",
     "traceback": [
      "\u001b[0;36m  File \u001b[0;32m\"/var/folders/c3/3bzrl3qx043bknt1ycn3fcym0000gn/T/ipykernel_8224/175885312.py\"\u001b[0;36m, line \u001b[0;32m16\u001b[0m\n\u001b[0;31m    scale_factor_from_gui =\u001b[0m\n\u001b[0m                            ^\u001b[0m\n\u001b[0;31mSyntaxError\u001b[0m\u001b[0;31m:\u001b[0m invalid syntax\n"
     ]
    }
   ],
   "source": [
    "control_point_number = [sz+spline_order for sz in mesh_size]\n",
    "num_parameters_per_axis = np.prod(control_point_number)\n",
    "\n",
    "coefficient_images = []\n",
    "for i in range(dimension):\n",
    "    coefficient_image = sitk.GetImageFromArray((original_control_point_displacements[i*num_parameters_per_axis:(i+1)*num_parameters_per_axis]).reshape(control_point_number))\n",
    "    coefficient_image.SetOrigin(origin)\n",
    "    coefficient_image.SetSpacing([sz/(cp-1) for cp,sz in zip(control_point_number, domain_physical_dimensions)])\n",
    "    coefficient_image.SetDirection(direction_matrix_row_major)\n",
    "    coefficient_images.append(coefficient_image)\n",
    "\n",
    "bspline2 = sitk.BSplineTransform(coefficient_images, spline_order)\n",
    "\n",
    "# Note that the scale value is left intentionally blank: set the scale value based on the slider value in the GUI above.\n",
    "# You will get an error when executing the cell if a value is not provided.\n",
    "scale_factor_from_gui = \n",
    "print(np.array(bspline.GetParameters()) - np.array(bspline2.GetParameters())*scale_factor_from_gui)"
   ]
  },
  {
   "cell_type": "markdown",
   "metadata": {},
   "source": [
    "## DisplacementField\n",
    "\n",
    "A dense set of vectors representing the displacement inside the given domain. The most generic representation of a transformation."
   ]
  },
  {
   "cell_type": "code",
   "execution_count": 20,
   "metadata": {
    "execution": {
     "iopub.execute_input": "2021-10-28T17:51:14.042093Z",
     "iopub.status.busy": "2021-10-28T17:51:14.041698Z",
     "iopub.status.idle": "2021-10-28T17:51:14.123014Z",
     "shell.execute_reply": "2021-10-28T17:51:14.123347Z"
    }
   },
   "outputs": [
    {
     "data": {
      "application/vnd.jupyter.widget-view+json": {
       "model_id": "fe0d50ab4cd04299a11de9b1e10894f8",
       "version_major": 2,
       "version_minor": 0
      },
      "text/plain": [
       "interactive(children=(FloatSlider(value=0.0, description='s', max=1.5, min=-1.5), Output()), _dom_classes=('wi…"
      ]
     },
     "metadata": {},
     "output_type": "display_data"
    }
   ],
   "source": [
    "# Create the displacement field.\n",
    "\n",
    "# When working with images the safer thing to do is use the image based constructor,\n",
    "# sitk.DisplacementFieldTransform(my_image), all the fixed parameters will be set correctly and the displacement\n",
    "# field is initialized using the vectors stored in the image. SimpleITK requires that the image's pixel type be\n",
    "# sitk.sitkVectorFloat64.\n",
    "displacement = sitk.DisplacementFieldTransform(2)\n",
    "field_size = [10, 20]\n",
    "field_origin = [-1.0, -1.0]\n",
    "field_spacing = [2.0 / 9.0, 2.0 / 19.0]\n",
    "field_direction = [1, 0, 0, 1]  # direction cosine matrix (row major order)\n",
    "\n",
    "# Concatenate all the information into a single list\n",
    "displacement.SetFixedParameters(\n",
    "    field_size + field_origin + field_spacing + field_direction\n",
    ")\n",
    "# Set the interpolator, either sitkLinear which is default or nearest neighbor\n",
    "displacement.SetInterpolator(sitk.sitkNearestNeighbor)\n",
    "\n",
    "originalDisplacements = np.random.random(len(displacement.GetParameters()))\n",
    "displacement.SetParameters(originalDisplacements)\n",
    "\n",
    "coordsX = np.linspace(\n",
    "    field_origin[0],\n",
    "    field_origin[0] + (field_size[0] - 1) * field_spacing[0],\n",
    "    field_size[0],\n",
    ")\n",
    "coordsY = np.linspace(\n",
    "    field_origin[1],\n",
    "    field_origin[1] + (field_size[1] - 1) * field_spacing[1],\n",
    "    field_size[1],\n",
    ")\n",
    "XX, YY = np.meshgrid(coordsX, coordsY)\n",
    "\n",
    "interact(\n",
    "    display_displacement_scaling_effect,\n",
    "    s=(-1.5, 1.5),\n",
    "    original_x_mat=fixed(XX),\n",
    "    original_y_mat=fixed(YY),\n",
    "    tx=fixed(displacement),\n",
    "    original_control_point_displacements=fixed(originalDisplacements),\n",
    ");"
   ]
  },
  {
   "cell_type": "markdown",
   "metadata": {},
   "source": [
    "Displacement field transform created from an image. Remember that SimpleITK will clear the image you provide, as shown in the cell below."
   ]
  },
  {
   "cell_type": "code",
   "execution_count": 21,
   "metadata": {
    "execution": {
     "iopub.execute_input": "2021-10-28T17:51:14.127131Z",
     "iopub.status.busy": "2021-10-28T17:51:14.126715Z",
     "iopub.status.idle": "2021-10-28T17:51:14.128307Z",
     "shell.execute_reply": "2021-10-28T17:51:14.128703Z"
    }
   },
   "outputs": [
    {
     "name": "stdout",
     "output_type": "stream",
     "text": [
      "Original displacement image size: 64.0 64.0\n",
      "After using the image to create a transform, displacement image size: 0.0 0.0\n",
      "Expected result: (0.5, 0.5)\n",
      "Actual result:(0.5, 0.5)\n"
     ]
    }
   ],
   "source": [
    "displacement_image = sitk.Image([64, 64], sitk.sitkVectorFloat64)\n",
    "# The only point that has any displacement is (0,0)\n",
    "displacement = (0.5, 0.5)\n",
    "displacement_image[0, 0] = displacement\n",
    "\n",
    "print(\"Original displacement image size: \" + point2str(displacement_image.GetSize()))\n",
    "\n",
    "displacement_field_transform = sitk.DisplacementFieldTransform(displacement_image)\n",
    "\n",
    "print(\n",
    "    \"After using the image to create a transform, displacement image size: \"\n",
    "    + point2str(displacement_image.GetSize())\n",
    ")\n",
    "\n",
    "# Check that the displacement field transform does what we expect.\n",
    "print(\n",
    "    f\"Expected result: {str(displacement)}\\nActual result:{displacement_field_transform.TransformPoint((0,0))}\"\n",
    ")"
   ]
  },
  {
   "cell_type": "markdown",
   "metadata": {},
   "source": [
    "## Inverting bounded transforms\n",
    "\n",
    "In SimpleITK we cannot directly invert a BSpline transform. Luckily there are several ways to invert a displacement field transform, and **all** transformations can be readily converted to a displacement field. Note though that representing a transformation as a deformation field is an approximation of the original transformation where representation consistency depends on the smoothness of the original transformation and the sampling rate (spacing) of the deformation field.\n",
    "\n",
    "The relevant classes are listed below.\n",
    "* [TransformToDisplacementFieldFilter](https://simpleitk.org/doxygen/latest/html/classitk_1_1simple_1_1TransformToDisplacementFieldFilter.html)\n",
    "\n",
    "Options for inverting displacement field:\n",
    "* [InvertDisplacementFieldImageFilter](https://simpleitk.org/doxygen/latest/html/classitk_1_1simple_1_1InvertDisplacementFieldImageFilter.html)\n",
    "* [InverseDisplacementFieldImageFilter](https://simpleitk.org/doxygen/latest/html/classitk_1_1simple_1_1InverseDisplacementFieldImageFilter.html)\n",
    "* [IterativeInverseDisplacementFieldImageFilter](https://simpleitk.org/doxygen/latest/html/classitk_1_1simple_1_1IterativeInverseDisplacementFieldImageFilter.html)\n",
    "\n",
    "**Note**: The methods used to invert a displacement field make assumptions with respect to the function smoothness and continuity and will fail to yield a valid result if these assumptions are not met. For example an affine transformation representing a reflection is invertible, but inverting a deformation field representing this transformation will not yield the desired inverse.  \n",
    "\n",
    "In the next cell we invert the BSpline transform we worked with above."
   ]
  },
  {
   "cell_type": "code",
   "execution_count": 22,
   "metadata": {
    "execution": {
     "iopub.execute_input": "2021-10-28T17:51:14.133756Z",
     "iopub.status.busy": "2021-10-28T17:51:14.133346Z",
     "iopub.status.idle": "2021-10-28T17:51:14.140004Z",
     "shell.execute_reply": "2021-10-28T17:51:14.140256Z"
    }
   },
   "outputs": [
    {
     "name": "stdout",
     "output_type": "stream",
     "text": [
      "Original transformation result: [ 0.4 -0.2]\n",
      "Deformaiton field transformation result: [ 0.4 -0.2]\n",
      "Difference between transformed points is: 0.0\n",
      "Original point: [0.4, -0.2]\n",
      "There and back point: [ 0.4 -0.2]\n",
      "Difference between original and there-and-back points: 0.0\n"
     ]
    }
   ],
   "source": [
    "# Convert the BSpline transform to a displacement field\n",
    "physical_size = bspline.GetTransformDomainPhysicalDimensions()\n",
    "# The deformation field spacing affects the accuracy of the transform approximation,\n",
    "# so we set it here to 0.1mm in all directions.\n",
    "output_spacing = [0.1] * bspline.GetDimension()\n",
    "output_size = [\n",
    "    int(phys_sz / spc + 1) for phys_sz, spc in zip(physical_size, output_spacing)\n",
    "]\n",
    "displacement_field_transform = sitk.DisplacementFieldTransform(\n",
    "    sitk.TransformToDisplacementField(\n",
    "        bspline,\n",
    "        outputPixelType=sitk.sitkVectorFloat64,\n",
    "        size=output_size,\n",
    "        outputOrigin=bspline.GetTransformDomainOrigin(),\n",
    "        outputSpacing=output_spacing,\n",
    "        outputDirection=bspline.GetTransformDomainDirection(),\n",
    "    )\n",
    ")\n",
    "\n",
    "# Arbitrary point to evaluate the consistency of the two representations.\n",
    "# Change the value for the \"output_spacing\" above to evaluate its effect\n",
    "# on the transformation representation consistency.\n",
    "pnt = [0.4, -0.2]\n",
    "original_transformed = np.array(bspline.TransformPoint(pnt))\n",
    "secondary_transformed = np.array(displacement_field_transform.TransformPoint(pnt))\n",
    "print(f\"Original transformation result: {original_transformed}\")\n",
    "print(f\"Deformaiton field transformation result: {secondary_transformed}\")\n",
    "print(\n",
    "    f\"Difference between transformed points is: {np.linalg.norm(original_transformed - secondary_transformed)}\"\n",
    ")\n",
    "\n",
    "# Invert a displacement field transform\n",
    "displacement_image = displacement_field_transform.GetDisplacementField()\n",
    "bspline_inverse_displacement = sitk.DisplacementFieldTransform(\n",
    "    sitk.InvertDisplacementField(\n",
    "        displacement_image,\n",
    "        maximumNumberOfIterations=20,\n",
    "        maxErrorToleranceThreshold=0.01,\n",
    "        meanErrorToleranceThreshold=0.0001,\n",
    "        enforceBoundaryCondition=True,\n",
    "    )\n",
    ")\n",
    "\n",
    "\n",
    "# Transform the point using the original BSpline transformation and then back\n",
    "# via the displacement field inverse.\n",
    "there_and_back = np.array(\n",
    "    bspline_inverse_displacement.TransformPoint(bspline.TransformPoint(pnt))\n",
    ")\n",
    "print(f\"Original point: {pnt}\")\n",
    "print(f\"There and back point: {there_and_back}\")\n",
    "print(\n",
    "    f\"Difference between original and there-and-back points: {np.linalg.norm(pnt - there_and_back)}\"\n",
    ")"
   ]
  },
  {
   "cell_type": "markdown",
   "metadata": {},
   "source": [
    "## CompositeTransform\n",
    "\n",
    "This class represents a composition of transformations, multiple transformations applied one after the other. \n",
    "\n",
    "The choice of whether to use a composite transformation or compose transformations on your own has subtle differences in the registration framework.\n",
    "\n",
    "Below we represent the composite transformation $T_{affine}(T_{rigid}(x))$ in two ways: (1) use a composite transformation to contain the two; (2) combine the two into a single affine transformation. We can use both as initial transforms (SetInitialTransform) for the registration framework (ImageRegistrationMethod). The difference is that in the former case the optimized parameters belong to the rigid transformation and in the later they belong to the combined-affine transformation. "
   ]
  },
  {
   "cell_type": "code",
   "execution_count": 23,
   "metadata": {
    "execution": {
     "iopub.execute_input": "2021-10-28T17:51:14.146179Z",
     "iopub.status.busy": "2021-10-28T17:51:14.145730Z",
     "iopub.status.idle": "2021-10-28T17:51:14.148343Z",
     "shell.execute_reply": "2021-10-28T17:51:14.148748Z"
    }
   },
   "outputs": [
    {
     "name": "stdout",
     "output_type": "stream",
     "text": [
      "Apply the two transformations to the same point cloud:\n",
      "\tCompositeTransform-AffineTransform:\tminDifference: 0.00 maxDifference: 0.00\n",
      "Transform parameters:\n",
      "\tComposite transform: 0.00 0.00 1.57 1.00 2.00 3.00\n",
      "\tCombined affine: 0.82 -0.30 0.77 0.02 -0.87 0.18 0.67 -0.98 0.16 80.18 13.43 75.04\n",
      "Fixed parameters:\n",
      "\tComposite transform: 100.00 100.00 100.00 0.00\n",
      "\tCombined affine: 100.00 100.00 100.00\n"
     ]
    }
   ],
   "source": [
    "# Create a composite transformation: T_affine(T_rigid(x)).\n",
    "rigid_center = (100, 100, 100)\n",
    "theta_x = 0.0\n",
    "theta_y = 0.0\n",
    "theta_z = np.pi / 2.0\n",
    "rigid_translation = (1, 2, 3)\n",
    "rigid_euler = sitk.Euler3DTransform(\n",
    "    rigid_center, theta_x, theta_y, theta_z, rigid_translation\n",
    ")\n",
    "\n",
    "affine_center = (20, 20, 20)\n",
    "affine_translation = (5, 6, 7)\n",
    "\n",
    "# Matrix is represented as a vector-like data in row major order.\n",
    "affine_matrix = np.random.random(9)\n",
    "affine = sitk.AffineTransform(affine_matrix, affine_translation, affine_center)\n",
    "\n",
    "# Using the composite transformation we just add them in (stack based, first in - last applied).\n",
    "composite_transform = sitk.CompositeTransform(affine)\n",
    "composite_transform.AddTransform(rigid_euler)\n",
    "\n",
    "# Create a single transform manually. this is a recipe for compositing any two global transformations\n",
    "# into an affine transformation, T_0(T_1(x)):\n",
    "# A = A=A0*A1\n",
    "# c = c1\n",
    "# t = A0*[t1+c1-c0] + t0+c0-c1\n",
    "A0 = np.asarray(affine.GetMatrix()).reshape(3, 3)\n",
    "c0 = np.asarray(affine.GetCenter())\n",
    "t0 = np.asarray(affine.GetTranslation())\n",
    "\n",
    "A1 = np.asarray(rigid_euler.GetMatrix()).reshape(3, 3)\n",
    "c1 = np.asarray(rigid_euler.GetCenter())\n",
    "t1 = np.asarray(rigid_euler.GetTranslation())\n",
    "\n",
    "combined_mat = np.dot(A0, A1)\n",
    "combined_center = c1\n",
    "combined_translation = np.dot(A0, t1 + c1 - c0) + t0 + c0 - c1\n",
    "combined_affine = sitk.AffineTransform(\n",
    "    combined_mat.flatten(), combined_translation, combined_center\n",
    ")\n",
    "\n",
    "# Check if the two transformations are equivalent.\n",
    "print(\"Apply the two transformations to the same point cloud:\")\n",
    "print(\"\\t\", end=\"\")\n",
    "print_transformation_differences(composite_transform, combined_affine)\n",
    "\n",
    "print(\"Transform parameters:\")\n",
    "print(\"\\tComposite transform: \" + point2str(composite_transform.GetParameters(), 2))\n",
    "print(\"\\tCombined affine: \" + point2str(combined_affine.GetParameters(), 2))\n",
    "\n",
    "print(\"Fixed parameters:\")\n",
    "print(\n",
    "    \"\\tComposite transform: \" + point2str(composite_transform.GetFixedParameters(), 2)\n",
    ")\n",
    "print(\"\\tCombined affine: \" + point2str(combined_affine.GetFixedParameters(), 2))"
   ]
  },
  {
   "cell_type": "markdown",
   "metadata": {},
   "source": [
    "Composite transforms enable a combination of a global transformation with multiple local/bounded transformations. This is useful if we want to apply deformations only in regions that deform while other regions are only effected by the global transformation.\n",
    "\n",
    "The following code illustrates this, where the whole region is translated and subregions have different deformations."
   ]
  },
  {
   "cell_type": "code",
   "execution_count": 24,
   "metadata": {
    "execution": {
     "iopub.execute_input": "2021-10-28T17:51:14.154818Z",
     "iopub.status.busy": "2021-10-28T17:51:14.154330Z",
     "iopub.status.idle": "2021-10-28T17:51:14.244033Z",
     "shell.execute_reply": "2021-10-28T17:51:14.244291Z"
    }
   },
   "outputs": [
    {
     "data": {
      "image/png": "[encoded data removed]",
      "text/plain": [
       "<Figure size 432x288 with 1 Axes>"
      ]
     },
     "metadata": {
      "needs_background": "light"
     },
     "output_type": "display_data"
    }
   ],
   "source": [
    "# Global transformation.\n",
    "translation = sitk.TranslationTransform(2, (1.0, 0.0))\n",
    "\n",
    "# Displacement in region 1.\n",
    "displacement1 = sitk.DisplacementFieldTransform(2)\n",
    "field_size = [10, 20]\n",
    "field_origin = [-1.0, -1.0]\n",
    "field_spacing = [2.0 / 9.0, 2.0 / 19.0]\n",
    "field_direction = [1, 0, 0, 1]  # direction cosine matrix (row major order)\n",
    "\n",
    "# Concatenate all the information into  a single list.\n",
    "displacement1.SetFixedParameters(\n",
    "    field_size + field_origin + field_spacing + field_direction\n",
    ")\n",
    "displacement1.SetParameters(np.ones(len(displacement1.GetParameters())))\n",
    "\n",
    "# Displacement in region 2.\n",
    "displacement2 = sitk.DisplacementFieldTransform(2)\n",
    "field_size = [10, 20]\n",
    "field_origin = [1.0, -3]\n",
    "field_spacing = [2.0 / 9.0, 2.0 / 19.0]\n",
    "field_direction = [1, 0, 0, 1]  # direction cosine matrix (row major order)\n",
    "\n",
    "# Concatenate all the information into a single list.\n",
    "displacement2.SetFixedParameters(\n",
    "    field_size + field_origin + field_spacing + field_direction\n",
    ")\n",
    "displacement2.SetParameters(-1.0 * np.ones(len(displacement2.GetParameters())))\n",
    "\n",
    "# Composite transform which applies the global and local transformations.\n",
    "composite = sitk.CompositeTransform([translation, displacement1, displacement2])\n",
    "\n",
    "# Apply the composite transformation to points in ([-1,-3],[3,1]) and\n",
    "# display the deformation using a quiver plot.\n",
    "\n",
    "# Generate points.\n",
    "numSamplesX = 10\n",
    "numSamplesY = 10\n",
    "coordsX = np.linspace(-1.0, 3.0, numSamplesX)\n",
    "coordsY = np.linspace(-3.0, 1.0, numSamplesY)\n",
    "XX, YY = np.meshgrid(coordsX, coordsY)\n",
    "\n",
    "# Transform points and compute deformation vectors.\n",
    "pointsX = np.zeros(XX.shape)\n",
    "pointsY = np.zeros(XX.shape)\n",
    "for index, value in np.ndenumerate(XX):\n",
    "    px, py = composite.TransformPoint((value, YY[index]))\n",
    "    pointsX[index] = px - value\n",
    "    pointsY[index] = py - YY[index]\n",
    "\n",
    "plt.quiver(XX, YY, pointsX, pointsY);"
   ]
  },
  {
   "cell_type": "markdown",
   "metadata": {},
   "source": [
    "## Inverting Composite Transform\n",
    "\n",
    "When a `CompositeTransform` is:\n",
    "1. only comprised of global transformations, all we need to do is call its `GetInverse` method.\n",
    "2. comprised of both global and bounded transformations, the `GetInverse` method will fail because inverting the bounded transformations requires additional information which is not available as part of the transformation.\n",
    "    \n",
    "The next cell shows how to invert a `CompositeTransform` for the generic case."
   ]
  },
  {
   "cell_type": "code",
   "execution_count": 25,
   "metadata": {
    "execution": {
     "iopub.execute_input": "2021-10-28T17:51:14.251902Z",
     "iopub.status.busy": "2021-10-28T17:51:14.251009Z",
     "iopub.status.idle": "2021-10-28T17:51:14.551472Z",
     "shell.execute_reply": "2021-10-28T17:51:14.551739Z"
    }
   },
   "outputs": [
    {
     "data": {
      "image/png": "[encoded data removed]",
      "text/plain": [
       "<Figure size 432x288 with 1 Axes>"
      ]
     },
     "metadata": {
      "needs_background": "light"
     },
     "output_type": "display_data"
    }
   ],
   "source": [
    "def invert_composite_transform(\n",
    "    original_transform, displacement_field_inverter, grid_spacing=None\n",
    "):\n",
    "    \"\"\"\n",
    "    Invert the given CompositeTransform. Note that the original\n",
    "    transform is modified, flattened. We do not create a copy\n",
    "    of the original because of the large memory usage associated\n",
    "    with the bounded transformations. If the caller wants to retain\n",
    "    the original nested structure of the CompositeTransform it is up\n",
    "    to them to create a copy prior to calling this method.\n",
    "    Args:\n",
    "        original_transform: A CompositeTransform containing global transforms\n",
    "                            bounded transform and nested composite transforms.\n",
    "        displacement_field_inverter: Configured object for inverting a displacement\n",
    "                                     field. One of InvertDisplacementFieldImageFilter,\n",
    "                                     InverseDisplacementFieldImageFilter,\n",
    "                                     IterativeInverseDisplacementFieldImageFilter.\n",
    "        grid_spacing: The grid spacing to use for approximating internal BSplineTransforms.\n",
    "                      Finer grids provide better approximation at a cost of a larger\n",
    "                      memory footprint.\n",
    "    Return:\n",
    "        CompositeTransform which is the inverse of the given one.\n",
    "    \"\"\"\n",
    "    inverted_transform_list = []\n",
    "    original_transform.FlattenTransform()\n",
    "    for i in range(original_transform.GetNumberOfTransforms() - 1, -1, -1):\n",
    "        tx = original_transform.GetNthTransform(i)\n",
    "        ttype = tx.GetTransformEnum()\n",
    "        if ttype is sitk.sitkDisplacementField:\n",
    "            inverted_transform_list.append(\n",
    "                sitk.DisplacementFieldTransform(\n",
    "                    displacement_field_inverter.Execute(\n",
    "                        sitk.DisplacementFieldTransform(tx).GetDisplacementField()\n",
    "                    )\n",
    "                )\n",
    "            )\n",
    "        elif ttype is sitk.sitkBSplineTransform:\n",
    "            # Convert the BSpline transform to a displacement field and then invert that transform\n",
    "            physical_size = tx.GetTransformDomainPhysicalDimensions()\n",
    "            grid_size = [\n",
    "                int(phys_sz / spc + 1)\n",
    "                for phys_sz, spc in zip(physical_size, grid_spacing)\n",
    "            ]\n",
    "            displacement_field_image = sitk.TransformToDisplacementField(\n",
    "                tx,\n",
    "                outputPixelType=sitk.sitkVectorFloat64,\n",
    "                size=grid_size,\n",
    "                outputOrigin=tx.GetTransformDomainOrigin(),\n",
    "                outputSpacing=grid_spacing,\n",
    "                outputDirection=tx.GetTransformDomainDirection(),\n",
    "            )\n",
    "            inverted_transform_list.append(\n",
    "                sitk.DisplacementFieldTransform(\n",
    "                    displacement_field_inverter.Execute(displacement_field_image)\n",
    "                )\n",
    "            )\n",
    "        else:\n",
    "            inverted_transform_list.append(tx.GetInverse())\n",
    "    return sitk.CompositeTransform(inverted_transform_list)\n",
    "\n",
    "\n",
    "# inverting a CompositeTransform:\n",
    "# 1. Select the inversion algorithm and configure it (possibly use default configuration).\n",
    "# 2. Call the invert_composite_transform function.\n",
    "\n",
    "df_inverter = sitk.InvertDisplacementFieldImageFilter()\n",
    "df_inverter.SetMaximumNumberOfIterations(100)\n",
    "df_inverter.SetEnforceBoundaryCondition(True)\n",
    "\n",
    "composite_inverse = invert_composite_transform(composite, df_inverter)\n",
    "\n",
    "# display the inverse composite transform using a quiver plot\n",
    "pointsX = np.zeros(XX.shape)\n",
    "pointsY = np.zeros(XX.shape)\n",
    "for index, value in np.ndenumerate(XX):\n",
    "    px, py = composite_inverse.TransformPoint((value, YY[index]))\n",
    "    pointsX[index] = px - value\n",
    "    pointsY[index] = py - YY[index]\n",
    "\n",
    "plt.quiver(XX, YY, pointsX, pointsY);"
   ]
  },
  {
   "cell_type": "markdown",
   "metadata": {},
   "source": [
    "## Transform\n",
    "\n",
    "This class represents a generic transform and is the return type from the registration framework (if not done in place). Underneath the generic facade is one of the actual classes. To find out who is hiding under the hood we can query the transform to obtain the [TransformEnum](https://simpleitk.org/doxygen/latest/html/namespaceitk_1_1simple.html#a527cb966ed81d0bdc65999f4d2d4d852).\n",
    "\n",
    "We can then downcast the generic transform to its actual type and obtain access to the relevant methods."
   ]
  },
  {
   "cell_type": "code",
   "execution_count": 26,
   "metadata": {
    "execution": {
     "iopub.execute_input": "2021-10-28T17:51:14.555004Z",
     "iopub.status.busy": "2021-10-28T17:51:14.554579Z",
     "iopub.status.idle": "2021-10-28T17:51:14.556295Z",
     "shell.execute_reply": "2021-10-28T17:51:14.556546Z"
    }
   },
   "outputs": [
    {
     "name": "stdout",
     "output_type": "stream",
     "text": [
      "The generic transform does not have this method.\n",
      "(1.0, 0.0)\n"
     ]
    }
   ],
   "source": [
    "anonymous_transform_type = sitk.Transform(sitk.TranslationTransform(2, (1.0, 0.0)))\n",
    "\n",
    "try:\n",
    "    print(anonymous_transform_type.GetOffset())\n",
    "except:\n",
    "    print(\"The generic transform does not have this method.\")\n",
    "\n",
    "if anonymous_transform_type.GetTransformEnum() == sitk.sitkTranslation:\n",
    "    translation = sitk.TranslationTransform(anonymous_transform_type)\n",
    "    print(translation.GetOffset())"
   ]
  },
  {
   "cell_type": "markdown",
   "metadata": {},
   "source": [
    "## Writing and Reading\n",
    "\n",
    "The SimpleITK.ReadTransform() returns a SimpleITK.Transform . The content of the file can be any of the SimpleITK transformations or a composite (set of transformations). \n",
    "\n",
    "**Details of note**:\n",
    "1. When read from file, the type of the returned transform is the generic `Transform`. We can then obtain the \"true\" transform type via the `Downcast` method.\n",
    "2. Writing of nested composite transforms is not supported, you will need to \"flatten\" the transform before writing it to file."
   ]
  },
  {
   "cell_type": "code",
   "execution_count": 27,
   "metadata": {
    "execution": {
     "iopub.execute_input": "2021-10-28T17:51:14.561796Z",
     "iopub.status.busy": "2021-10-28T17:51:14.561396Z",
     "iopub.status.idle": "2021-10-28T17:51:14.566315Z",
     "shell.execute_reply": "2021-10-28T17:51:14.566774Z"
    }
   },
   "outputs": [
    {
     "name": "stdout",
     "output_type": "stream",
     "text": [
      "Different types (before downcast): True\n",
      "Different types (after downcast): False\n",
      "Euler2DTransform-Euler2DTransform:\tminDifference: 0.00 maxDifference: 0.00\n",
      "CompositeTransform-Transform:\tminDifference: 0.00 maxDifference: 0.00\n"
     ]
    }
   ],
   "source": [
    "import os\n",
    "\n",
    "# Create a 2D rigid transformation, write it to disk and read it back.\n",
    "basic_transform = sitk.Euler2DTransform()\n",
    "basic_transform.SetTranslation((1, 2))\n",
    "basic_transform.SetAngle(np.pi / 2)\n",
    "\n",
    "full_file_name = os.path.join(OUTPUT_DIR, \"euler2D.tfm\")\n",
    "\n",
    "sitk.WriteTransform(basic_transform, full_file_name)\n",
    "\n",
    "# The ReadTransform function returns an sitk.Transform no matter the type of the transform\n",
    "# found in the file (global, bounded, composite).\n",
    "read_result = sitk.ReadTransform(full_file_name)\n",
    "\n",
    "print(\n",
    "    \"Different types (before downcast): \"\n",
    "    + str(type(read_result) != type(basic_transform))\n",
    ")\n",
    "# Downcast the transform so that it is the specific type and not the generic type\n",
    "read_result = read_result.Downcast()\n",
    "print(\n",
    "    \"Different types (after downcast): \"\n",
    "    + str(type(read_result) != type(basic_transform))\n",
    ")\n",
    "\n",
    "print_transformation_differences(basic_transform, read_result)\n",
    "\n",
    "\n",
    "# Create a composite transform then write and read.\n",
    "displacement = sitk.DisplacementFieldTransform(2)\n",
    "field_size = [10, 20]\n",
    "field_origin = [-10.0, -100.0]\n",
    "field_spacing = [20.0 / (field_size[0] - 1), 200.0 / (field_size[1] - 1)]\n",
    "field_direction = [1, 0, 0, 1]  # direction cosine matrix (row major order)\n",
    "\n",
    "# Concatenate all the information into a single list.\n",
    "displacement.SetFixedParameters(\n",
    "    field_size + field_origin + field_spacing + field_direction\n",
    ")\n",
    "displacement.SetParameters(np.random.random(len(displacement.GetParameters())))\n",
    "\n",
    "composite_transform = sitk.CompositeTransform([basic_transform, displacement])\n",
    "\n",
    "full_file_name = os.path.join(OUTPUT_DIR, \"composite.tfm\")\n",
    "\n",
    "sitk.WriteTransform(composite_transform, full_file_name)\n",
    "read_result = sitk.ReadTransform(full_file_name)\n",
    "\n",
    "print_transformation_differences(composite_transform, read_result)"
   ]
  },
  {
   "cell_type": "code",
   "execution_count": 28,
   "metadata": {
    "execution": {
     "iopub.execute_input": "2021-10-28T17:51:14.570091Z",
     "iopub.status.busy": "2021-10-28T17:51:14.569657Z",
     "iopub.status.idle": "2021-10-28T17:51:14.571827Z",
     "shell.execute_reply": "2021-10-28T17:51:14.572096Z"
    }
   },
   "outputs": [
    {
     "name": "stdout",
     "output_type": "stream",
     "text": [
      "Nested composite transform contains 2 transforms.\n",
      "Nested composite transform after flattening contains 4 transforms.\n"
     ]
    }
   ],
   "source": [
    "x_translation = sitk.TranslationTransform(2, [1, 0])\n",
    "y_translation = sitk.TranslationTransform(2, [0, 1])\n",
    "# Create composite transform with the x_translation repeated 3 times\n",
    "composite_transform1 = sitk.CompositeTransform([x_translation] * 3)\n",
    "\n",
    "# Create a nested composite transform\n",
    "composite_transform = sitk.CompositeTransform([y_translation, composite_transform1])\n",
    "print(\n",
    "    f\"Nested composite transform contains {composite_transform.GetNumberOfTransforms()} transforms.\"\n",
    ")\n",
    "\n",
    "# We cannot write nested composite transformations, so we\n",
    "# flatten it (unravel the nested part)\n",
    "composite_transform.FlattenTransform()\n",
    "print(\n",
    "    f\"Nested composite transform after flattening contains {composite_transform.GetNumberOfTransforms()} transforms.\"\n",
    ")\n",
    "\n",
    "full_file_name = os.path.join(OUTPUT_DIR, \"composite.tfm\")\n",
    "sitk.WriteTransform(composite_transform, full_file_name)"
   ]
  }
 ],
 "metadata": {
  "anaconda-cloud": {},
  "kernelspec": {
   "display_name": "Python 3 (ipykernel)",
   "language": "python",
   "name": "python3"
  },
  "language_info": {
   "codemirror_mode": {
    "name": "ipython",
    "version": 3
   },
   "file_extension": ".py",
   "mimetype": "text/x-python",
   "name": "python",
   "nbconvert_exporter": "python",
   "pygments_lexer": "ipython3",
   "version": "3.8.12"
  },
  "widgets": {
   "application/vnd.jupyter.widget-state+json": {
    "state": {
     "03151b97c31a4b9a9455296ed9888b61": {
      "model_module": "@jupyter-widgets/controls",
      "model_module_version": "1.5.0",
      "model_name": "VBoxModel",
      "state": {
       "_dom_classes": [
        "widget-interact"
       ],
       "_model_module": "@jupyter-widgets/controls",
       "_model_module_version": "1.5.0",
       "_model_name": "VBoxModel",
       "_view_count": null,
       "_view_module": "@jupyter-widgets/controls",
       "_view_module_version": "1.5.0",
       "_view_name": "VBoxView",
       "box_style": "",
       "children": [
        "IPY_MODEL_03f78dbae5e0486596aa364ada843f70",
        "IPY_MODEL_553dbe4e3c3a46bdbf7b11ff6e921bd3",
        "IPY_MODEL_c6a3c44799854513b13b5331906eb136"
       ],
       "layout": "IPY_MODEL_2469f859e02448eba4d0c0fd78da5339"
      }
     },
     "03f78dbae5e0486596aa364ada843f70": {
      "model_module": "@jupyter-widgets/controls",
      "model_module_version": "1.5.0",
      "model_name": "IntSliderModel",
      "state": {
       "_dom_classes": [],
       "_model_module": "@jupyter-widgets/controls",
       "_model_module_version": "1.5.0",
       "_model_name": "IntSliderModel",
       "_view_count": null,
       "_view_module": "@jupyter-widgets/controls",
       "_view_module_version": "1.5.0",
       "_view_name": "IntSliderView",
       "continuous_update": true,
       "description": "x",
       "description_tooltip": null,
       "disabled": false,
       "layout": "IPY_MODEL_13b7547782294efcba53f54b9940bd5e",
       "max": 10,
       "min": -10,
       "orientation": "horizontal",
       "readout": true,
       "readout_format": "d",
       "step": 1,
       "style": "IPY_MODEL_7f5fb8acf9e149d98a393ea32c7b9a70",
       "value": 0
      }
     },
     "0be4d029bb624974a5220484a267f8cf": {
      "model_module": "@jupyter-widgets/base",
      "model_module_version": "1.2.0",
      "model_name": "LayoutModel",
      "state": {
       "_model_module": "@jupyter-widgets/base",
       "_model_module_version": "1.2.0",
       "_model_name": "LayoutModel",
       "_view_count": null,
       "_view_module": "@jupyter-widgets/base",
       "_view_module_version": "1.2.0",
       "_view_name": "LayoutView",
       "align_content": null,
       "align_items": null,
       "align_self": null,
       "border": null,
       "bottom": null,
       "display": null,
       "flex": null,
       "flex_flow": null,
       "grid_area": null,
       "grid_auto_columns": null,
       "grid_auto_flow": null,
       "grid_auto_rows": null,
       "grid_column": null,
       "grid_gap": null,
       "grid_row": null,
       "grid_template_areas": null,
       "grid_template_columns": null,
       "grid_template_rows": null,
       "height": null,
       "justify_content": null,
       "justify_items": null,
       "left": null,
       "margin": null,
       "max_height": null,
       "max_width": null,
       "min_height": null,
       "min_width": null,
       "object_fit": null,
       "object_position": null,
       "order": null,
       "overflow": null,
       "overflow_x": null,
       "overflow_y": null,
       "padding": null,
       "right": null,
       "top": null,
       "visibility": null,
       "width": null
      }
     },
     "0f7b6ce2f78247d09d8cca6de52ca962": {
      "model_module": "@jupyter-widgets/controls",
      "model_module_version": "1.5.0",
      "model_name": "FloatSliderModel",
      "state": {
       "_dom_classes": [],
       "_model_module": "@jupyter-widgets/controls",
       "_model_module_version": "1.5.0",
       "_model_name": "FloatSliderModel",
       "_view_count": null,
       "_view_module": "@jupyter-widgets/controls",
       "_view_module_version": "1.5.0",
       "_view_name": "FloatSliderView",
       "continuous_update": true,
       "description": "s",
       "description_tooltip": null,
       "disabled": false,
       "layout": "IPY_MODEL_1b913757218f47a889f74c09d8d740dc",
       "max": 1.5,
       "min": -1.5,
       "orientation": "horizontal",
       "readout": true,
       "readout_format": ".2f",
       "step": 0.1,
       "style": "IPY_MODEL_9e98a9c2454b497fbbe1e7a694b3a2db",
       "value": 0.0
      }
     },
     "11017f7b81214ab5b8cec243fd4e820b": {
      "model_module": "@jupyter-widgets/base",
      "model_module_version": "1.2.0",
      "model_name": "LayoutModel",
      "state": {
       "_model_module": "@jupyter-widgets/base",
       "_model_module_version": "1.2.0",
       "_model_name": "LayoutModel",
       "_view_count": null,
       "_view_module": "@jupyter-widgets/base",
       "_view_module_version": "1.2.0",
       "_view_name": "LayoutView",
       "align_content": null,
       "align_items": null,
       "align_self": null,
       "border": null,
       "bottom": null,
       "display": null,
       "flex": null,
       "flex_flow": null,
       "grid_area": null,
       "grid_auto_columns": null,
       "grid_auto_flow": null,
       "grid_auto_rows": null,
       "grid_column": null,
       "grid_gap": null,
       "grid_row": null,
       "grid_template_areas": null,
       "grid_template_columns": null,
       "grid_template_rows": null,
       "height": null,
       "justify_content": null,
       "justify_items": null,
       "left": null,
       "margin": null,
       "max_height": null,
       "max_width": null,
       "min_height": null,
       "min_width": null,
       "object_fit": null,
       "object_position": null,
       "order": null,
       "overflow": null,
       "overflow_x": null,
       "overflow_y": null,
       "padding": null,
       "right": null,
       "top": null,
       "visibility": null,
       "width": null
      }
     },
     "13b7547782294efcba53f54b9940bd5e": {
      "model_module": "@jupyter-widgets/base",
      "model_module_version": "1.2.0",
      "model_name": "LayoutModel",
      "state": {
       "_model_module": "@jupyter-widgets/base",
       "_model_module_version": "1.2.0",
       "_model_name": "LayoutModel",
       "_view_count": null,
       "_view_module": "@jupyter-widgets/base",
       "_view_module_version": "1.2.0",
       "_view_name": "LayoutView",
       "align_content": null,
       "align_items": null,
       "align_self": null,
       "border": null,
       "bottom": null,
       "display": null,
       "flex": null,
       "flex_flow": null,
       "grid_area": null,
       "grid_auto_columns": null,
       "grid_auto_flow": null,
       "grid_auto_rows": null,
       "grid_column": null,
       "grid_gap": null,
       "grid_row": null,
       "grid_template_areas": null,
       "grid_template_columns": null,
       "grid_template_rows": null,
       "height": null,
       "justify_content": null,
       "justify_items": null,
       "left": null,
       "margin": null,
       "max_height": null,
       "max_width": null,
       "min_height": null,
       "min_width": null,
       "object_fit": null,
       "object_position": null,
       "order": null,
       "overflow": null,
       "overflow_x": null,
       "overflow_y": null,
       "padding": null,
       "right": null,
       "top": null,
       "visibility": null,
       "width": null
      }
     },
     "1b913757218f47a889f74c09d8d740dc": {
      "model_module": "@jupyter-widgets/base",
      "model_module_version": "1.2.0",
      "model_name": "LayoutModel",
      "state": {
       "_model_module": "@jupyter-widgets/base",
       "_model_module_version": "1.2.0",
       "_model_name": "LayoutModel",
       "_view_count": null,
       "_view_module": "@jupyter-widgets/base",
       "_view_module_version": "1.2.0",
       "_view_name": "LayoutView",
       "align_content": null,
       "align_items": null,
       "align_self": null,
       "border": null,
       "bottom": null,
       "display": null,
       "flex": null,
       "flex_flow": null,
       "grid_area": null,
       "grid_auto_columns": null,
       "grid_auto_flow": null,
       "grid_auto_rows": null,
       "grid_column": null,
       "grid_gap": null,
       "grid_row": null,
       "grid_template_areas": null,
       "grid_template_columns": null,
       "grid_template_rows": null,
       "height": null,
       "justify_content": null,
       "justify_items": null,
       "left": null,
       "margin": null,
       "max_height": null,
       "max_width": null,
       "min_height": null,
       "min_width": null,
       "object_fit": null,
       "object_position": null,
       "order": null,
       "overflow": null,
       "overflow_x": null,
       "overflow_y": null,
       "padding": null,
       "right": null,
       "top": null,
       "visibility": null,
       "width": null
      }
     },
     "2469f859e02448eba4d0c0fd78da5339": {
      "model_module": "@jupyter-widgets/base",
      "model_module_version": "1.2.0",
      "model_name": "LayoutModel",
      "state": {
       "_model_module": "@jupyter-widgets/base",
       "_model_module_version": "1.2.0",
       "_model_name": "LayoutModel",
       "_view_count": null,
       "_view_module": "@jupyter-widgets/base",
       "_view_module_version": "1.2.0",
       "_view_name": "LayoutView",
       "align_content": null,
       "align_items": null,
       "align_self": null,
       "border": null,
       "bottom": null,
       "display": null,
       "flex": null,
       "flex_flow": null,
       "grid_area": null,
       "grid_auto_columns": null,
       "grid_auto_flow": null,
       "grid_auto_rows": null,
       "grid_column": null,
       "grid_gap": null,
       "grid_row": null,
       "grid_template_areas": null,
       "grid_template_columns": null,
       "grid_template_rows": null,
       "height": null,
       "justify_content": null,
       "justify_items": null,
       "left": null,
       "margin": null,
       "max_height": null,
       "max_width": null,
       "min_height": null,
       "min_width": null,
       "object_fit": null,
       "object_position": null,
       "order": null,
       "overflow": null,
       "overflow_x": null,
       "overflow_y": null,
       "padding": null,
       "right": null,
       "top": null,
       "visibility": null,
       "width": null
      }
     },
     "36c4f40381bf4619bf74e3f49daea338": {
      "model_module": "@jupyter-widgets/base",
      "model_module_version": "1.2.0",
      "model_name": "LayoutModel",
      "state": {
       "_model_module": "@jupyter-widgets/base",
       "_model_module_version": "1.2.0",
       "_model_name": "LayoutModel",
       "_view_count": null,
       "_view_module": "@jupyter-widgets/base",
       "_view_module_version": "1.2.0",
       "_view_name": "LayoutView",
       "align_content": null,
       "align_items": null,
       "align_self": null,
       "border": null,
       "bottom": null,
       "display": null,
       "flex": null,
       "flex_flow": null,
       "grid_area": null,
       "grid_auto_columns": null,
       "grid_auto_flow": null,
       "grid_auto_rows": null,
       "grid_column": null,
       "grid_gap": null,
       "grid_row": null,
       "grid_template_areas": null,
       "grid_template_columns": null,
       "grid_template_rows": null,
       "height": null,
       "justify_content": null,
       "justify_items": null,
       "left": null,
       "margin": null,
       "max_height": null,
       "max_width": null,
       "min_height": null,
       "min_width": null,
       "object_fit": null,
       "object_position": null,
       "order": null,
       "overflow": null,
       "overflow_x": null,
       "overflow_y": null,
       "padding": null,
       "right": null,
       "top": null,
       "visibility": null,
       "width": null
      }
     },
     "553dbe4e3c3a46bdbf7b11ff6e921bd3": {
      "model_module": "@jupyter-widgets/controls",
      "model_module_version": "1.5.0",
      "model_name": "IntSliderModel",
      "state": {
       "_dom_classes": [],
       "_model_module": "@jupyter-widgets/controls",
       "_model_module_version": "1.5.0",
       "_model_name": "IntSliderModel",
       "_view_count": null,
       "_view_module": "@jupyter-widgets/controls",
       "_view_module_version": "1.5.0",
       "_view_name": "IntSliderView",
       "continuous_update": true,
       "description": "y",
       "description_tooltip": null,
       "disabled": false,
       "layout": "IPY_MODEL_dff74b8643324d168a37a019d479a12f",
       "max": 10,
       "min": -10,
       "orientation": "horizontal",
       "readout": true,
       "readout_format": "d",
       "step": 1,
       "style": "IPY_MODEL_dd708b6d2ce84c95a7ea0edd874b1bd7",
       "value": 0
      }
     },
     "7125435bff4b450fb517239f16b7452b": {
      "model_module": "@jupyter-widgets/output",
      "model_module_version": "1.0.0",
      "model_name": "OutputModel",
      "state": {
       "_dom_classes": [],
       "_model_module": "@jupyter-widgets/output",
       "_model_module_version": "1.0.0",
       "_model_name": "OutputModel",
       "_view_count": null,
       "_view_module": "@jupyter-widgets/output",
       "_view_module_version": "1.0.0",
       "_view_name": "OutputView",
       "layout": "IPY_MODEL_11017f7b81214ab5b8cec243fd4e820b",
       "msg_id": "",
       "outputs": [
        {
         "data": {
          "image/png": "iVBORw0KGgoAAAANSUhEUgAAAXIAAAEcCAYAAADa2j8jAAAAOXRFWHRTb2Z0d2FyZQBNYXRwbG90bGliIHZlcnNpb24zLjQuMiwgaHR0cHM6Ly9tYXRwbG90bGliLm9yZy8rg+JYAAAACXBIWXMAAAsTAAALEwEAmpwYAAAcbElEQVR4nO3df1TVVb7/8dcGRCXQHCFRFFD5DUqGmU4Wo1SL6mpZ02RZU1NNv77fqex3y6aZuM2aWre65TSNNZl3zR3rOzPdW7f8mo6tVaarb02QUv42DX+CoqWiIPJjf/9QRsIDHOQcPuxzno+19loB5/052xO8fLv32R+MtVYAAHdFeD0BAED3EOQA4DiCHAAcR5ADgOMIcgBwHEEOAI6L8noC6L6ysrKzoqKiXpOUJ/5yDlfNktY0NjbeVlBQsNfryaBnEeQhICoq6rXExMTshISE7yIiIjgYEIaam5tNdXV1TlVV1WuSpns9H/QsurfQkJeQkHCIEA9fERERNiEh4aCO/6sMYYYgDw0RhDhOfA/wMx2G+J+OHlVYWJi2b9++yI4ec9999w1755134k7n+osWLYqbMmVK2unN7vvGjRuX1dljSkpKzqqpqeHnCJ7iGxA9orm5WU1NTVq+fPnX8fHxTR099oUXXth95ZVX1vTU3NqzatWqDZ095pVXXhly+PBhfo7gKb4BERC//vWvh6Snp+emp6fnlpSUnCVJGzdujE5NTc2bMWNGakZGRu6WLVuik5KSxlRWVkZJ0kMPPTQ0NTU1r6CgIHPatGkjn3jiiSGSdPXVV6cuWLBgkCQlJSWNmT179rCcnJzsjIyMnFWrVvWTpA8//DDm7LPPzsrOzs4ZN25cVnl5ed+O5jd37tzBRUVFoydMmJCZkpKS98ADDwztaO6SFBMTM0463uVPmDAhs7i4eNTIkSNzp0+fPrK5uVlPPfXUWXv37u1TWFiYcd5552U0Njbq6quvTk1PT8/NyMjIefLJJ8/yNRcg0HjXShiaN08/KClRUlWVohMTdeyJJ7Trzjv17eleb8WKFTFvvPHG4LKysvXWWhUUFGQXFRXVxMfHN23fvr3v/PnzvykqKqpoXbN8+fKY9957b9C6devW1tfXm7PPPjtn3Lhxtb6uHx8f37hu3br1Tz/9dMLTTz895C9/+cu2/Pz8o59//vmGPn366J133ol7+OGHhy9dunRLR/P88ssvz/jqq6/WxsbGNo8bNy7niiuuOGiMka+5n3/++XWta9evX99/9erVW1NTUxsKCgqyli1bFvv444/v/cMf/jBk+fLlm4YOHdq4YsWKmMrKyj6bN29eK0mdLSEBgUKQh5l58/SD2bOVcvTo8X+NVVYqevZspUjS6Yb5Rx99FHvZZZcdGDBgQLMkXX755d99+OGHcddcc82BoUOHHisqKjrStmb58uWxl1566YGYmBgbExNjL7744gPtXf/666//TpImTJhQ++677w6SpG+//Tby2muvHVlRUdHPGGMbGhpMZ/OcPHnyocTExKaWOX700Uexxhj5mnvbIB8zZsyR0aNHN0hSbm5u7ZYtW6LbXj8rK6t+x44dfW+66aYR06ZNOzhjxoxDnc0JCASWVsJMSYmSWkK8xdGjiigpUVIwni8mJqa5u9fo16+flaSoqCjb2NhoJOmRRx5JKiwsrNm8efPa99577+tjx451+r1sjOnw44707dv3n+8KioyMVMs8WktISGhas2bNuilTptTMmzcvYebMmal+PwHQDQR5mKmq0imdZEef98eUKVMOL168+MyampqIQ4cORSxevHjQlClTOtysLCwsPLx06dKBtbW15uDBgxEffPDBmV15zkOHDkUOHz78mCS98sor8f7UrFy5csCePXsiDx8+bBYvXnxmYWHh4dOZe2tnnHFG08GDB0/866YyqqmpSTfffPOB3/72t7u++uqrmK78mYDTxdJKmElM1LHKylNDOzFRx073mpMnT669/vrr959zzjnZknTjjTdWn3/++XUbN25s9y+HwsLC2uLi4oM5OTm5gwcPbsjMzKwbOHBgh+9mae2RRx6puu2220Y+88wzwzpalmlt7NixR6ZPnz66qqoq+sc//vH+Cy+8sFaSfM3d33ncdNNN+4qLizOGDBly7IUXXthx6623pjY3NxtJKikp2envdYDuMPyqN/eVl5dX5Ofn7/PnsW3XyCWpXz81//u/a1t3NjxPx8GDByMGDhzYXFNTEzFp0qTMefPmbZs8ebLPDc/umjt37uDS0tIz/vSnP20PxvV7i/Ly8vj8/PxUr+eBnkVHHmZawjqQ71o5XTfccEPK5s2b+9fX15uZM2fuD1aIA6GOjjwEdKUjR2ijIw9PbHYCgOMIcgBwHEEOAI4jyAHAcQQ5um3fvn2RTz/9dEJPPNe0adNGenlDqrlz5w7+6U9/mtzd61RUVPQpLi4e1dnjHn300cTuPhdCH0GObtu/f3/k/PnzfQZrQ0NDwJ5n+/btUeXl5Wds2rRp3a9+9Su/fi9lIJ8/kFJTUxuWLFmytbPHzZ07d2hnjwEIcnTbAw88MHzHjh19s7Kycu64447hixYtiisoKMicOnVqWnp6ep4kXXTRRaNzc3Oz09LScp999tl/HqmPiYkZ94tf/CIpMzMzJz8/P2vHjh1RkvT6668PSk9Pz83MzMwZP3585olrZOzduzc6KysrZ8mSJbGffPJJ//z8/KyMjIyciy++eHR1dXWkJE2YMCHzlltuGZGXl5f91FNPDZkwYULmrbfeOiIvLy971KhRucuXL4+55JJLRqekpOTdc889w1rm8vLLL/9gzJgx2VlZWTnXX399SmNjoyTpxRdfHJyampo3ZsyY7E8++STW12tw//33D7vyyitHnn322VkpKSl5zz33XLx0/D7sd9xxx/CWW9v+8Y9/HCQdv8Vvenp6rnS8y7/kkktGX3DBBekpKSl5d95553BJuvvuu5Pq6+sjsrKycqZPnz7y0KFDET/60Y/SMjMzc9LT03NbrgXIWstwfKxevbrCWlvapVFRUW6HDz9qt21b3eXaNmPDhg1fpqWl1bV8/N57723s169f0/r1679s+VxVVdUqa21pTU1NWVpaWl1lZeUqa22pJLtw4cLN1trSO+64o+qhhx7aZa0tTU9Pr926dWu5tba0urp6la/nSU9Pr120aNEGa23pvffeu/tnP/vZHmtt6bnnnlsza9asvS2PO/fcc2vuvPPOSmttaUlJyfaEhIRjFRUV5bW1tWVnnXXWscrKylVlZWVrpkyZcuDo0aNl1trSWbNm7f3d7373TUVFRXliYmL9rl27VtfV1ZWNGzfu8I033ri37Wswe/bs3RkZGbU1NTVlu3fvXj1kyJBj33zzTfmCBQu+njRp0sGGhobS7du3r05MTKyvqKgob/1nefHFF79JSkqq37dv36ojR46UDR06tH7z5s3l1trS/v37N7U8x4IFC76+9tprq1s+3rdv36q28zjxveD59ySjZwcdebiaM2eodu3qqzlzhnX+4K4bO3bskaysrH/ev+WZZ54ZkpmZmVNQUJBdVVXVZ+3atf0kqU+fPnbmzJkHJamgoODItm3boiVp/Pjxh2fNmpX63HPPxbd0xq3t378/sqamJvLyyy8/LEk///nP93/66af/7Javu+66751UnTFjxgFJys/Pr0tLS6tLSUlp6N+/vx0xYkT91q1bo5csWRK3Zs2amPz8/OysrKyclStXDti6dWvfjz/++IyJEyfWDBs2rLFfv372qquuavcE7KWXXnogNjbWDh06tHHSpEmHVqxYccaKFSvifvKTn3wbFRWlESNGNJ533nmHV65cecrNtCZPnnxo8ODBTTExMTYtLe3oli1bTvlFGeecc07dihUrBtx1111JS5YsiR08eLDf96ZBaCPIw9G2bX301lvxslb629/itX17wG/V0Pr2tYsWLYpbvnx5XGlp6YaNGzeuy87Orqurq4uQjt+aNiLi+LdhVFTUP28P+8Ybb2x/6qmndu/YsSO6oKAgp6qqqku/pCEuLu57t89tuRVuRETE925JGxERocbGRmOtNddcc83+DRs2rNuwYcO6ioqKNc8///zurjxnd26TGx0d3fo2uT7vrz527Nj6L774Yt2YMWPqfvnLXyY9+OCDrJ9DEkEenubMGarmEznX3KzuduUDBw5sOnLkSLvfSwcOHIgcOHBgU1xcXPOqVav6lZeXn9HZNdeuXdt36tSpR1544YXdgwYNaty6dev37qQ4ePDgpgEDBjQtWbIkVpLmz58/eNKkSYdP989QXFx8aNGiRYN27doVJUl79uyJ3LRpU/SFF1545LPPPourqqqKrK+vN2+//Xa769Lvv//+mbW1taaqqiry008/jZs8efKRCy+8sOatt976QWNjo3bv3h31j3/8I/aCCy445RdttCcqKsrW19cb6fg7XeLi4prvvvvub++///6q1atXc5tcSOKmWeGnpRtv6fgaGoz+9rd4/eY3u5WcfOoahh8SExObCgoKDqenp+dOnTr14LRp0w62/vrVV1998NVXX00YNWpU7qhRo47m5+d3GmSzZ88eXlFR0ddaayZPnnxo4sSJdZs3b/5emC9YsOCbu+66K+Wee+6JSE5Orn/zzTcrTmf+klRQUHD08ccf31VUVJTR3NysPn362Llz524vKio68sgjj+yeOHFidlxcXFNeXl67N/bKzs6u/eEPf5j53XffRT344IOVqampDcnJyQc++eST2Ozs7FxjjH3yySd3JicnN3Z0i9/WZs2aVZ2dnZ2Tl5dXe9NNN+1/7LHHhkdERCgqKsq+/PLL2073z4vQwk2zQkCXbpp1ww3J+utfTwa5JPXpY3Xttfv0n/8Z0rd4Dab7779/WGxsbFNJSckeL+fBTbPCE0sr4WbZsjPVdv21ocHo738/05sJAegullbCzZ49X3o9hVDU1Y1RIJDoyAHAcQR5aGhu+T2RCF8nvgeaO30gQg5BHhrWVFdXDyTMw1dzc7Oprq4eKGmN13NBz2ONPAQ0NjbeVlVV9VpVVVWe+Ms5XDVLWtPY2Hib1xNBz+PthwDgOE868vj4eJuamurFUwOAs8rKyvZZa0+5978nQZ6amqrS0lIvnhoAnGWM8Xmal/VUAHAcQQ4AjiPIAcBxBDkAOI4gBwDHEeQA4DiCHAAcR5ADgOMIcgBwHEEOAI4jyAHAcQQ5ADiOIAcAxxHkAOA4ghwAHEeQA4Djuh3kxpgRxpgPjTHrjDFrjTH3BmJiAAD/BOI3BDVKesBa+4UxJk5SmTFmmbV2XQCuDQDoRLc7cmttpbX2ixP/XSNpvaSk7l4XAOCfgK6RG2NSJY2T9FkgrwsAaF/AgtwYEyvpvyTdZ6095OPrtxtjSo0xpdXV1YF6WgAIewEJcmNMHx0P8YXW2v/29Rhr7avW2vHW2vEJCQmBeFoAgALzrhUjab6k9dba57s/JQBAVwSiIz9f0o2SphpjVp8YlwXgugAAP3T77YfW2pWSTADmAgA4DZzsBADHEeQA4DiCHAAcR5ADgOMIcgBwHEEOAI4jyAHAcQQ5ADiOIAcAxxHkAOA4ghwAHEeQA4DjCHIAcBxBDgCOI8gBwHEEOQA4jiAHAMcR5ADgOIIcABxHkAOA4whyAHAcQQ4AjiPIAcBxBDkAOI4gBwDHEeQA4DiCHAAcR5ADgOMIcgBwHEEOAI4jyAHAcQQ5ADiOIAcAxxHkAOA4ghwAHBeQIDfGvG6M2WuMWROI6wEA/Beojvw/JBUH6FroIQsXSucOr9QWM1rnjqjSwoXUhkqtV/OFR6y1ARmSUiWt8eexBQUFFt7685+tjYmx9ve6yzYqwr6ku21MzPHPU+t2rVfzRfBJKrW+8tfXJ09nEORuSUmxNlG7ba36WSvZI+pvh6jSpqRQ63qtV/NF8Hke5JJul1QqqTQ5OblH/tBonzHHu646RVsr2TpF25d0tzWGWtdrvZovgs/zIG896Mi9Nz7pZNfVMo6ovx0/vJJax2u9mi+Cr70g5+2HYerZM/9VRs3f+1yEmvTswH+l1vFar+YLD/lK964OSW9KqpTUIGmnpFs7ejwdufd2RyZ9r+tqGbsjk6h1vNar+SL4FMyO3Fp7nbV2qLW2j7V2uLV2fiCui+BJat6pl3WXjipaknRU0fq97lZS805qHa/1ar7wkK90D/agI/eea+u+1LJGjiB35HDPwizfa6F/zux8LZTa3l3r1XzhIV/pHuxBR+69I4N8r4UeGdT5Wii1vbvWq/ki+ERHjtZyBuzUUO1WnfpJkmrVX4mqVM6AztdCqe3dtV7NFx7yle7BHnTk3nPtkAu1HAhC+x05QR6mXNvAo9b/WjY7Q1d7Qc7SSphy7ZALtf7XciAoDPlK92APOnLvuXbIhVr/azkQFLpER47WXDvkQi0HgtABX+ke7EFH7j3X1n2pZY0cdORow7VDLtT6X8uBoDDkK92DPejIvefaIRdq/a/lQFDoEh05WnPtkAu1HAhCB3yle7AHHbn3XDvkQi0HgtB+R06QhynXNvCo9b+Wzc7Q1V6Qs7QSplw75EKt/7UcCApDvtI92IOO3HuuHXKh1v9aDgSFLtGRozXXDrlQy4EgdMBXugd70JF7z7V1X2pZIwcdOdpw7ZALtf7XciAoDPlK92APOnLvuXbIhVr/azkQFLpER47WXDvkQi0HgtABX+ke7EFH7j3XDrlQy4EgtN+RE+RhyrUNPGr9r2WzM3S1F+QsrYQp1zbwqPW/ls3OMOQr3YM96Mi959oGHrX+17LZGbpER47WXNvAo5bNTnTAV7oHe9CRe8+1DTxq2exE+x05QR6mXNvAo9b/WjY7Q1d7Qc7SSphy7Y5+1Ppfy90Pw5CvdA/2oCP3nmt39KPW/1rufhi6REeO1ly7ox+13P0QHfCV7sEedOTec23dl1rWyEFHjjZcO+RCrf+1HAgKQ77SvatDUrGkjZK+lvRoZ4+nI/eea4dcqPW/lgNBoUvB6siNMZGSfi/pUkk5kq4zxuR097oILtcOuVDLgSB0wFe6d2VImiRpaauPH5P0WEc1dOTec+2QC7UcCEL7HXkggvzHkl5r9fGNkl7qqIYg955rG3jU+l/LZmfoai/Ie2yz0xhzuzGm1BhTWl1d3VNPi3a4dsiFWv9rORAUhnyle1eGWFpxkmuHXKj1v5YDQaFLQezIP5eUbowZaYyJljRT0rsBuC6CyLVDLtRyIAgd8JXuXR2SLpO0SdIWSXM6ezwdufdcW/elljVyBLcjl7V2sbU2w1o72lr7m0BcE8Hl2iEXav2v5UBQGPKV7sEedOTec+2QC7X+13IgKHTJ63etoHdx7ZALtRwIQgd8pXuwBx2591w75EItB4LQfkdOkIcp1zbwqPW/ls3O0NVekLO0EqZc28Cj1v9aNjvDkK90D/agI/eeaxt41Ppfy2Zn6BIdOVpzbQOPWjY70QFf6R7sQUfuPdc28KhlsxPtd+QEeZhybQOPWv9r2ewMXe0FOUsrYcq1O/pR638tdz8MQ77SPdiDjtx7rt3Rj1r/a7n7YegSHTlac+2OftRy90N0wFe6B3vQkXvPtXVfalkjBx052nDtkAu1/tdyICgM+Ur3YA86cu+5dsiFWv9rORAUukRHjtZcO+RCLQeC0AFf6R7sQUfuPdcOuVDLgSC035ET5GHKtQ08av2vZbMzdLUX5CythCnXDrlQ638tB4LCkK90D/agI/eea4dcqPW/lgNBoUt05GjNtUMu1HIgCB3wle7BHnTk3nNt3Zda1shBR442XDvkQq3/tRwICkO+0j3Yg47ce64dcqHW/1oOBIUu0ZGjNdcOuVDLgSB0wFe6B3vQkXvPtUMu1HIgCO135AR5mHJtA49a/2vZ7Axd7QU5SythyrVDLtT6X8uBoDDkK92DPejIvefaIRdq/a/lQFDoEh05WnPtkAu1HAhCB3yle7AHHbn3XFv3pZY1ctCRow3XDrlQ638tB4LCkK90D/agI/eea4dcqPW/lgNBoUt05GjNtUMu1HIgCB3wle7BHnTk3nPtkAu1HAhC+x15twJZ0jWS1kpqljTe3zqC3HuubeBR638tm52hq70g7+7SyhpJV0n6uJvXQQ9zbQOPWv9r2ewMQ77SvatD0keiI3eKaxt41Ppfy2Zn6BKbnWjNtQ08atnsRAd8pXvrIekDHV9CaTuuaPWYj9RJRy7pdkmlkkqTk5N78O8w+OLaBh61bHai/Y6cpZUw5doGHrX+17LZGbraC3KWVsKUaxt41Ppfy2ZnGPKV7v4OSTMk7ZRUL2mPpKX+1NGR9wJJvje1bJIfm1rU9u5ar+aLoFM7Hbk5/rWeNX78eFtaWtrjzwsALjPGlFlrx7f9PEsrAOA4ghwAHEeQA4DjCHIAcBxBDgCOI8gBwHEEOQA4jiAHAMcR5ADgOIIcABxHkAOA4whyAHAcQQ4AjiPIAcBxBDkAOI4gBwDHEeQA4DiCHAAcR5ADgOMIcgBwHEEOAI4jyAHAcQQ5ADiOIAcAxxHkAOA4ghwAHEeQA4DjCHIAcBxBDgCOI8gBwHEEOQA4jiAHAMcR5ADgOIIcABzXrSA3xvybMWaDMeZLY8zbxpgzAzQvAICfutuRL5OUZ60dK2mTpMe6PyUAQFd0K8ittX+31jae+PBTScO7PyUAQFcEco38FknvB/B6AAA/RHX2AGPMB5ISfXxpjrX2f048Zo6kRkkLO7jO7ZJul6Tk5OTTmiwA4FSdBrm19qKOvm6MuVnSv0gqstbaDq7zqqRXJWn8+PHtPg4A0DWdBnlHjDHFkh6WVGitrQ3MlAAAXdHdNfKXJMVJWmaMWW2MmReAOQEAuqBbHbm1Ni1QEwEAnB5OdgKA4whyAHAcQQ4AjiPIAcBxBDkAOI4gBwDHEeQA4DiCHAAcR5ADgOMIcgBwHEEOAI4jyAHAcQQ5ADiOIAcAxxHkAOA4ghwAHEeQA4DjTAe/Lzl4T2pMtaRtPf7E3xcvaZ/Hc+gteC1O4rU4idfipN7yWqRYaxPaftKTIO8NjDGl1trxXs+jN+C1OInX4iRei5N6+2vB0goAOI4gBwDHhXOQv+r1BHoRXouTeC1O4rU4qVe/FmG7Rg4AoSKcO3IACAlhHeTGmH8zxmwwxnxpjHnbGHOm13PyijHmGmPMWmNMszGm1+7OB5MxptgYs9EY87Ux5lGv5+MVY8zrxpi9xpg1Xs/Fa8aYEcaYD40x6078fNzr9Zx8Cesgl7RMUp61dqykTZIe83g+Xloj6SpJH3s9ES8YYyIl/V7SpZJyJF1njMnxdlae+Q9JxV5PopdolPSAtTZH0kRJ/6s3fl+EdZBba/9urW088eGnkoZ7OR8vWWvXW2s3ej0PD02Q9LW1dqu19pik/yPpCo/n5Alr7ceSvvV6Hr2BtbbSWvvFif+ukbReUpK3szpVWAd5G7dIet/rScAzSZJ2tPp4p3rhDyy8Y4xJlTRO0mceT+UUUV5PINiMMR9ISvTxpTnW2v858Zg5Ov5PqIU9Obee5s9rAeBUxphYSf8l6T5r7SGv59NWyAe5tfaijr5ujLlZ0r9IKrIh/l7Mzl6LMLdL0ohWHw8/8TmEOWNMHx0P8YXW2v/2ej6+hPXSijGmWNLDkqZba2u9ng889bmkdGPMSGNMtKSZkt71eE7wmDHGSJovab219nmv59OesA5ySS9JipO0zBiz2hgzz+sJecUYM8MYs1PSJEn/1xiz1Os59aQTm97/W9JSHd/Q+qu1dq23s/KGMeZNSf9PUqYxZqcx5lav5+Sh8yXdKGnqiYxYbYy5zOtJtcXJTgBwXLh35ADgPIIcABxHkAOA4whyAHAcQQ4AjiPIAcBxBDkAOI4gBwDH/X+cbqjWP4HUCQAAAABJRU5ErkJggg==\n",
          "text/plain": "<Figure size 432x288 with 1 Axes>"
         },
         "metadata": {
          "needs_background": "light"
         },
         "output_type": "display_data"
        }
       ]
      }
     },
     "7f5fb8acf9e149d98a393ea32c7b9a70": {
      "model_module": "@jupyter-widgets/controls",
      "model_module_version": "1.5.0",
      "model_name": "SliderStyleModel",
      "state": {
       "_model_module": "@jupyter-widgets/controls",
       "_model_module_version": "1.5.0",
       "_model_name": "SliderStyleModel",
       "_view_count": null,
       "_view_module": "@jupyter-widgets/base",
       "_view_module_version": "1.2.0",
       "_view_name": "StyleView",
       "description_width": "",
       "handle_color": null
      }
     },
     "7f7fdc78dab64b7da968a6ad8f8a1b51": {
      "model_module": "@jupyter-widgets/controls",
      "model_module_version": "1.5.0",
      "model_name": "IntSliderModel",
      "state": {
       "_dom_classes": [],
       "_model_module": "@jupyter-widgets/controls",
       "_model_module_version": "1.5.0",
       "_model_name": "IntSliderModel",
       "_view_count": null,
       "_view_module": "@jupyter-widgets/controls",
       "_view_module_version": "1.5.0",
       "_view_name": "IntSliderView",
       "continuous_update": true,
       "description": "y",
       "description_tooltip": null,
       "disabled": false,
       "layout": "IPY_MODEL_a1962816be1543da97ada3aefe6e323f",
       "max": 10,
       "min": -10,
       "orientation": "horizontal",
       "readout": true,
       "readout_format": "d",
       "step": 1,
       "style": "IPY_MODEL_82e7909e246f455caafa9d7b32527212",
       "value": 0
      }
     },
     "82e7909e246f455caafa9d7b32527212": {
      "model_module": "@jupyter-widgets/controls",
      "model_module_version": "1.5.0",
      "model_name": "SliderStyleModel",
      "state": {
       "_model_module": "@jupyter-widgets/controls",
       "_model_module_version": "1.5.0",
       "_model_name": "SliderStyleModel",
       "_view_count": null,
       "_view_module": "@jupyter-widgets/base",
       "_view_module_version": "1.2.0",
       "_view_name": "StyleView",
       "description_width": "",
       "handle_color": null
      }
     },
     "8b77048cc943484ea0fdccf1409e843c": {
      "model_module": "@jupyter-widgets/controls",
      "model_module_version": "1.5.0",
      "model_name": "SliderStyleModel",
      "state": {
       "_model_module": "@jupyter-widgets/controls",
       "_model_module_version": "1.5.0",
       "_model_name": "SliderStyleModel",
       "_view_count": null,
       "_view_module": "@jupyter-widgets/base",
       "_view_module_version": "1.2.0",
       "_view_name": "StyleView",
       "description_width": "",
       "handle_color": null
      }
     },
     "9609c9eb931543c59e13f9e0d37f5aa5": {
      "model_module": "@jupyter-widgets/output",
      "model_module_version": "1.0.0",
      "model_name": "OutputModel",
      "state": {
       "_dom_classes": [],
       "_model_module": "@jupyter-widgets/output",
       "_model_module_version": "1.0.0",
       "_model_name": "OutputModel",
       "_view_count": null,
       "_view_module": "@jupyter-widgets/output",
       "_view_module_version": "1.0.0",
       "_view_name": "OutputView",
       "layout": "IPY_MODEL_a74d5ba1a602459da0ed02284f18bd70",
       "msg_id": "",
       "outputs": [
        {
         "data": {
          "image/png": "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\n",
          "text/plain": "<Figure size 432x288 with 1 Axes>"
         },
         "metadata": {
          "needs_background": "light"
         },
         "output_type": "display_data"
        }
       ]
      }
     },
     "9e43fc3d07d84b44bf2d619946b625f2": {
      "model_module": "@jupyter-widgets/base",
      "model_module_version": "1.2.0",
      "model_name": "LayoutModel",
      "state": {
       "_model_module": "@jupyter-widgets/base",
       "_model_module_version": "1.2.0",
       "_model_name": "LayoutModel",
       "_view_count": null,
       "_view_module": "@jupyter-widgets/base",
       "_view_module_version": "1.2.0",
       "_view_name": "LayoutView",
       "align_content": null,
       "align_items": null,
       "align_self": null,
       "border": null,
       "bottom": null,
       "display": null,
       "flex": null,
       "flex_flow": null,
       "grid_area": null,
       "grid_auto_columns": null,
       "grid_auto_flow": null,
       "grid_auto_rows": null,
       "grid_column": null,
       "grid_gap": null,
       "grid_row": null,
       "grid_template_areas": null,
       "grid_template_columns": null,
       "grid_template_rows": null,
       "height": null,
       "justify_content": null,
       "justify_items": null,
       "left": null,
       "margin": null,
       "max_height": null,
       "max_width": null,
       "min_height": null,
       "min_width": null,
       "object_fit": null,
       "object_position": null,
       "order": null,
       "overflow": null,
       "overflow_x": null,
       "overflow_y": null,
       "padding": null,
       "right": null,
       "top": null,
       "visibility": null,
       "width": null
      }
     },
     "9e98a9c2454b497fbbe1e7a694b3a2db": {
      "model_module": "@jupyter-widgets/controls",
      "model_module_version": "1.5.0",
      "model_name": "SliderStyleModel",
      "state": {
       "_model_module": "@jupyter-widgets/controls",
       "_model_module_version": "1.5.0",
       "_model_name": "SliderStyleModel",
       "_view_count": null,
       "_view_module": "@jupyter-widgets/base",
       "_view_module_version": "1.2.0",
       "_view_name": "StyleView",
       "description_width": "",
       "handle_color": null
      }
     },
     "a1962816be1543da97ada3aefe6e323f": {
      "model_module": "@jupyter-widgets/base",
      "model_module_version": "1.2.0",
      "model_name": "LayoutModel",
      "state": {
       "_model_module": "@jupyter-widgets/base",
       "_model_module_version": "1.2.0",
       "_model_name": "LayoutModel",
       "_view_count": null,
       "_view_module": "@jupyter-widgets/base",
       "_view_module_version": "1.2.0",
       "_view_name": "LayoutView",
       "align_content": null,
       "align_items": null,
       "align_self": null,
       "border": null,
       "bottom": null,
       "display": null,
       "flex": null,
       "flex_flow": null,
       "grid_area": null,
       "grid_auto_columns": null,
       "grid_auto_flow": null,
       "grid_auto_rows": null,
       "grid_column": null,
       "grid_gap": null,
       "grid_row": null,
       "grid_template_areas": null,
       "grid_template_columns": null,
       "grid_template_rows": null,
       "height": null,
       "justify_content": null,
       "justify_items": null,
       "left": null,
       "margin": null,
       "max_height": null,
       "max_width": null,
       "min_height": null,
       "min_width": null,
       "object_fit": null,
       "object_position": null,
       "order": null,
       "overflow": null,
       "overflow_x": null,
       "overflow_y": null,
       "padding": null,
       "right": null,
       "top": null,
       "visibility": null,
       "width": null
      }
     },
     "a74d5ba1a602459da0ed02284f18bd70": {
      "model_module": "@jupyter-widgets/base",
      "model_module_version": "1.2.0",
      "model_name": "LayoutModel",
      "state": {
       "_model_module": "@jupyter-widgets/base",
       "_model_module_version": "1.2.0",
       "_model_name": "LayoutModel",
       "_view_count": null,
       "_view_module": "@jupyter-widgets/base",
       "_view_module_version": "1.2.0",
       "_view_name": "LayoutView",
       "align_content": null,
       "align_items": null,
       "align_self": null,
       "border": null,
       "bottom": null,
       "display": null,
       "flex": null,
       "flex_flow": null,
       "grid_area": null,
       "grid_auto_columns": null,
       "grid_auto_flow": null,
       "grid_auto_rows": null,
       "grid_column": null,
       "grid_gap": null,
       "grid_row": null,
       "grid_template_areas": null,
       "grid_template_columns": null,
       "grid_template_rows": null,
       "height": null,
       "justify_content": null,
       "justify_items": null,
       "left": null,
       "margin": null,
       "max_height": null,
       "max_width": null,
       "min_height": null,
       "min_width": null,
       "object_fit": null,
       "object_position": null,
       "order": null,
       "overflow": null,
       "overflow_x": null,
       "overflow_y": null,
       "padding": null,
       "right": null,
       "top": null,
       "visibility": null,
       "width": null
      }
     },
     "b009a4beb6e8466fb9dc5e978dff68a2": {
      "model_module": "@jupyter-widgets/controls",
      "model_module_version": "1.5.0",
      "model_name": "SliderStyleModel",
      "state": {
       "_model_module": "@jupyter-widgets/controls",
       "_model_module_version": "1.5.0",
       "_model_name": "SliderStyleModel",
       "_view_count": null,
       "_view_module": "@jupyter-widgets/base",
       "_view_module_version": "1.2.0",
       "_view_name": "StyleView",
       "description_width": "",
       "handle_color": null
      }
     },
     "b1f4e5ef6c8d45408001f2156ef33097": {
      "model_module": "@jupyter-widgets/controls",
      "model_module_version": "1.5.0",
      "model_name": "FloatSliderModel",
      "state": {
       "_dom_classes": [],
       "_model_module": "@jupyter-widgets/controls",
       "_model_module_version": "1.5.0",
       "_model_name": "FloatSliderModel",
       "_view_count": null,
       "_view_module": "@jupyter-widgets/controls",
       "_view_module_version": "1.5.0",
       "_view_name": "FloatSliderView",
       "continuous_update": true,
       "description": "s",
       "description_tooltip": null,
       "disabled": false,
       "layout": "IPY_MODEL_d73275a3926a4b0e8bcfff9c7416efc9",
       "max": 1.5,
       "min": -1.5,
       "orientation": "horizontal",
       "readout": true,
       "readout_format": ".2f",
       "step": 0.1,
       "style": "IPY_MODEL_b009a4beb6e8466fb9dc5e978dff68a2",
       "value": 0.0
      }
     },
     "c4543977e40e45cbbbe8e8f2804a21b3": {
      "model_module": "@jupyter-widgets/controls",
      "model_module_version": "1.5.0",
      "model_name": "IntSliderModel",
      "state": {
       "_dom_classes": [],
       "_model_module": "@jupyter-widgets/controls",
       "_model_module_version": "1.5.0",
       "_model_name": "IntSliderModel",
       "_view_count": null,
       "_view_module": "@jupyter-widgets/controls",
       "_view_module_version": "1.5.0",
       "_view_name": "IntSliderView",
       "continuous_update": true,
       "description": "x",
       "description_tooltip": null,
       "disabled": false,
       "layout": "IPY_MODEL_36c4f40381bf4619bf74e3f49daea338",
       "max": 10,
       "min": -10,
       "orientation": "horizontal",
       "readout": true,
       "readout_format": "d",
       "step": 1,
       "style": "IPY_MODEL_8b77048cc943484ea0fdccf1409e843c",
       "value": 0
      }
     },
     "c6a3c44799854513b13b5331906eb136": {
      "model_module": "@jupyter-widgets/output",
      "model_module_version": "1.0.0",
      "model_name": "OutputModel",
      "state": {
       "_dom_classes": [],
       "_model_module": "@jupyter-widgets/output",
       "_model_module_version": "1.0.0",
       "_model_name": "OutputModel",
       "_view_count": null,
       "_view_module": "@jupyter-widgets/output",
       "_view_module_version": "1.0.0",
       "_view_name": "OutputView",
       "layout": "IPY_MODEL_0be4d029bb624974a5220484a267f8cf",
       "msg_id": "",
       "outputs": [
        {
         "data": {
          "image/png": "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\n",
          "text/plain": "<Figure size 432x288 with 1 Axes>"
         },
         "metadata": {
          "needs_background": "light"
         },
         "output_type": "display_data"
        }
       ]
      }
     },
     "c9e86b3f95924de3b325bf336b83af47": {
      "model_module": "@jupyter-widgets/base",
      "model_module_version": "1.2.0",
      "model_name": "LayoutModel",
      "state": {
       "_model_module": "@jupyter-widgets/base",
       "_model_module_version": "1.2.0",
       "_model_name": "LayoutModel",
       "_view_count": null,
       "_view_module": "@jupyter-widgets/base",
       "_view_module_version": "1.2.0",
       "_view_name": "LayoutView",
       "align_content": null,
       "align_items": null,
       "align_self": null,
       "border": null,
       "bottom": null,
       "display": null,
       "flex": null,
       "flex_flow": null,
       "grid_area": null,
       "grid_auto_columns": null,
       "grid_auto_flow": null,
       "grid_auto_rows": null,
       "grid_column": null,
       "grid_gap": null,
       "grid_row": null,
       "grid_template_areas": null,
       "grid_template_columns": null,
       "grid_template_rows": null,
       "height": null,
       "justify_content": null,
       "justify_items": null,
       "left": null,
       "margin": null,
       "max_height": null,
       "max_width": null,
       "min_height": null,
       "min_width": null,
       "object_fit": null,
       "object_position": null,
       "order": null,
       "overflow": null,
       "overflow_x": null,
       "overflow_y": null,
       "padding": null,
       "right": null,
       "top": null,
       "visibility": null,
       "width": null
      }
     },
     "d73275a3926a4b0e8bcfff9c7416efc9": {
      "model_module": "@jupyter-widgets/base",
      "model_module_version": "1.2.0",
      "model_name": "LayoutModel",
      "state": {
       "_model_module": "@jupyter-widgets/base",
       "_model_module_version": "1.2.0",
       "_model_name": "LayoutModel",
       "_view_count": null,
       "_view_module": "@jupyter-widgets/base",
       "_view_module_version": "1.2.0",
       "_view_name": "LayoutView",
       "align_content": null,
       "align_items": null,
       "align_self": null,
       "border": null,
       "bottom": null,
       "display": null,
       "flex": null,
       "flex_flow": null,
       "grid_area": null,
       "grid_auto_columns": null,
       "grid_auto_flow": null,
       "grid_auto_rows": null,
       "grid_column": null,
       "grid_gap": null,
       "grid_row": null,
       "grid_template_areas": null,
       "grid_template_columns": null,
       "grid_template_rows": null,
       "height": null,
       "justify_content": null,
       "justify_items": null,
       "left": null,
       "margin": null,
       "max_height": null,
       "max_width": null,
       "min_height": null,
       "min_width": null,
       "object_fit": null,
       "object_position": null,
       "order": null,
       "overflow": null,
       "overflow_x": null,
       "overflow_y": null,
       "padding": null,
       "right": null,
       "top": null,
       "visibility": null,
       "width": null
      }
     },
     "daab1096815144c3ab4ef4fa40dc9534": {
      "model_module": "@jupyter-widgets/controls",
      "model_module_version": "1.5.0",
      "model_name": "VBoxModel",
      "state": {
       "_dom_classes": [
        "widget-interact"
       ],
       "_model_module": "@jupyter-widgets/controls",
       "_model_module_version": "1.5.0",
       "_model_name": "VBoxModel",
       "_view_count": null,
       "_view_module": "@jupyter-widgets/controls",
       "_view_module_version": "1.5.0",
       "_view_name": "VBoxView",
       "box_style": "",
       "children": [
        "IPY_MODEL_c4543977e40e45cbbbe8e8f2804a21b3",
        "IPY_MODEL_7f7fdc78dab64b7da968a6ad8f8a1b51",
        "IPY_MODEL_9609c9eb931543c59e13f9e0d37f5aa5"
       ],
       "layout": "IPY_MODEL_e9fcdda60d614494883fe5d627111652"
      }
     },
     "dd708b6d2ce84c95a7ea0edd874b1bd7": {
      "model_module": "@jupyter-widgets/controls",
      "model_module_version": "1.5.0",
      "model_name": "SliderStyleModel",
      "state": {
       "_model_module": "@jupyter-widgets/controls",
       "_model_module_version": "1.5.0",
       "_model_name": "SliderStyleModel",
       "_view_count": null,
       "_view_module": "@jupyter-widgets/base",
       "_view_module_version": "1.2.0",
       "_view_name": "StyleView",
       "description_width": "",
       "handle_color": null
      }
     },
     "dfe03f1196d84e3f96116f52ef4cce52": {
      "model_module": "@jupyter-widgets/output",
      "model_module_version": "1.0.0",
      "model_name": "OutputModel",
      "state": {
       "_dom_classes": [],
       "_model_module": "@jupyter-widgets/output",
       "_model_module_version": "1.0.0",
       "_model_name": "OutputModel",
       "_view_count": null,
       "_view_module": "@jupyter-widgets/output",
       "_view_module_version": "1.0.0",
       "_view_name": "OutputView",
       "layout": "IPY_MODEL_9e43fc3d07d84b44bf2d619946b625f2",
       "msg_id": "",
       "outputs": [
        {
         "data": {
          "image/png": "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\n",
          "text/plain": "<Figure size 432x288 with 1 Axes>"
         },
         "metadata": {
          "needs_background": "light"
         },
         "output_type": "display_data"
        }
       ]
      }
     },
     "dff74b8643324d168a37a019d479a12f": {
      "model_module": "@jupyter-widgets/base",
      "model_module_version": "1.2.0",
      "model_name": "LayoutModel",
      "state": {
       "_model_module": "@jupyter-widgets/base",
       "_model_module_version": "1.2.0",
       "_model_name": "LayoutModel",
       "_view_count": null,
       "_view_module": "@jupyter-widgets/base",
       "_view_module_version": "1.2.0",
       "_view_name": "LayoutView",
       "align_content": null,
       "align_items": null,
       "align_self": null,
       "border": null,
       "bottom": null,
       "display": null,
       "flex": null,
       "flex_flow": null,
       "grid_area": null,
       "grid_auto_columns": null,
       "grid_auto_flow": null,
       "grid_auto_rows": null,
       "grid_column": null,
       "grid_gap": null,
       "grid_row": null,
       "grid_template_areas": null,
       "grid_template_columns": null,
       "grid_template_rows": null,
       "height": null,
       "justify_content": null,
       "justify_items": null,
       "left": null,
       "margin": null,
       "max_height": null,
       "max_width": null,
       "min_height": null,
       "min_width": null,
       "object_fit": null,
       "object_position": null,
       "order": null,
       "overflow": null,
       "overflow_x": null,
       "overflow_y": null,
       "padding": null,
       "right": null,
       "top": null,
       "visibility": null,
       "width": null
      }
     },
     "e9fcdda60d614494883fe5d627111652": {
      "model_module": "@jupyter-widgets/base",
      "model_module_version": "1.2.0",
      "model_name": "LayoutModel",
      "state": {
       "_model_module": "@jupyter-widgets/base",
       "_model_module_version": "1.2.0",
       "_model_name": "LayoutModel",
       "_view_count": null,
       "_view_module": "@jupyter-widgets/base",
       "_view_module_version": "1.2.0",
       "_view_name": "LayoutView",
       "align_content": null,
       "align_items": null,
       "align_self": null,
       "border": null,
       "bottom": null,
       "display": null,
       "flex": null,
       "flex_flow": null,
       "grid_area": null,
       "grid_auto_columns": null,
       "grid_auto_flow": null,
       "grid_auto_rows": null,
       "grid_column": null,
       "grid_gap": null,
       "grid_row": null,
       "grid_template_areas": null,
       "grid_template_columns": null,
       "grid_template_rows": null,
       "height": null,
       "justify_content": null,
       "justify_items": null,
       "left": null,
       "margin": null,
       "max_height": null,
       "max_width": null,
       "min_height": null,
       "min_width": null,
       "object_fit": null,
       "object_position": null,
       "order": null,
       "overflow": null,
       "overflow_x": null,
       "overflow_y": null,
       "padding": null,
       "right": null,
       "top": null,
       "visibility": null,
       "width": null
      }
     },
     "f374f6c2543448909eacbe0e439fc322": {
      "model_module": "@jupyter-widgets/controls",
      "model_module_version": "1.5.0",
      "model_name": "VBoxModel",
      "state": {
       "_dom_classes": [
        "widget-interact"
       ],
       "_model_module": "@jupyter-widgets/controls",
       "_model_module_version": "1.5.0",
       "_model_name": "VBoxModel",
       "_view_count": null,
       "_view_module": "@jupyter-widgets/controls",
       "_view_module_version": "1.5.0",
       "_view_name": "VBoxView",
       "box_style": "",
       "children": [
        "IPY_MODEL_b1f4e5ef6c8d45408001f2156ef33097",
        "IPY_MODEL_7125435bff4b450fb517239f16b7452b"
       ],
       "layout": "IPY_MODEL_fc5cebd415a34b9d8b7846757df9de81"
      }
     },
     "fc5cebd415a34b9d8b7846757df9de81": {
      "model_module": "@jupyter-widgets/base",
      "model_module_version": "1.2.0",
      "model_name": "LayoutModel",
      "state": {
       "_model_module": "@jupyter-widgets/base",
       "_model_module_version": "1.2.0",
       "_model_name": "LayoutModel",
       "_view_count": null,
       "_view_module": "@jupyter-widgets/base",
       "_view_module_version": "1.2.0",
       "_view_name": "LayoutView",
       "align_content": null,
       "align_items": null,
       "align_self": null,
       "border": null,
       "bottom": null,
       "display": null,
       "flex": null,
       "flex_flow": null,
       "grid_area": null,
       "grid_auto_columns": null,
       "grid_auto_flow": null,
       "grid_auto_rows": null,
       "grid_column": null,
       "grid_gap": null,
       "grid_row": null,
       "grid_template_areas": null,
       "grid_template_columns": null,
       "grid_template_rows": null,
       "height": null,
       "justify_content": null,
       "justify_items": null,
       "left": null,
       "margin": null,
       "max_height": null,
       "max_width": null,
       "min_height": null,
       "min_width": null,
       "object_fit": null,
       "object_position": null,
       "order": null,
       "overflow": null,
       "overflow_x": null,
       "overflow_y": null,
       "padding": null,
       "right": null,
       "top": null,
       "visibility": null,
       "width": null
      }
     },
     "fe0d50ab4cd04299a11de9b1e10894f8": {
      "model_module": "@jupyter-widgets/controls",
      "model_module_version": "1.5.0",
      "model_name": "VBoxModel",
      "state": {
       "_dom_classes": [
        "widget-interact"
       ],
       "_model_module": "@jupyter-widgets/controls",
       "_model_module_version": "1.5.0",
       "_model_name": "VBoxModel",
       "_view_count": null,
       "_view_module": "@jupyter-widgets/controls",
       "_view_module_version": "1.5.0",
       "_view_name": "VBoxView",
       "box_style": "",
       "children": [
        "IPY_MODEL_0f7b6ce2f78247d09d8cca6de52ca962",
        "IPY_MODEL_dfe03f1196d84e3f96116f52ef4cce52"
       ],
       "layout": "IPY_MODEL_c9e86b3f95924de3b325bf336b83af47"
      }
     }
    },
    "version_major": 2,
    "version_minor": 0
   }
  }
 },
 "nbformat": 4,
 "nbformat_minor": 4
}
