{
 "cells": [
  {
   "cell_type": "markdown",
   "metadata": {},
   "source": [
    "# Registration: Memory-Time Trade-off <a href=\"https://mybinder.org/v2/gh/InsightSoftwareConsortium/SimpleITK-Notebooks/master?filepath=Python%2F64_Registration_Memory_Time_Tradeoff.ipynb\"><img style=\"float: right;\" src=\"https://mybinder.org/badge_logo.svg\"></a>\n",
    "\n",
    "When developing a registration algorithm or when selecting parameter value settings for an existing algorithm our choices are dictated by two, often opposing, constraints:\n",
    "<ul>\n",
    "<li>Required accuracy.</li>\n",
    "<li>Allotted time.</li>\n",
    "</ul>\n",
    "\n",
    "As the goal of registration is to align multiple data elements into the same coordinate system, it is only natural that the primary focus is on accuracy. In most cases the reported accuracy is obtained without constraining the algorithm's execution time. Don't forget to provide the running times even if they are not critical for your particular application as they may be critical for others. \n",
    "\n",
    "With regard to the emphasis on execution time, on one end of the spectrum we have longitudinal studies where time constraints are relatively loose. In this setting a registration taking an hour may be perfectly acceptable. At the other end of the spectrum we have intra-operative registration. In this setting, registration is expected to complete within seconds or minutes. The  underlying reasons for the tight timing constraints in this setting have to do with the detrimental effects of prolonged anesthesia and with the increased costs of operating room time. While short execution times are important, simply completing the registration on time without sufficient accuracy is also unacceptable.  \n",
    "\n",
    "This notebook illustrates a straightforward approach for reducing the computational complexity of registration for intra-operative use via preprocessing and increased memory usage, a case of the [memory-time trade-off](https://en.wikipedia.org/wiki/Space%E2%80%93time_tradeoff). \n",
    "\n",
    "The computational cost of registration is primarily associated with interpolation, required for evaluating the similarity metric. Ideally we would like to use the fastest possible interpolation method, nearest neighbor. Unfortunately, nearest neighbor interpolation most often yields sub-optimal results. A straightforward solution is to pre-operatively create a super-sampled version of the moving-image using higher order interpolation*. We then perform registration using the super-sampled image, with nearest neighbor interpolation.\n",
    "\n",
    "Tallying up time and memory usage we see that:\n",
    "\n",
    "<table>\n",
    "  <tr><td></td> <td><b>time</b></td><td><b>memory</b></td></tr>\n",
    "  <tr><td><b>pre-operative</b></td> <td>increase</td><td>increase</td></tr>\n",
    "  <tr><td><b>intra-operative</b></td> <td>decrease</td><td>increase</td></tr>\n",
    "</table><br><br>  \n",
    "\n",
    "\n",
    "<font size=\"-1\">*A better approach is to use single image super resolution techniques such as the one described in A. Rueda, N. Malpica, E. Romero,\"Single-image super-resolution of brain MR images using overcomplete dictionaries\", <i>Med Image Anal.</i>, 17(1):113-132, 2013.</font> \n"
   ]
  },
  {
   "cell_type": "code",
   "execution_count": 1,
   "metadata": {
    "execution": {
     "iopub.execute_input": "2021-10-28T17:58:25.499076Z",
     "iopub.status.busy": "2021-10-28T17:58:25.498140Z",
     "iopub.status.idle": "2021-10-28T17:58:25.875790Z",
     "shell.execute_reply": "2021-10-28T17:58:25.876144Z"
    }
   },
   "outputs": [],
   "source": [
    "import SimpleITK as sitk\n",
    "\n",
    "import numpy as np\n",
    "\n",
    "%matplotlib inline\n",
    "import matplotlib.pyplot as plt\n",
    "\n",
    "# utility method that either downloads data from the Girder repository or\n",
    "# if already downloaded returns the file name for reading from disk (cached data)\n",
    "%run update_path_to_download_script\n",
    "from downloaddata import fetch_data as fdata\n",
    "\n",
    "import registration_utilities as ru\n",
    "\n",
    "from ipywidgets import interact, fixed\n",
    "\n",
    "\n",
    "def register_images(fixed_image, moving_image, initial_transform, interpolator):\n",
    "\n",
    "    registration_method = sitk.ImageRegistrationMethod()\n",
    "    registration_method.SetMetricAsMattesMutualInformation(numberOfHistogramBins=50)\n",
    "    registration_method.SetMetricSamplingStrategy(registration_method.REGULAR)\n",
    "    registration_method.SetMetricSamplingPercentage(0.01)\n",
    "    registration_method.SetInterpolator(interpolator)\n",
    "    registration_method.SetOptimizerAsGradientDescent(\n",
    "        learningRate=1.0, numberOfIterations=1000\n",
    "    )\n",
    "    registration_method.SetOptimizerScalesFromPhysicalShift()\n",
    "    registration_method.SetInitialTransform(initial_transform, inPlace=False)\n",
    "\n",
    "    final_transform = registration_method.Execute(fixed_image, moving_image)\n",
    "\n",
    "    return (final_transform, registration_method.GetOptimizerStopConditionDescription())"
   ]
  },
  {
   "cell_type": "markdown",
   "metadata": {},
   "source": [
    "## Load data\n",
    "\n",
    "We use the the training data from the Retrospective Image Registration Evaluation (<a href=\"http://www.insight-journal.org/rire/\">RIRE</a>) project.\n",
    "\n",
    "The RIRE reference, ground truth, data consists of a set of corresponding points in the fixed and moving coordinate systems. These points were obtained from fiducials embedded in the patient's skull and are thus sparse (eight points). We use these to compute the rigid transformation between the two coordinate systems, and then generate a dense reference. This generated reference data is more similar to the data you would use for registration evaluation."
   ]
  },
  {
   "cell_type": "code",
   "execution_count": 2,
   "metadata": {
    "execution": {
     "iopub.execute_input": "2021-10-28T17:58:25.880845Z",
     "iopub.status.busy": "2021-10-28T17:58:25.880444Z",
     "iopub.status.idle": "2021-10-28T17:58:26.102275Z",
     "shell.execute_reply": "2021-10-28T17:58:26.101948Z"
    }
   },
   "outputs": [
    {
     "name": "stdout",
     "output_type": "stream",
     "text": [
      "Fetching training_001_ct.mha\n",
      "Fetching training_001_mr_T1.mha\n",
      "Fetching ct_T1.standard\n"
     ]
    },
    {
     "data": {
      "application/vnd.jupyter.widget-view+json": {
       "model_id": "6bd90c0cf4fa4aafa0169f67c7624f27",
       "version_major": 2,
       "version_minor": 0
      },
      "text/plain": [
       "interactive(children=(IntSlider(value=14, description='image1_z', max=28), IntSlider(value=12, description='im…"
      ]
     },
     "metadata": {},
     "output_type": "display_data"
    }
   ],
   "source": [
    "fixed_image = sitk.ReadImage(fdata(\"training_001_ct.mha\"), sitk.sitkFloat32)\n",
    "moving_image = sitk.ReadImage(fdata(\"training_001_mr_T1.mha\"), sitk.sitkFloat32)\n",
    "fixed_fiducial_points, moving_fiducial_points = ru.load_RIRE_ground_truth(\n",
    "    fdata(\"ct_T1.standard\")\n",
    ")\n",
    "\n",
    "R, t = ru.absolute_orientation_m(fixed_fiducial_points, moving_fiducial_points)\n",
    "reference_transform = sitk.Euler3DTransform()\n",
    "reference_transform.SetMatrix(R.flatten())\n",
    "reference_transform.SetTranslation(t)\n",
    "\n",
    "# Generate a reference dataset from the reference transformation (corresponding points in the fixed and moving images).\n",
    "fixed_points = ru.generate_random_pointset(image=fixed_image, num_points=1000)\n",
    "moving_points = [reference_transform.TransformPoint(p) for p in fixed_points]\n",
    "\n",
    "interact(\n",
    "    lambda image1_z, image2_z, image1, image2: ru.display_scalar_images(\n",
    "        image1_z, image2_z, image1, image2\n",
    "    ),\n",
    "    image1_z=(0, fixed_image.GetSize()[2] - 1),\n",
    "    image2_z=(0, moving_image.GetSize()[2] - 1),\n",
    "    image1=fixed(fixed_image),\n",
    "    image2=fixed(moving_image),\n",
    ");"
   ]
  },
  {
   "cell_type": "markdown",
   "metadata": {},
   "source": [
    "## Invest time and memory in exchange for future time savings\n",
    "\n",
    "We now resample our moving image to a finer spatial resolution."
   ]
  },
  {
   "cell_type": "code",
   "execution_count": 3,
   "metadata": {
    "execution": {
     "iopub.execute_input": "2021-10-28T17:58:26.107250Z",
     "iopub.status.busy": "2021-10-28T17:58:26.106863Z",
     "iopub.status.idle": "2021-10-28T17:58:27.172701Z",
     "shell.execute_reply": "2021-10-28T17:58:27.173085Z"
    }
   },
   "outputs": [
    {
     "name": "stdout",
     "output_type": "stream",
     "text": [
      "Original image size and spacing: (256, 256, 26) (1.25, 1.25, 4.0)\n",
      "Resampled image size and spacing: (320, 320, 104) (1.0, 1.0, 1.0)\n",
      "Memory ratio: 1 : 6.25\n"
     ]
    }
   ],
   "source": [
    "# Isotropic voxels with 1mm spacing.\n",
    "new_spacing = [1.0] * moving_image.GetDimension()\n",
    "\n",
    "# Create resampled image using new spacing and size.\n",
    "original_size = moving_image.GetSize()\n",
    "original_spacing = moving_image.GetSpacing()\n",
    "resampled_image_size = [\n",
    "    int(spacing / new_s * size)\n",
    "    for spacing, size, new_s in zip(original_spacing, original_size, new_spacing)\n",
    "]\n",
    "resampled_moving_image = sitk.Image(resampled_image_size, moving_image.GetPixelID())\n",
    "resampled_moving_image.SetSpacing(new_spacing)\n",
    "resampled_moving_image.SetOrigin(moving_image.GetOrigin())\n",
    "resampled_moving_image.SetDirection(moving_image.GetDirection())\n",
    "\n",
    "# Resample original image using identity transform and the BSpline interpolator.\n",
    "resample = sitk.ResampleImageFilter()\n",
    "resample.SetReferenceImage(resampled_moving_image)\n",
    "resample.SetInterpolator(sitk.sitkBSpline)\n",
    "resample.SetTransform(sitk.Transform())\n",
    "resampled_moving_image = resample.Execute(moving_image)\n",
    "\n",
    "print(f\"Original image size and spacing: {original_size} {original_spacing}\")\n",
    "print(\n",
    "    f\"Resampled image size and spacing: {resampled_moving_image.GetSize()} {resampled_moving_image.GetSpacing()}\"\n",
    ")\n",
    "print(\n",
    "    f\"Memory ratio: 1 : {(np.array(resampled_image_size)/np.array(original_size).astype(float)).prod()}\"\n",
    ")"
   ]
  },
  {
   "cell_type": "markdown",
   "metadata": {},
   "source": [
    "Another option for resampling an image, without any transformation, is to use the ExpandImageFilter or \n",
    "in its functional form SimpleITK::Expand. This filter accepts the interpolation method and an integral expansion factor. This is less flexible than the resample filter as we have less control over the resulting image's spacing. \n",
    "On the other hand this requires less effort from the developer, a single line of code as compared to the cell above:\n",
    "\n",
    "resampled_moving_image = sitk.Expand(moving_image, \n",
    "                                     [int(original_s/new_s + 0.5) for original_s, new_s in zip(original_spacing, new_spacing)], \n",
    "                                     sitk.sitkBSpline)\n"
   ]
  },
  {
   "cell_type": "markdown",
   "metadata": {},
   "source": [
    "## Registration\n",
    "\n",
    "### Initial Alignment\n",
    "\n",
    "We will use the same initial alignment for both registrations."
   ]
  },
  {
   "cell_type": "code",
   "execution_count": 4,
   "metadata": {
    "execution": {
     "iopub.execute_input": "2021-10-28T17:58:27.176047Z",
     "iopub.status.busy": "2021-10-28T17:58:27.175613Z",
     "iopub.status.idle": "2021-10-28T17:58:27.177233Z",
     "shell.execute_reply": "2021-10-28T17:58:27.177613Z"
    }
   },
   "outputs": [],
   "source": [
    "initial_transform = sitk.CenteredTransformInitializer(\n",
    "    fixed_image,\n",
    "    moving_image,\n",
    "    sitk.Euler3DTransform(),\n",
    "    sitk.CenteredTransformInitializerFilter.GEOMETRY,\n",
    ")"
   ]
  },
  {
   "cell_type": "markdown",
   "metadata": {},
   "source": [
    "### Original Resolution\n",
    "\n",
    "For this registration we use the original resolution and linear interpolation."
   ]
  },
  {
   "cell_type": "code",
   "execution_count": 5,
   "metadata": {
    "execution": {
     "iopub.execute_input": "2021-10-28T17:58:27.181919Z",
     "iopub.status.busy": "2021-10-28T17:58:27.181476Z",
     "iopub.status.idle": "2021-10-28T17:58:30.268826Z",
     "shell.execute_reply": "2021-10-28T17:58:30.269092Z"
    }
   },
   "outputs": [
    {
     "name": "stdout",
     "output_type": "stream",
     "text": [
      "GradientDescentOptimizerv4Template: Convergence checker passed at iteration 272.\n",
      "After registration, errors in millimeters, mean(std): 1.97(0.87), max: 4.12\n",
      "3.09 s ± 0 ns per loop (mean ± std. dev. of 1 run, 1 loop each)\n"
     ]
    }
   ],
   "source": [
    "%%timeit -r1 -n1\n",
    "# The arguments to the timeit magic specify that this cell should only be run once.\n",
    "\n",
    "# We define this variable as global so that it is accessible outside of the cell (timeit wraps the code in the cell\n",
    "# making all variables local, unless explicitly declared global).\n",
    "global original_resolution_errors\n",
    "\n",
    "final_transform, optimizer_termination = register_images(\n",
    "    fixed_image, moving_image, initial_transform, sitk.sitkLinear\n",
    ")\n",
    "(\n",
    "    final_errors_mean,\n",
    "    final_errors_std,\n",
    "    _,\n",
    "    final_errors_max,\n",
    "    original_resolution_errors,\n",
    ") = ru.registration_errors(final_transform, fixed_points, moving_points)\n",
    "\n",
    "print(optimizer_termination)\n",
    "print(\n",
    "    f\"After registration, errors in millimeters, mean(std): {final_errors_mean:.2f}({final_errors_std:.2f}), max: {final_errors_max:.2f}\"\n",
    ")"
   ]
  },
  {
   "cell_type": "markdown",
   "metadata": {},
   "source": [
    "### Higher Resolution\n",
    "\n",
    "For this registration we use the higher resolution image and nearest neighbor interpolation."
   ]
  },
  {
   "cell_type": "code",
   "execution_count": 6,
   "metadata": {
    "execution": {
     "iopub.execute_input": "2021-10-28T17:58:30.272817Z",
     "iopub.status.busy": "2021-10-28T17:58:30.272386Z",
     "iopub.status.idle": "2021-10-28T17:58:32.631047Z",
     "shell.execute_reply": "2021-10-28T17:58:32.631395Z"
    }
   },
   "outputs": [
    {
     "name": "stdout",
     "output_type": "stream",
     "text": [
      "GradientDescentOptimizerv4Template: Convergence checker passed at iteration 172.\n",
      "After registration, errors in millimeters, mean(std): 1.36(0.64), max: 2.83\n",
      "2.36 s ± 0 ns per loop (mean ± std. dev. of 1 run, 1 loop each)\n"
     ]
    }
   ],
   "source": [
    "%%timeit -r1 -n1\n",
    "# The arguments to the timeit magic specify that this cell should only be run once.\n",
    "\n",
    "# We define this variable as global so that it is accessible outside of the cell (timeit wraps the code in the cell\n",
    "# making all variables local, unless explicitly declared global).\n",
    "global resampled_resolution_errors\n",
    "\n",
    "final_transform, optimizer_termination = register_images(\n",
    "    fixed_image, resampled_moving_image, initial_transform, sitk.sitkNearestNeighbor\n",
    ")\n",
    "(\n",
    "    final_errors_mean,\n",
    "    final_errors_std,\n",
    "    _,\n",
    "    final_errors_max,\n",
    "    resampled_resolution_errors,\n",
    ") = ru.registration_errors(final_transform, fixed_points, moving_points)\n",
    "\n",
    "print(optimizer_termination)\n",
    "print(\n",
    "    f\"After registration, errors in millimeters, mean(std): {final_errors_mean:.2f}({final_errors_std:.2f}), max: {final_errors_max:.2f}\"\n",
    ")"
   ]
  },
  {
   "cell_type": "markdown",
   "metadata": {},
   "source": [
    "### Compare the error distributions\n",
    "\n",
    "To fairly compare the two registration above we look at their running times (see results above) and their \n",
    "error distributions (plotted below)."
   ]
  },
  {
   "cell_type": "code",
   "execution_count": 7,
   "metadata": {
    "execution": {
     "iopub.execute_input": "2021-10-28T17:58:32.646331Z",
     "iopub.status.busy": "2021-10-28T17:58:32.645847Z",
     "iopub.status.idle": "2021-10-28T17:58:32.784762Z",
     "shell.execute_reply": "2021-10-28T17:58:32.785015Z"
    }
   },
   "outputs": [
    {
     "data": {
      "image/png": "[encoded data removed]",
      "text/plain": [
       "<Figure size 432x288 with 1 Axes>"
      ]
     },
     "metadata": {
      "needs_background": "light"
     },
     "output_type": "display_data"
    }
   ],
   "source": [
    "plt.hist(\n",
    "    original_resolution_errors,\n",
    "    bins=20,\n",
    "    alpha=0.5,\n",
    "    label=\"original resolution\",\n",
    "    color=\"blue\",\n",
    ")\n",
    "plt.hist(\n",
    "    resampled_resolution_errors,\n",
    "    bins=20,\n",
    "    alpha=0.5,\n",
    "    label=\"higher resolution\",\n",
    "    color=\"green\",\n",
    ")\n",
    "plt.legend()\n",
    "plt.title(\"TRE histogram\");"
   ]
  },
  {
   "cell_type": "markdown",
   "metadata": {},
   "source": [
    "## Conclusions\n",
    "\n",
    "It appears that the memory-time trade-off works in our favor, but is this always the case? Well, you will have to answer that for yourself.\n",
    "\n",
    "Some immediate things you can try:\n",
    "* Change the interpolation method for the \"original resolution\" registration to nearest neighbor.\n",
    "* Change the resolution of the resampled image - will a higher resolution always result in faster running times?"
   ]
  }
 ],
 "metadata": {
  "kernelspec": {
   "display_name": "Python 3 (ipykernel)",
   "language": "python",
   "name": "python3"
  },
  "language_info": {
   "codemirror_mode": {
    "name": "ipython",
    "version": 3
   },
   "file_extension": ".py",
   "mimetype": "text/x-python",
   "name": "python",
   "nbconvert_exporter": "python",
   "pygments_lexer": "ipython3",
   "version": "3.8.12"
  },
  "widgets": {
   "application/vnd.jupyter.widget-state+json": {
    "state": {
     "01efb044fd854a7e80fc6abbf0a96978": {
      "model_module": "@jupyter-widgets/base",
      "model_module_version": "1.2.0",
      "model_name": "LayoutModel",
      "state": {
       "_model_module": "@jupyter-widgets/base",
       "_model_module_version": "1.2.0",
       "_model_name": "LayoutModel",
       "_view_count": null,
       "_view_module": "@jupyter-widgets/base",
       "_view_module_version": "1.2.0",
       "_view_name": "LayoutView",
       "align_content": null,
       "align_items": null,
       "align_self": null,
       "border": null,
       "bottom": null,
       "display": null,
       "flex": null,
       "flex_flow": null,
       "grid_area": null,
       "grid_auto_columns": null,
       "grid_auto_flow": null,
       "grid_auto_rows": null,
       "grid_column": null,
       "grid_gap": null,
       "grid_row": null,
       "grid_template_areas": null,
       "grid_template_columns": null,
       "grid_template_rows": null,
       "height": null,
       "justify_content": null,
       "justify_items": null,
       "left": null,
       "margin": null,
       "max_height": null,
       "max_width": null,
       "min_height": null,
       "min_width": null,
       "object_fit": null,
       "object_position": null,
       "order": null,
       "overflow": null,
       "overflow_x": null,
       "overflow_y": null,
       "padding": null,
       "right": null,
       "top": null,
       "visibility": null,
       "width": null
      }
     },
     "01f1009f42924e3a8ae42c486bcb99a3": {
      "model_module": "@jupyter-widgets/output",
      "model_module_version": "1.0.0",
      "model_name": "OutputModel",
      "state": {
       "_dom_classes": [],
       "_model_module": "@jupyter-widgets/output",
       "_model_module_version": "1.0.0",
       "_model_name": "OutputModel",
       "_view_count": null,
       "_view_module": "@jupyter-widgets/output",
       "_view_module_version": "1.0.0",
       "_view_name": "OutputView",
       "layout": "IPY_MODEL_2308b33576414992a573f29334571cc3",
       "msg_id": "",
       "outputs": [
        {
         "data": {
          "image/png": "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\n",
          "text/plain": "<Figure size 720x576 with 2 Axes>"
         },
         "metadata": {
          "needs_background": "light"
         },
         "output_type": "display_data"
        }
       ]
      }
     },
     "2308b33576414992a573f29334571cc3": {
      "model_module": "@jupyter-widgets/base",
      "model_module_version": "1.2.0",
      "model_name": "LayoutModel",
      "state": {
       "_model_module": "@jupyter-widgets/base",
       "_model_module_version": "1.2.0",
       "_model_name": "LayoutModel",
       "_view_count": null,
       "_view_module": "@jupyter-widgets/base",
       "_view_module_version": "1.2.0",
       "_view_name": "LayoutView",
       "align_content": null,
       "align_items": null,
       "align_self": null,
       "border": null,
       "bottom": null,
       "display": null,
       "flex": null,
       "flex_flow": null,
       "grid_area": null,
       "grid_auto_columns": null,
       "grid_auto_flow": null,
       "grid_auto_rows": null,
       "grid_column": null,
       "grid_gap": null,
       "grid_row": null,
       "grid_template_areas": null,
       "grid_template_columns": null,
       "grid_template_rows": null,
       "height": null,
       "justify_content": null,
       "justify_items": null,
       "left": null,
       "margin": null,
       "max_height": null,
       "max_width": null,
       "min_height": null,
       "min_width": null,
       "object_fit": null,
       "object_position": null,
       "order": null,
       "overflow": null,
       "overflow_x": null,
       "overflow_y": null,
       "padding": null,
       "right": null,
       "top": null,
       "visibility": null,
       "width": null
      }
     },
     "50146cb6eecd4242a1118d3a74541630": {
      "model_module": "@jupyter-widgets/controls",
      "model_module_version": "1.5.0",
      "model_name": "SliderStyleModel",
      "state": {
       "_model_module": "@jupyter-widgets/controls",
       "_model_module_version": "1.5.0",
       "_model_name": "SliderStyleModel",
       "_view_count": null,
       "_view_module": "@jupyter-widgets/base",
       "_view_module_version": "1.2.0",
       "_view_name": "StyleView",
       "description_width": "",
       "handle_color": null
      }
     },
     "6bd90c0cf4fa4aafa0169f67c7624f27": {
      "model_module": "@jupyter-widgets/controls",
      "model_module_version": "1.5.0",
      "model_name": "VBoxModel",
      "state": {
       "_dom_classes": [
        "widget-interact"
       ],
       "_model_module": "@jupyter-widgets/controls",
       "_model_module_version": "1.5.0",
       "_model_name": "VBoxModel",
       "_view_count": null,
       "_view_module": "@jupyter-widgets/controls",
       "_view_module_version": "1.5.0",
       "_view_name": "VBoxView",
       "box_style": "",
       "children": [
        "IPY_MODEL_94e603dce224446dac74dab8a0dc35df",
        "IPY_MODEL_c22376bdeab8438e996461f228f09b34",
        "IPY_MODEL_01f1009f42924e3a8ae42c486bcb99a3"
       ],
       "layout": "IPY_MODEL_01efb044fd854a7e80fc6abbf0a96978"
      }
     },
     "94e603dce224446dac74dab8a0dc35df": {
      "model_module": "@jupyter-widgets/controls",
      "model_module_version": "1.5.0",
      "model_name": "IntSliderModel",
      "state": {
       "_dom_classes": [],
       "_model_module": "@jupyter-widgets/controls",
       "_model_module_version": "1.5.0",
       "_model_name": "IntSliderModel",
       "_view_count": null,
       "_view_module": "@jupyter-widgets/controls",
       "_view_module_version": "1.5.0",
       "_view_name": "IntSliderView",
       "continuous_update": true,
       "description": "image1_z",
       "description_tooltip": null,
       "disabled": false,
       "layout": "IPY_MODEL_e480d2e927824900b74119ea1c313845",
       "max": 28,
       "min": 0,
       "orientation": "horizontal",
       "readout": true,
       "readout_format": "d",
       "step": 1,
       "style": "IPY_MODEL_d738f11c78534e98866f16fcd7495e7c",
       "value": 14
      }
     },
     "a3b14392d0a2409da1ca19732565a8a5": {
      "model_module": "@jupyter-widgets/base",
      "model_module_version": "1.2.0",
      "model_name": "LayoutModel",
      "state": {
       "_model_module": "@jupyter-widgets/base",
       "_model_module_version": "1.2.0",
       "_model_name": "LayoutModel",
       "_view_count": null,
       "_view_module": "@jupyter-widgets/base",
       "_view_module_version": "1.2.0",
       "_view_name": "LayoutView",
       "align_content": null,
       "align_items": null,
       "align_self": null,
       "border": null,
       "bottom": null,
       "display": null,
       "flex": null,
       "flex_flow": null,
       "grid_area": null,
       "grid_auto_columns": null,
       "grid_auto_flow": null,
       "grid_auto_rows": null,
       "grid_column": null,
       "grid_gap": null,
       "grid_row": null,
       "grid_template_areas": null,
       "grid_template_columns": null,
       "grid_template_rows": null,
       "height": null,
       "justify_content": null,
       "justify_items": null,
       "left": null,
       "margin": null,
       "max_height": null,
       "max_width": null,
       "min_height": null,
       "min_width": null,
       "object_fit": null,
       "object_position": null,
       "order": null,
       "overflow": null,
       "overflow_x": null,
       "overflow_y": null,
       "padding": null,
       "right": null,
       "top": null,
       "visibility": null,
       "width": null
      }
     },
     "c22376bdeab8438e996461f228f09b34": {
      "model_module": "@jupyter-widgets/controls",
      "model_module_version": "1.5.0",
      "model_name": "IntSliderModel",
      "state": {
       "_dom_classes": [],
       "_model_module": "@jupyter-widgets/controls",
       "_model_module_version": "1.5.0",
       "_model_name": "IntSliderModel",
       "_view_count": null,
       "_view_module": "@jupyter-widgets/controls",
       "_view_module_version": "1.5.0",
       "_view_name": "IntSliderView",
       "continuous_update": true,
       "description": "image2_z",
       "description_tooltip": null,
       "disabled": false,
       "layout": "IPY_MODEL_a3b14392d0a2409da1ca19732565a8a5",
       "max": 25,
       "min": 0,
       "orientation": "horizontal",
       "readout": true,
       "readout_format": "d",
       "step": 1,
       "style": "IPY_MODEL_50146cb6eecd4242a1118d3a74541630",
       "value": 12
      }
     },
     "d738f11c78534e98866f16fcd7495e7c": {
      "model_module": "@jupyter-widgets/controls",
      "model_module_version": "1.5.0",
      "model_name": "SliderStyleModel",
      "state": {
       "_model_module": "@jupyter-widgets/controls",
       "_model_module_version": "1.5.0",
       "_model_name": "SliderStyleModel",
       "_view_count": null,
       "_view_module": "@jupyter-widgets/base",
       "_view_module_version": "1.2.0",
       "_view_name": "StyleView",
       "description_width": "",
       "handle_color": null
      }
     },
     "e480d2e927824900b74119ea1c313845": {
      "model_module": "@jupyter-widgets/base",
      "model_module_version": "1.2.0",
      "model_name": "LayoutModel",
      "state": {
       "_model_module": "@jupyter-widgets/base",
       "_model_module_version": "1.2.0",
       "_model_name": "LayoutModel",
       "_view_count": null,
       "_view_module": "@jupyter-widgets/base",
       "_view_module_version": "1.2.0",
       "_view_name": "LayoutView",
       "align_content": null,
       "align_items": null,
       "align_self": null,
       "border": null,
       "bottom": null,
       "display": null,
       "flex": null,
       "flex_flow": null,
       "grid_area": null,
       "grid_auto_columns": null,
       "grid_auto_flow": null,
       "grid_auto_rows": null,
       "grid_column": null,
       "grid_gap": null,
       "grid_row": null,
       "grid_template_areas": null,
       "grid_template_columns": null,
       "grid_template_rows": null,
       "height": null,
       "justify_content": null,
       "justify_items": null,
       "left": null,
       "margin": null,
       "max_height": null,
       "max_width": null,
       "min_height": null,
       "min_width": null,
       "object_fit": null,
       "object_position": null,
       "order": null,
       "overflow": null,
       "overflow_x": null,
       "overflow_y": null,
       "padding": null,
       "right": null,
       "top": null,
       "visibility": null,
       "width": null
      }
     }
    },
    "version_major": 2,
    "version_minor": 0
   }
  }
 },
 "nbformat": 4,
 "nbformat_minor": 4
}
