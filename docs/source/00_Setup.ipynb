{
 "cells": [
  {
   "cell_type": "markdown",
   "metadata": {},
   "source": [
    "# Welcome to SimpleITK Jupyter Notebooks\n",
    "\n",
    "\n",
    "## Newcomers to Jupyter Notebooks:\n",
    "1. We use two types of cells, code and markdown.\n",
    "2. To run a code cell, select it (mouse or arrow key so that it is highlighted) and then press shift+enter which also moves focus to the next cell or ctrl+enter which doesn't.\n",
    "3. Closing the browser window does not close the Jupyter server. To close the server, go to the terminal where you ran it and press ctrl+c twice.\n",
    "\n",
    "For additional details see the [Jupyter project documentation](https://jupyter.org/documentation) on Jupyter Notebook or JupyterLab.\n",
    "\n",
    "## SimpleITK Environment Setup\n",
    "\n",
    "Check that SimpleITK and auxiliary program(s) are correctly installed in your environment, and that you have the SimpleITK version which you expect (<b>requires network connectivity</b>).\n",
    "\n",
    "You can optionally download all of the data used in the notebooks in advance. This step is only necessary if you expect to run the notebooks without network connectivity."
   ]
  },
  {
   "cell_type": "markdown",
   "metadata": {},
   "source": [
    "The following cell checks that all expected packages are installed."
   ]
  },
  {
   "cell_type": "code",
   "execution_count": 1,
   "metadata": {
    "execution": {
     "iopub.execute_input": "2021-10-28T17:50:17.716208Z",
     "iopub.status.busy": "2021-10-28T17:50:17.713552Z",
     "iopub.status.idle": "2021-10-28T17:50:18.149027Z",
     "shell.execute_reply": "2021-10-28T17:50:18.149286Z"
    }
   },
   "outputs": [
    {
     "name": "stdout",
     "output_type": "stream",
     "text": [
      "All is well.\n"
     ]
    }
   ],
   "source": [
    "import importlib\n",
    "from distutils.version import LooseVersion\n",
    "\n",
    "# check that all packages are installed (see requirements.txt file)\n",
    "required_packages = {\n",
    "    \"jupyter\",\n",
    "    \"numpy\",\n",
    "    \"matplotlib\",\n",
    "    \"ipywidgets\",\n",
    "    \"scipy\",\n",
    "    \"pandas\",\n",
    "    \"numba\",\n",
    "    \"multiprocess\",\n",
    "    \"SimpleITK\",\n",
    "}\n",
    "\n",
    "problem_packages = list()\n",
    "# Iterate over the required packages: If the package is not installed\n",
    "# ignore the exception.\n",
    "for package in required_packages:\n",
    "    try:\n",
    "        p = importlib.import_module(package)\n",
    "    except ImportError:\n",
    "        problem_packages.append(package)\n",
    "\n",
    "if len(problem_packages) == 0:\n",
    "    print(\"All is well.\")\n",
    "else:\n",
    "    print(\n",
    "        \"The following packages are required but not installed: \"\n",
    "        + \", \".join(problem_packages)\n",
    "    )"
   ]
  },
  {
   "cell_type": "code",
   "execution_count": 2,
   "metadata": {
    "execution": {
     "iopub.execute_input": "2021-10-28T17:50:18.152494Z",
     "iopub.status.busy": "2021-10-28T17:50:18.152078Z",
     "iopub.status.idle": "2021-10-28T17:50:18.154228Z",
     "shell.execute_reply": "2021-10-28T17:50:18.154541Z"
    }
   },
   "outputs": [
    {
     "name": "stdout",
     "output_type": "stream",
     "text": [
      "SimpleITK Version: 2.1.1 (ITK 5.2)\n",
      "Compiled: Sep  9 2021 19:12:54\n",
      "\n"
     ]
    }
   ],
   "source": [
    "import SimpleITK as sitk\n",
    "\n",
    "%run update_path_to_download_script\n",
    "from downloaddata import fetch_data, fetch_data_all\n",
    "\n",
    "from ipywidgets import interact\n",
    "\n",
    "print(sitk.Version())"
   ]
  },
  {
   "cell_type": "markdown",
   "metadata": {},
   "source": [
    "We expect that you have an external image viewer installed. The default viewer is <a href=\"https://fiji.sc/#download\">Fiji</a>. If you have another viewer (i.e. ITK-SNAP or 3D Slicer) you will need to set an environment variable to point to it. This can be done from within a notebook as shown below."
   ]
  },
  {
   "cell_type": "code",
   "execution_count": 3,
   "metadata": {
    "execution": {
     "iopub.execute_input": "2021-10-28T17:50:18.156832Z",
     "iopub.status.busy": "2021-10-28T17:50:18.156467Z",
     "iopub.status.idle": "2021-10-28T17:50:18.157802Z",
     "shell.execute_reply": "2021-10-28T17:50:18.158031Z"
    },
    "simpleitk_error_allowed": "Exception thrown in SimpleITK Show:"
   },
   "outputs": [],
   "source": [
    "# Uncomment the line below to change the default external viewer to your viewer of choice and test that it works.\n",
    "#%env SITK_SHOW_COMMAND /Applications/ITK-SNAP.app/Contents/MacOS/ITK-SNAP\n",
    "\n",
    "# Retrieve an image from the network, read it and display using the external viewer.\n",
    "# The show method will also set the display window's title and by setting debugOn to True,\n",
    "# will also print information with respect to the command it is attempting to invoke.\n",
    "# NOTE: The debug information is printed to the terminal from which you launched the notebook\n",
    "#       server.\n",
    "hello_world = 42 ### original line was sITK.Show(sitk.ReadImage(fetch_data(\"SimpleITK.jpg\")), \"SimpleITK Logo\", debugOn=True)"
   ]
  },
  {
   "cell_type": "markdown",
   "metadata": {},
   "source": [
    "Now we check that the ipywidgets will display correctly. When you run the following cell you should see a slider.\n",
    "\n",
    "If you don't see a slider please shutdown the Jupyter server, at the command line prompt press Control-c twice, and then run the following command:\n",
    "\n",
    "```jupyter nbextension enable --py --sys-prefix widgetsnbextension```"
   ]
  },
  {
   "cell_type": "code",
   "execution_count": 4,
   "metadata": {
    "execution": {
     "iopub.execute_input": "2021-10-28T17:50:18.167154Z",
     "iopub.status.busy": "2021-10-28T17:50:18.166693Z",
     "iopub.status.idle": "2021-10-28T17:50:18.255870Z",
     "shell.execute_reply": "2021-10-28T17:50:18.255168Z"
    }
   },
   "outputs": [
    {
     "data": {
      "application/vnd.jupyter.widget-view+json": {
       "model_id": "5e1d0f0102bf46c3b4f7dc995062f4ee",
       "version_major": 2,
       "version_minor": 0
      },
      "text/plain": [
       "interactive(children=(IntSlider(value=5, description='x', max=10), Output()), _dom_classes=('widget-interact',…"
      ]
     },
     "metadata": {},
     "output_type": "display_data"
    }
   ],
   "source": [
    "interact(lambda x: x, x=(0, 10));"
   ]
  },
  {
   "cell_type": "markdown",
   "metadata": {},
   "source": [
    "Download all of the data in advance if you expect to be working offline (may take a couple of minutes)."
   ]
  },
  {
   "cell_type": "code",
   "execution_count": 5,
   "metadata": {
    "execution": {
     "iopub.execute_input": "2021-10-28T17:50:18.258538Z",
     "iopub.status.busy": "2021-10-28T17:50:18.258158Z",
     "iopub.status.idle": "2021-10-28T17:50:20.721658Z",
     "shell.execute_reply": "2021-10-28T17:50:20.721959Z"
    }
   },
   "outputs": [
    {
     "name": "stdout",
     "output_type": "stream",
     "text": [
      "Fetching cthead1.png\n",
      "Fetching VM1111Shrink-RGB.png\n",
      "Fetching 2th_cthead1.png\n",
      "Fetching nac-hncma-atlas2013-Slicer4Version/Data/A1_grayT1.nrrd\n",
      "Fetching nac-hncma-atlas2013-Slicer4Version/Data/A1_grayT2.nrrd\n",
      "Fetching nac-hncma-atlas2013-Slicer4Version/Data/hncma-atlas.nrrd\n",
      "Fetching B1.tiff\n",
      "Fetching B2.tiff\n",
      "Fetching B1_fixed_B2_moving0GenericAffine.mat\n",
      "Fetching B1_fixed_B2_movingComposite.h5\n",
      "Fetching coins.png\n",
      "Fetching a_vm1108.png\n",
      "Fetching vm_head_rgb.mha\n",
      "Fetching vm_head_mri.mha\n",
      "Fetching training_001_ct.mha\n",
      "Fetching training_001_mr_T1.mha\n",
      "Fetching ct_T1.standard\n",
      "Fetching CIRS057A_MR_CT_DICOM/readme.txt\n",
      "Fetching SimpleITK.jpg\n",
      "Fetching spherical_fiducials.mha\n",
      "Fetching POPI/meta/00-P.mhd\n",
      "Fetching POPI/meta/10-P.mhd\n",
      "Fetching POPI/meta/20-P.mhd\n",
      "Fetching POPI/meta/30-P.mhd\n",
      "Fetching POPI/meta/40-P.mhd\n",
      "Fetching POPI/meta/50-P.mhd\n",
      "Fetching POPI/meta/60-P.mhd\n",
      "Fetching POPI/meta/70-P.mhd\n",
      "Fetching POPI/meta/80-P.mhd\n",
      "Fetching POPI/meta/90-P.mhd\n",
      "Fetching POPI/landmarks/00-Landmarks.pts\n",
      "Fetching POPI/landmarks/10-Landmarks.pts\n",
      "Fetching POPI/landmarks/20-Landmarks.pts\n",
      "Fetching POPI/landmarks/30-Landmarks.pts\n",
      "Fetching POPI/landmarks/40-Landmarks.pts\n",
      "Fetching POPI/landmarks/50-Landmarks.pts\n",
      "Fetching POPI/landmarks/60-Landmarks.pts\n",
      "Fetching POPI/landmarks/70-Landmarks.pts\n",
      "Fetching POPI/landmarks/80-Landmarks.pts\n",
      "Fetching POPI/landmarks/90-Landmarks.pts\n",
      "Fetching POPI/masks/00-air-body-lungs.mhd\n",
      "Fetching POPI/masks/10-air-body-lungs.mhd\n",
      "Fetching POPI/masks/20-air-body-lungs.mhd\n",
      "Fetching POPI/masks/30-air-body-lungs.mhd\n",
      "Fetching POPI/masks/40-air-body-lungs.mhd\n",
      "Fetching POPI/masks/50-air-body-lungs.mhd\n",
      "Fetching POPI/masks/60-air-body-lungs.mhd\n",
      "Fetching POPI/masks/70-air-body-lungs.mhd\n",
      "Fetching POPI/masks/80-air-body-lungs.mhd\n",
      "Fetching POPI/masks/90-air-body-lungs.mhd\n",
      "Fetching liverTumorSegmentations/Patient01Homo.mha\n",
      "Fetching liverTumorSegmentations/Patient01Homo_Rad01.mha\n",
      "Fetching liverTumorSegmentations/Patient01Homo_Rad02.mha\n",
      "Fetching liverTumorSegmentations/Patient01Homo_Rad03.mha\n",
      "Fetching Control.tif\n",
      "Fetching head_mr_oriented.mha\n",
      "Fetching fib_sem_bacillus_subtilis.mha\n",
      "Fetching mr_slice_atlas/readme.txt\n",
      "Fetching photo.dcm\n",
      "Fetching leg_panorama/readme.txt\n",
      "Fetching microscopy_colocalization.nrrd\n",
      "Fetching cxr.dcm\n"
     ]
    }
   ],
   "source": [
    "fetch_data_all(os.path.join(\"..\", \"Data\"), os.path.join(\"..\", \"Data\", \"manifest.json\"))"
   ]
  }
 ],
 "metadata": {
  "kernelspec": {
   "display_name": "Python 3 (ipykernel)",
   "language": "python",
   "name": "python3"
  },
  "language_info": {
   "codemirror_mode": {
    "name": "ipython",
    "version": 3
   },
   "file_extension": ".py",
   "mimetype": "text/x-python",
   "name": "python",
   "nbconvert_exporter": "python",
   "pygments_lexer": "ipython3",
   "version": "3.8.12"
  },
  "widgets": {
   "application/vnd.jupyter.widget-state+json": {
    "state": {
     "31cef6c0dcfa429a968688d2d5ece8a6": {
      "model_module": "@jupyter-widgets/controls",
      "model_module_version": "1.5.0",
      "model_name": "IntSliderModel",
      "state": {
       "_dom_classes": [],
       "_model_module": "@jupyter-widgets/controls",
       "_model_module_version": "1.5.0",
       "_model_name": "IntSliderModel",
       "_view_count": null,
       "_view_module": "@jupyter-widgets/controls",
       "_view_module_version": "1.5.0",
       "_view_name": "IntSliderView",
       "continuous_update": true,
       "description": "x",
       "description_tooltip": null,
       "disabled": false,
       "layout": "IPY_MODEL_65c2a6abd8bb4d4cbc554adc1559db4f",
       "max": 10,
       "min": 0,
       "orientation": "horizontal",
       "readout": true,
       "readout_format": "d",
       "step": 1,
       "style": "IPY_MODEL_87ae7054594a45e882671f6d32d5b969",
       "value": 5
      }
     },
     "42bbb12033274831be113ab5484be838": {
      "model_module": "@jupyter-widgets/output",
      "model_module_version": "1.0.0",
      "model_name": "OutputModel",
      "state": {
       "_dom_classes": [],
       "_model_module": "@jupyter-widgets/output",
       "_model_module_version": "1.0.0",
       "_model_name": "OutputModel",
       "_view_count": null,
       "_view_module": "@jupyter-widgets/output",
       "_view_module_version": "1.0.0",
       "_view_name": "OutputView",
       "layout": "IPY_MODEL_76f1e761fa694b5287b6db146f2d6da5",
       "msg_id": "",
       "outputs": [
        {
         "data": {
          "text/plain": "5"
         },
         "metadata": {},
         "output_type": "display_data"
        }
       ]
      }
     },
     "5e1d0f0102bf46c3b4f7dc995062f4ee": {
      "model_module": "@jupyter-widgets/controls",
      "model_module_version": "1.5.0",
      "model_name": "VBoxModel",
      "state": {
       "_dom_classes": [
        "widget-interact"
       ],
       "_model_module": "@jupyter-widgets/controls",
       "_model_module_version": "1.5.0",
       "_model_name": "VBoxModel",
       "_view_count": null,
       "_view_module": "@jupyter-widgets/controls",
       "_view_module_version": "1.5.0",
       "_view_name": "VBoxView",
       "box_style": "",
       "children": [
        "IPY_MODEL_31cef6c0dcfa429a968688d2d5ece8a6",
        "IPY_MODEL_42bbb12033274831be113ab5484be838"
       ],
       "layout": "IPY_MODEL_824558db1e884df3802173bb4b67855d"
      }
     },
     "65c2a6abd8bb4d4cbc554adc1559db4f": {
      "model_module": "@jupyter-widgets/base",
      "model_module_version": "1.2.0",
      "model_name": "LayoutModel",
      "state": {
       "_model_module": "@jupyter-widgets/base",
       "_model_module_version": "1.2.0",
       "_model_name": "LayoutModel",
       "_view_count": null,
       "_view_module": "@jupyter-widgets/base",
       "_view_module_version": "1.2.0",
       "_view_name": "LayoutView",
       "align_content": null,
       "align_items": null,
       "align_self": null,
       "border": null,
       "bottom": null,
       "display": null,
       "flex": null,
       "flex_flow": null,
       "grid_area": null,
       "grid_auto_columns": null,
       "grid_auto_flow": null,
       "grid_auto_rows": null,
       "grid_column": null,
       "grid_gap": null,
       "grid_row": null,
       "grid_template_areas": null,
       "grid_template_columns": null,
       "grid_template_rows": null,
       "height": null,
       "justify_content": null,
       "justify_items": null,
       "left": null,
       "margin": null,
       "max_height": null,
       "max_width": null,
       "min_height": null,
       "min_width": null,
       "object_fit": null,
       "object_position": null,
       "order": null,
       "overflow": null,
       "overflow_x": null,
       "overflow_y": null,
       "padding": null,
       "right": null,
       "top": null,
       "visibility": null,
       "width": null
      }
     },
     "76f1e761fa694b5287b6db146f2d6da5": {
      "model_module": "@jupyter-widgets/base",
      "model_module_version": "1.2.0",
      "model_name": "LayoutModel",
      "state": {
       "_model_module": "@jupyter-widgets/base",
       "_model_module_version": "1.2.0",
       "_model_name": "LayoutModel",
       "_view_count": null,
       "_view_module": "@jupyter-widgets/base",
       "_view_module_version": "1.2.0",
       "_view_name": "LayoutView",
       "align_content": null,
       "align_items": null,
       "align_self": null,
       "border": null,
       "bottom": null,
       "display": null,
       "flex": null,
       "flex_flow": null,
       "grid_area": null,
       "grid_auto_columns": null,
       "grid_auto_flow": null,
       "grid_auto_rows": null,
       "grid_column": null,
       "grid_gap": null,
       "grid_row": null,
       "grid_template_areas": null,
       "grid_template_columns": null,
       "grid_template_rows": null,
       "height": null,
       "justify_content": null,
       "justify_items": null,
       "left": null,
       "margin": null,
       "max_height": null,
       "max_width": null,
       "min_height": null,
       "min_width": null,
       "object_fit": null,
       "object_position": null,
       "order": null,
       "overflow": null,
       "overflow_x": null,
       "overflow_y": null,
       "padding": null,
       "right": null,
       "top": null,
       "visibility": null,
       "width": null
      }
     },
     "824558db1e884df3802173bb4b67855d": {
      "model_module": "@jupyter-widgets/base",
      "model_module_version": "1.2.0",
      "model_name": "LayoutModel",
      "state": {
       "_model_module": "@jupyter-widgets/base",
       "_model_module_version": "1.2.0",
       "_model_name": "LayoutModel",
       "_view_count": null,
       "_view_module": "@jupyter-widgets/base",
       "_view_module_version": "1.2.0",
       "_view_name": "LayoutView",
       "align_content": null,
       "align_items": null,
       "align_self": null,
       "border": null,
       "bottom": null,
       "display": null,
       "flex": null,
       "flex_flow": null,
       "grid_area": null,
       "grid_auto_columns": null,
       "grid_auto_flow": null,
       "grid_auto_rows": null,
       "grid_column": null,
       "grid_gap": null,
       "grid_row": null,
       "grid_template_areas": null,
       "grid_template_columns": null,
       "grid_template_rows": null,
       "height": null,
       "justify_content": null,
       "justify_items": null,
       "left": null,
       "margin": null,
       "max_height": null,
       "max_width": null,
       "min_height": null,
       "min_width": null,
       "object_fit": null,
       "object_position": null,
       "order": null,
       "overflow": null,
       "overflow_x": null,
       "overflow_y": null,
       "padding": null,
       "right": null,
       "top": null,
       "visibility": null,
       "width": null
      }
     },
     "87ae7054594a45e882671f6d32d5b969": {
      "model_module": "@jupyter-widgets/controls",
      "model_module_version": "1.5.0",
      "model_name": "SliderStyleModel",
      "state": {
       "_model_module": "@jupyter-widgets/controls",
       "_model_module_version": "1.5.0",
       "_model_name": "SliderStyleModel",
       "_view_count": null,
       "_view_module": "@jupyter-widgets/base",
       "_view_module_version": "1.2.0",
       "_view_name": "StyleView",
       "description_width": "",
       "handle_color": null
      }
     }
    },
    "version_major": 2,
    "version_minor": 0
   }
  }
 },
 "nbformat": 4,
 "nbformat_minor": 4
}
