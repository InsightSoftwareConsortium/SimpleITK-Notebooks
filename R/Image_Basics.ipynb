{
 "cells": [
  {
   "cell_type": "markdown",
   "metadata": {},
   "source": [
    "# SimpleITK from R"
   ]
  },
  {
   "cell_type": "markdown",
   "metadata": {},
   "source": [
    "The R notebooks follow the general structure of the python equivalents.\n",
    "\n",
    "A few comments to get started:\n",
    "* R will display a variable when you type the name. If the variable is a SimpleITK image then, by default, R/SimpleITK will attempt to display it with ImageJ. This isn't much good for notebooks or knitted documents, so the \"show\" method has been replaced by a function using internal R graphics. This isn't necessary for interactive sessions.\n",
    "* The documentation doesn't exist in the R package yet - be prepared to do some detective work.\n",
    "* C++ enumerated types are wrapped using strings, rather than integers.\n",
    "* Error messages are can be very cryptic - it helps to get familiar with the R way of querying methods and objects.\n",
    "* The object oriented style used by swig is one of the less common ones used in R packages.\n",
    "* C++ vectors are automatically converted to R vectors.\n",
    "\n",
    "Let's start by creating an image and accessing information about it."
   ]
  },
  {
   "cell_type": "code",
   "execution_count": 9,
   "metadata": {
    "collapsed": true
   },
   "outputs": [],
   "source": [
    "# Load the SimpleITK library\n",
    "library(SimpleITK)\n",
    "\n",
    "imA = Image(256, 128, 64, \"sitkInt16\")\n",
    "imB = SimpleITK::Image(64, 64, \"sitkFloat32\")\n",
    "imC = Image(c(32, 32), \"sitkUInt32\")\n",
    "imRGB = Image(c(128,128), \"sitkVectorUInt8\", 3)"
   ]
  },
  {
   "cell_type": "markdown",
   "metadata": {},
   "source": [
    "We've created 3 different (empty) images using slightly differeing syntax to specify the dimensions. We've also specified the pixel type. The range of available pixel types is:"
   ]
  },
  {
   "cell_type": "code",
   "execution_count": 5,
   "metadata": {
    "collapsed": false
   },
   "outputs": [
    {
     "data": {
      "text/html": [
       "<dl class=dl-horizontal>\n",
       "\t<dt>sitkUnknown</dt>\n",
       "\t\t<dd>-1</dd>\n",
       "\t<dt>sitkUInt8</dt>\n",
       "\t\t<dd>1</dd>\n",
       "\t<dt>sitkInt8</dt>\n",
       "\t\t<dd>0</dd>\n",
       "\t<dt>sitkUInt16</dt>\n",
       "\t\t<dd>3</dd>\n",
       "\t<dt>sitkInt16</dt>\n",
       "\t\t<dd>2</dd>\n",
       "\t<dt>sitkUInt32</dt>\n",
       "\t\t<dd>5</dd>\n",
       "\t<dt>sitkInt32</dt>\n",
       "\t\t<dd>4</dd>\n",
       "\t<dt>sitkUInt64</dt>\n",
       "\t\t<dd>7</dd>\n",
       "\t<dt>sitkInt64</dt>\n",
       "\t\t<dd>6</dd>\n",
       "\t<dt>sitkFloat32</dt>\n",
       "\t\t<dd>8</dd>\n",
       "\t<dt>sitkFloat64</dt>\n",
       "\t\t<dd>9</dd>\n",
       "\t<dt>sitkComplexFloat32</dt>\n",
       "\t\t<dd>10</dd>\n",
       "\t<dt>sitkComplexFloat64</dt>\n",
       "\t\t<dd>11</dd>\n",
       "\t<dt>sitkVectorUInt8</dt>\n",
       "\t\t<dd>13</dd>\n",
       "\t<dt>sitkVectorInt8</dt>\n",
       "\t\t<dd>12</dd>\n",
       "\t<dt>sitkVectorUInt16</dt>\n",
       "\t\t<dd>15</dd>\n",
       "\t<dt>sitkVectorInt16</dt>\n",
       "\t\t<dd>14</dd>\n",
       "\t<dt>sitkVectorUInt32</dt>\n",
       "\t\t<dd>17</dd>\n",
       "\t<dt>sitkVectorInt32</dt>\n",
       "\t\t<dd>16</dd>\n",
       "\t<dt>sitkVectorUInt64</dt>\n",
       "\t\t<dd>19</dd>\n",
       "\t<dt>sitkVectorInt64</dt>\n",
       "\t\t<dd>18</dd>\n",
       "\t<dt>sitkVectorFloat32</dt>\n",
       "\t\t<dd>20</dd>\n",
       "\t<dt>sitkVectorFloat64</dt>\n",
       "\t\t<dd>21</dd>\n",
       "\t<dt>sitkLabelUInt8</dt>\n",
       "\t\t<dd>22</dd>\n",
       "\t<dt>sitkLabelUInt16</dt>\n",
       "\t\t<dd>23</dd>\n",
       "\t<dt>sitkLabelUInt32</dt>\n",
       "\t\t<dd>24</dd>\n",
       "\t<dt>sitkLabelUInt64</dt>\n",
       "\t\t<dd>25</dd>\n",
       "</dl>\n"
      ],
      "text/latex": [
       "\\begin{description*}\n",
       "\\item[sitkUnknown] -1\n",
       "\\item[sitkUInt8] 1\n",
       "\\item[sitkInt8] 0\n",
       "\\item[sitkUInt16] 3\n",
       "\\item[sitkInt16] 2\n",
       "\\item[sitkUInt32] 5\n",
       "\\item[sitkInt32] 4\n",
       "\\item[sitkUInt64] 7\n",
       "\\item[sitkInt64] 6\n",
       "\\item[sitkFloat32] 8\n",
       "\\item[sitkFloat64] 9\n",
       "\\item[sitkComplexFloat32] 10\n",
       "\\item[sitkComplexFloat64] 11\n",
       "\\item[sitkVectorUInt8] 13\n",
       "\\item[sitkVectorInt8] 12\n",
       "\\item[sitkVectorUInt16] 15\n",
       "\\item[sitkVectorInt16] 14\n",
       "\\item[sitkVectorUInt32] 17\n",
       "\\item[sitkVectorInt32] 16\n",
       "\\item[sitkVectorUInt64] 19\n",
       "\\item[sitkVectorInt64] 18\n",
       "\\item[sitkVectorFloat32] 20\n",
       "\\item[sitkVectorFloat64] 21\n",
       "\\item[sitkLabelUInt8] 22\n",
       "\\item[sitkLabelUInt16] 23\n",
       "\\item[sitkLabelUInt32] 24\n",
       "\\item[sitkLabelUInt64] 25\n",
       "\\end{description*}\n"
      ],
      "text/markdown": [
       "sitkUnknown\n",
       ":   -1sitkUInt8\n",
       ":   1sitkInt8\n",
       ":   0sitkUInt16\n",
       ":   3sitkInt16\n",
       ":   2sitkUInt32\n",
       ":   5sitkInt32\n",
       ":   4sitkUInt64\n",
       ":   7sitkInt64\n",
       ":   6sitkFloat32\n",
       ":   8sitkFloat64\n",
       ":   9sitkComplexFloat32\n",
       ":   10sitkComplexFloat64\n",
       ":   11sitkVectorUInt8\n",
       ":   13sitkVectorInt8\n",
       ":   12sitkVectorUInt16\n",
       ":   15sitkVectorInt16\n",
       ":   14sitkVectorUInt32\n",
       ":   17sitkVectorInt32\n",
       ":   16sitkVectorUInt64\n",
       ":   19sitkVectorInt64\n",
       ":   18sitkVectorFloat32\n",
       ":   20sitkVectorFloat64\n",
       ":   21sitkLabelUInt8\n",
       ":   22sitkLabelUInt16\n",
       ":   23sitkLabelUInt32\n",
       ":   24sitkLabelUInt64\n",
       ":   25\n",
       "\n"
      ],
      "text/plain": [
       "       sitkUnknown          sitkUInt8           sitkInt8         sitkUInt16 \n",
       "                -1                  1                  0                  3 \n",
       "         sitkInt16         sitkUInt32          sitkInt32         sitkUInt64 \n",
       "                 2                  5                  4                  7 \n",
       "         sitkInt64        sitkFloat32        sitkFloat64 sitkComplexFloat32 \n",
       "                 6                  8                  9                 10 \n",
       "sitkComplexFloat64    sitkVectorUInt8     sitkVectorInt8   sitkVectorUInt16 \n",
       "                11                 13                 12                 15 \n",
       "   sitkVectorInt16   sitkVectorUInt32    sitkVectorInt32   sitkVectorUInt64 \n",
       "                14                 17                 16                 19 \n",
       "   sitkVectorInt64  sitkVectorFloat32  sitkVectorFloat64     sitkLabelUInt8 \n",
       "                18                 20                 21                 22 \n",
       "   sitkLabelUInt16    sitkLabelUInt32    sitkLabelUInt64 \n",
       "                23                 24                 25 "
      ]
     },
     "execution_count": 5,
     "metadata": {},
     "output_type": "execute_result"
    }
   ],
   "source": [
    "get(\".__E___itk__simple__PixelIDValueEnum\", pos=\"package:SimpleITK\")"
   ]
  },
  {
   "cell_type": "markdown",
   "metadata": {},
   "source": [
    "It isn't usually necessary to access the enumeration classes directly, but it can be handy to know how when debugging."
   ]
  },
  {
   "cell_type": "markdown",
   "metadata": {},
   "source": [
    "Lets start querying the images we've created. The `$` operator is used to access object methods:"
   ]
  },
  {
   "cell_type": "code",
   "execution_count": 7,
   "metadata": {
    "collapsed": false
   },
   "outputs": [
    {
     "data": {
      "text/html": [
       "<ol class=list-inline>\n",
       "\t<li>256</li>\n",
       "\t<li>128</li>\n",
       "\t<li>64</li>\n",
       "</ol>\n"
      ],
      "text/latex": [
       "\\begin{enumerate*}\n",
       "\\item 256\n",
       "\\item 128\n",
       "\\item 64\n",
       "\\end{enumerate*}\n"
      ],
      "text/markdown": [
       "1. 256\n",
       "2. 128\n",
       "3. 64\n",
       "\n",
       "\n"
      ],
      "text/plain": [
       "[1] 256 128  64"
      ]
     },
     "execution_count": 7,
     "metadata": {},
     "output_type": "execute_result"
    },
    {
     "data": {
      "text/html": [
       "<ol class=list-inline>\n",
       "\t<li>1</li>\n",
       "\t<li>1</li>\n",
       "</ol>\n"
      ],
      "text/latex": [
       "\\begin{enumerate*}\n",
       "\\item 1\n",
       "\\item 1\n",
       "\\end{enumerate*}\n"
      ],
      "text/markdown": [
       "1. 1\n",
       "2. 1\n",
       "\n",
       "\n"
      ],
      "text/plain": [
       "[1] 1 1"
      ]
     },
     "execution_count": 7,
     "metadata": {},
     "output_type": "execute_result"
    }
   ],
   "source": [
    "imA$GetSize()\n",
    "imC$GetSpacing()\n"
   ]
  },
  {
   "cell_type": "markdown",
   "metadata": {},
   "source": [
    "We can change the spacing (voxel size):"
   ]
  },
  {
   "cell_type": "code",
   "execution_count": 8,
   "metadata": {
    "collapsed": false
   },
   "outputs": [
    {
     "data": {
      "text/plain": [
       "NULL"
      ]
     },
     "execution_count": 8,
     "metadata": {},
     "output_type": "execute_result"
    },
    {
     "data": {
      "text/html": [
       "<ol class=list-inline>\n",
       "\t<li>2</li>\n",
       "\t<li>0.25</li>\n",
       "</ol>\n"
      ],
      "text/latex": [
       "\\begin{enumerate*}\n",
       "\\item 2\n",
       "\\item 0.25\n",
       "\\end{enumerate*}\n"
      ],
      "text/markdown": [
       "1. 2\n",
       "2. 0.25\n",
       "\n",
       "\n"
      ],
      "text/plain": [
       "[1] 2.00 0.25"
      ]
     },
     "execution_count": 8,
     "metadata": {},
     "output_type": "execute_result"
    }
   ],
   "source": [
    "imC$SetSpacing(c(2, 0.25))\n",
    "imC$GetSpacing()"
   ]
  },
  {
   "cell_type": "markdown",
   "metadata": {},
   "source": [
    "There are shortcuts for accessing a single dimension:"
   ]
  },
  {
   "cell_type": "code",
   "execution_count": 11,
   "metadata": {
    "collapsed": false
   },
   "outputs": [
    {
     "data": {
      "text/html": [
       "32"
      ],
      "text/latex": [
       "32"
      ],
      "text/markdown": [
       "32"
      ],
      "text/plain": [
       "[1] 32"
      ]
     },
     "execution_count": 11,
     "metadata": {},
     "output_type": "execute_result"
    },
    {
     "data": {
      "text/html": [
       "128"
      ],
      "text/latex": [
       "128"
      ],
      "text/markdown": [
       "128"
      ],
      "text/plain": [
       "[1] 128"
      ]
     },
     "execution_count": 11,
     "metadata": {},
     "output_type": "execute_result"
    },
    {
     "data": {
      "text/html": [
       "64"
      ],
      "text/latex": [
       "64"
      ],
      "text/markdown": [
       "64"
      ],
      "text/plain": [
       "[1] 64"
      ]
     },
     "execution_count": 11,
     "metadata": {},
     "output_type": "execute_result"
    },
    {
     "data": {
      "text/html": [
       "0"
      ],
      "text/latex": [
       "0"
      ],
      "text/markdown": [
       "0"
      ],
      "text/plain": [
       "[1] 0"
      ]
     },
     "execution_count": 11,
     "metadata": {},
     "output_type": "execute_result"
    }
   ],
   "source": [
    "imC$GetWidth()\n",
    "imA$GetHeight()\n",
    "imA$GetDepth()\n",
    "imC$GetDepth()"
   ]
  },
  {
   "cell_type": "markdown",
   "metadata": {},
   "source": [
    "The depth refers to the z dimension. A colour or vector image has an additional \"dimension\":"
   ]
  },
  {
   "cell_type": "code",
   "execution_count": 12,
   "metadata": {
    "collapsed": false
   },
   "outputs": [
    {
     "data": {
      "text/html": [
       "3"
      ],
      "text/latex": [
       "3"
      ],
      "text/markdown": [
       "3"
      ],
      "text/plain": [
       "[1] 3"
      ]
     },
     "execution_count": 12,
     "metadata": {},
     "output_type": "execute_result"
    }
   ],
   "source": [
    "imRGB$GetNumberOfComponentsPerPixel()"
   ]
  },
  {
   "cell_type": "markdown",
   "metadata": {},
   "source": [
    "The list of available methods can be retrieved using the following. There are many functions for accessing pixels in a type dependent way, which don't need to be accessed directly.\n"
   ]
  },
  {
   "cell_type": "code",
   "execution_count": 17,
   "metadata": {
    "collapsed": false
   },
   "outputs": [
    {
     "name": "stderr",
     "output_type": "stream",
     "text": [
      "An object of class “signature”\n",
      "An object of class “signature”\n",
      "An object of class “signature”\n",
      "An object of class “signature”\n"
     ]
    },
    {
     "data": {
      "text/html": [
       "<pre class=language-r><code>structure(function (x, name) \n",
       "{\n",
       "    accessorFuns = list(`__seteq__` = Image___seteq__, GetITKBase = Image_GetITKBase, \n",
       "        GetPixelID = Image_GetPixelID, GetPixelIDValue = Image_GetPixelIDValue, \n",
       "        GetDimension = Image_GetDimension, GetNumberOfComponentsPerPixel = Image_GetNumberOfComponentsPerPixel, \n",
       "        GetOrigin = Image_GetOrigin, SetOrigin = Image_SetOrigin, \n",
       "        GetSpacing = Image_GetSpacing, SetSpacing = Image_SetSpacing, \n",
       "        GetDirection = Image_GetDirection, SetDirection = Image_SetDirection, \n",
       "        TransformIndexToPhysicalPoint = Image_TransformIndexToPhysicalPoint, \n",
       "        TransformPhysicalPointToIndex = Image_TransformPhysicalPointToIndex, \n",
       "        TransformPhysicalPointToContinuousIndex = Image_TransformPhysicalPointToContinuousIndex, \n",
       "        TransformContinuousIndexToPhysicalPoint = Image_TransformContinuousIndexToPhysicalPoint, \n",
       "        GetSize = Image_GetSize, GetHeight = Image_GetHeight, \n",
       "        GetWidth = Image_GetWidth, GetDepth = Image_GetDepth, \n",
       "        CopyInformation = Image_CopyInformation, GetMetaDataKeys = Image_GetMetaDataKeys, \n",
       "        HasMetaDataKey = Image_HasMetaDataKey, GetMetaData = Image_GetMetaData, \n",
       "        GetPixelIDTypeAsString = Image_GetPixelIDTypeAsString, \n",
       "        ToString = Image_ToString, GetPixelAsInt8 = Image_GetPixelAsInt8, \n",
       "        GetPixelAsUInt8 = Image_GetPixelAsUInt8, GetPixelAsInt16 = Image_GetPixelAsInt16, \n",
       "        GetPixelAsUInt16 = Image_GetPixelAsUInt16, GetPixelAsInt32 = Image_GetPixelAsInt32, \n",
       "        GetPixelAsUInt32 = Image_GetPixelAsUInt32, GetPixelAsInt64 = Image_GetPixelAsInt64, \n",
       "        GetPixelAsUInt64 = Image_GetPixelAsUInt64, GetPixelAsFloat = Image_GetPixelAsFloat, \n",
       "        GetPixelAsDouble = Image_GetPixelAsDouble, GetPixelAsVectorInt8 = Image_GetPixelAsVectorInt8, \n",
       "        GetPixelAsVectorUInt8 = Image_GetPixelAsVectorUInt8, \n",
       "        GetPixelAsVectorInt16 = Image_GetPixelAsVectorInt16, \n",
       "        GetPixelAsVectorUInt16 = Image_GetPixelAsVectorUInt16, \n",
       "        GetPixelAsVectorInt32 = Image_GetPixelAsVectorInt32, \n",
       "        GetPixelAsVectorUInt32 = Image_GetPixelAsVectorUInt32, \n",
       "        GetPixelAsVectorInt64 = Image_GetPixelAsVectorInt64, \n",
       "        GetPixelAsVectorUInt64 = Image_GetPixelAsVectorUInt64, \n",
       "        GetPixelAsVectorFloat32 = Image_GetPixelAsVectorFloat32, \n",
       "        GetPixelAsVectorFloat64 = Image_GetPixelAsVectorFloat64, \n",
       "        GetPixelAsComplexFloat32 = Image_GetPixelAsComplexFloat32, \n",
       "        GetPixelAsComplexFloat64 = Image_GetPixelAsComplexFloat64, \n",
       "        SetPixelAsInt8 = Image_SetPixelAsInt8, SetPixelAsUInt8 = Image_SetPixelAsUInt8, \n",
       "        SetPixelAsInt16 = Image_SetPixelAsInt16, SetPixelAsUInt16 = Image_SetPixelAsUInt16, \n",
       "        SetPixelAsInt32 = Image_SetPixelAsInt32, SetPixelAsUInt32 = Image_SetPixelAsUInt32, \n",
       "        SetPixelAsInt64 = Image_SetPixelAsInt64, SetPixelAsUInt64 = Image_SetPixelAsUInt64, \n",
       "        SetPixelAsFloat = Image_SetPixelAsFloat, SetPixelAsDouble = Image_SetPixelAsDouble, \n",
       "        SetPixelAsVectorInt8 = Image_SetPixelAsVectorInt8, SetPixelAsVectorUInt8 = Image_SetPixelAsVectorUInt8, \n",
       "        SetPixelAsVectorInt16 = Image_SetPixelAsVectorInt16, \n",
       "        SetPixelAsVectorUInt16 = Image_SetPixelAsVectorUInt16, \n",
       "        SetPixelAsVectorInt32 = Image_SetPixelAsVectorInt32, \n",
       "        SetPixelAsVectorUInt32 = Image_SetPixelAsVectorUInt32, \n",
       "        SetPixelAsVectorInt64 = Image_SetPixelAsVectorInt64, \n",
       "        SetPixelAsVectorUInt64 = Image_SetPixelAsVectorUInt64, \n",
       "        SetPixelAsVectorFloat32 = Image_SetPixelAsVectorFloat32, \n",
       "        SetPixelAsVectorFloat64 = Image_SetPixelAsVectorFloat64, \n",
       "        SetPixelAsComplexFloat32 = Image_SetPixelAsComplexFloat32, \n",
       "        SetPixelAsComplexFloat64 = Image_SetPixelAsComplexFloat64, \n",
       "        MakeUnique = Image_MakeUnique)\n",
       "    idx = pmatch(name, names(accessorFuns))\n",
       "    if (is.na(idx)) \n",
       "        return(callNextMethod(x, name))\n",
       "    f = accessorFuns[[idx]]\n",
       "    function(...) {\n",
       "        f(x, ...)\n",
       "    }\n",
       "}, target = structure(\"_p_itk__simple__Image\", .Names = \"x\", package = \"SimpleITK\", class = structure(\"signature\", package = \"methods\")), defined = structure(\"_p_itk__simple__Image\", .Names = \"x\", package = \"SimpleITK\", class = structure(\"signature\", package = \"methods\")), generic = structure(\"$\", package = \"base\"), class = structure(\"MethodDefinition\", package = \"methods\"))</code></pre>"
      ],
      "text/latex": [
       "\\begin{minted}{r}\n",
       "structure(function (x, name) \n",
       "\\{\n",
       "    accessorFuns = list(`\\_\\_seteq\\_\\_` = Image\\_\\_\\_seteq\\_\\_, GetITKBase = Image\\_GetITKBase, \n",
       "        GetPixelID = Image\\_GetPixelID, GetPixelIDValue = Image\\_GetPixelIDValue, \n",
       "        GetDimension = Image\\_GetDimension, GetNumberOfComponentsPerPixel = Image\\_GetNumberOfComponentsPerPixel, \n",
       "        GetOrigin = Image\\_GetOrigin, SetOrigin = Image\\_SetOrigin, \n",
       "        GetSpacing = Image\\_GetSpacing, SetSpacing = Image\\_SetSpacing, \n",
       "        GetDirection = Image\\_GetDirection, SetDirection = Image\\_SetDirection, \n",
       "        TransformIndexToPhysicalPoint = Image\\_TransformIndexToPhysicalPoint, \n",
       "        TransformPhysicalPointToIndex = Image\\_TransformPhysicalPointToIndex, \n",
       "        TransformPhysicalPointToContinuousIndex = Image\\_TransformPhysicalPointToContinuousIndex, \n",
       "        TransformContinuousIndexToPhysicalPoint = Image\\_TransformContinuousIndexToPhysicalPoint, \n",
       "        GetSize = Image\\_GetSize, GetHeight = Image\\_GetHeight, \n",
       "        GetWidth = Image\\_GetWidth, GetDepth = Image\\_GetDepth, \n",
       "        CopyInformation = Image\\_CopyInformation, GetMetaDataKeys = Image\\_GetMetaDataKeys, \n",
       "        HasMetaDataKey = Image\\_HasMetaDataKey, GetMetaData = Image\\_GetMetaData, \n",
       "        GetPixelIDTypeAsString = Image\\_GetPixelIDTypeAsString, \n",
       "        ToString = Image\\_ToString, GetPixelAsInt8 = Image\\_GetPixelAsInt8, \n",
       "        GetPixelAsUInt8 = Image\\_GetPixelAsUInt8, GetPixelAsInt16 = Image\\_GetPixelAsInt16, \n",
       "        GetPixelAsUInt16 = Image\\_GetPixelAsUInt16, GetPixelAsInt32 = Image\\_GetPixelAsInt32, \n",
       "        GetPixelAsUInt32 = Image\\_GetPixelAsUInt32, GetPixelAsInt64 = Image\\_GetPixelAsInt64, \n",
       "        GetPixelAsUInt64 = Image\\_GetPixelAsUInt64, GetPixelAsFloat = Image\\_GetPixelAsFloat, \n",
       "        GetPixelAsDouble = Image\\_GetPixelAsDouble, GetPixelAsVectorInt8 = Image\\_GetPixelAsVectorInt8, \n",
       "        GetPixelAsVectorUInt8 = Image\\_GetPixelAsVectorUInt8, \n",
       "        GetPixelAsVectorInt16 = Image\\_GetPixelAsVectorInt16, \n",
       "        GetPixelAsVectorUInt16 = Image\\_GetPixelAsVectorUInt16, \n",
       "        GetPixelAsVectorInt32 = Image\\_GetPixelAsVectorInt32, \n",
       "        GetPixelAsVectorUInt32 = Image\\_GetPixelAsVectorUInt32, \n",
       "        GetPixelAsVectorInt64 = Image\\_GetPixelAsVectorInt64, \n",
       "        GetPixelAsVectorUInt64 = Image\\_GetPixelAsVectorUInt64, \n",
       "        GetPixelAsVectorFloat32 = Image\\_GetPixelAsVectorFloat32, \n",
       "        GetPixelAsVectorFloat64 = Image\\_GetPixelAsVectorFloat64, \n",
       "        GetPixelAsComplexFloat32 = Image\\_GetPixelAsComplexFloat32, \n",
       "        GetPixelAsComplexFloat64 = Image\\_GetPixelAsComplexFloat64, \n",
       "        SetPixelAsInt8 = Image\\_SetPixelAsInt8, SetPixelAsUInt8 = Image\\_SetPixelAsUInt8, \n",
       "        SetPixelAsInt16 = Image\\_SetPixelAsInt16, SetPixelAsUInt16 = Image\\_SetPixelAsUInt16, \n",
       "        SetPixelAsInt32 = Image\\_SetPixelAsInt32, SetPixelAsUInt32 = Image\\_SetPixelAsUInt32, \n",
       "        SetPixelAsInt64 = Image\\_SetPixelAsInt64, SetPixelAsUInt64 = Image\\_SetPixelAsUInt64, \n",
       "        SetPixelAsFloat = Image\\_SetPixelAsFloat, SetPixelAsDouble = Image\\_SetPixelAsDouble, \n",
       "        SetPixelAsVectorInt8 = Image\\_SetPixelAsVectorInt8, SetPixelAsVectorUInt8 = Image\\_SetPixelAsVectorUInt8, \n",
       "        SetPixelAsVectorInt16 = Image\\_SetPixelAsVectorInt16, \n",
       "        SetPixelAsVectorUInt16 = Image\\_SetPixelAsVectorUInt16, \n",
       "        SetPixelAsVectorInt32 = Image\\_SetPixelAsVectorInt32, \n",
       "        SetPixelAsVectorUInt32 = Image\\_SetPixelAsVectorUInt32, \n",
       "        SetPixelAsVectorInt64 = Image\\_SetPixelAsVectorInt64, \n",
       "        SetPixelAsVectorUInt64 = Image\\_SetPixelAsVectorUInt64, \n",
       "        SetPixelAsVectorFloat32 = Image\\_SetPixelAsVectorFloat32, \n",
       "        SetPixelAsVectorFloat64 = Image\\_SetPixelAsVectorFloat64, \n",
       "        SetPixelAsComplexFloat32 = Image\\_SetPixelAsComplexFloat32, \n",
       "        SetPixelAsComplexFloat64 = Image\\_SetPixelAsComplexFloat64, \n",
       "        MakeUnique = Image\\_MakeUnique)\n",
       "    idx = pmatch(name, names(accessorFuns))\n",
       "    if (is.na(idx)) \n",
       "        return(callNextMethod(x, name))\n",
       "    f = accessorFuns{[}{[}idx{]}{]}\n",
       "    function(...) \\{\n",
       "        f(x, ...)\n",
       "    \\}\n",
       "\\}, target = structure(\"\\_p\\_itk\\_\\_simple\\_\\_Image\", .Names = \"x\", package = \"SimpleITK\", class = structure(\"signature\", package = \"methods\")), defined = structure(\"\\_p\\_itk\\_\\_simple\\_\\_Image\", .Names = \"x\", package = \"SimpleITK\", class = structure(\"signature\", package = \"methods\")), generic = structure(\"\\$\", package = \"base\"), class = structure(\"MethodDefinition\", package = \"methods\"))\n",
       "\\end{minted}"
      ],
      "text/markdown": [
       "```r\n",
       "structure(function (x, name) \n",
       "{\n",
       "    accessorFuns = list(`__seteq__` = Image___seteq__, GetITKBase = Image_GetITKBase, \n",
       "        GetPixelID = Image_GetPixelID, GetPixelIDValue = Image_GetPixelIDValue, \n",
       "        GetDimension = Image_GetDimension, GetNumberOfComponentsPerPixel = Image_GetNumberOfComponentsPerPixel, \n",
       "        GetOrigin = Image_GetOrigin, SetOrigin = Image_SetOrigin, \n",
       "        GetSpacing = Image_GetSpacing, SetSpacing = Image_SetSpacing, \n",
       "        GetDirection = Image_GetDirection, SetDirection = Image_SetDirection, \n",
       "        TransformIndexToPhysicalPoint = Image_TransformIndexToPhysicalPoint, \n",
       "        TransformPhysicalPointToIndex = Image_TransformPhysicalPointToIndex, \n",
       "        TransformPhysicalPointToContinuousIndex = Image_TransformPhysicalPointToContinuousIndex, \n",
       "        TransformContinuousIndexToPhysicalPoint = Image_TransformContinuousIndexToPhysicalPoint, \n",
       "        GetSize = Image_GetSize, GetHeight = Image_GetHeight, \n",
       "        GetWidth = Image_GetWidth, GetDepth = Image_GetDepth, \n",
       "        CopyInformation = Image_CopyInformation, GetMetaDataKeys = Image_GetMetaDataKeys, \n",
       "        HasMetaDataKey = Image_HasMetaDataKey, GetMetaData = Image_GetMetaData, \n",
       "        GetPixelIDTypeAsString = Image_GetPixelIDTypeAsString, \n",
       "        ToString = Image_ToString, GetPixelAsInt8 = Image_GetPixelAsInt8, \n",
       "        GetPixelAsUInt8 = Image_GetPixelAsUInt8, GetPixelAsInt16 = Image_GetPixelAsInt16, \n",
       "        GetPixelAsUInt16 = Image_GetPixelAsUInt16, GetPixelAsInt32 = Image_GetPixelAsInt32, \n",
       "        GetPixelAsUInt32 = Image_GetPixelAsUInt32, GetPixelAsInt64 = Image_GetPixelAsInt64, \n",
       "        GetPixelAsUInt64 = Image_GetPixelAsUInt64, GetPixelAsFloat = Image_GetPixelAsFloat, \n",
       "        GetPixelAsDouble = Image_GetPixelAsDouble, GetPixelAsVectorInt8 = Image_GetPixelAsVectorInt8, \n",
       "        GetPixelAsVectorUInt8 = Image_GetPixelAsVectorUInt8, \n",
       "        GetPixelAsVectorInt16 = Image_GetPixelAsVectorInt16, \n",
       "        GetPixelAsVectorUInt16 = Image_GetPixelAsVectorUInt16, \n",
       "        GetPixelAsVectorInt32 = Image_GetPixelAsVectorInt32, \n",
       "        GetPixelAsVectorUInt32 = Image_GetPixelAsVectorUInt32, \n",
       "        GetPixelAsVectorInt64 = Image_GetPixelAsVectorInt64, \n",
       "        GetPixelAsVectorUInt64 = Image_GetPixelAsVectorUInt64, \n",
       "        GetPixelAsVectorFloat32 = Image_GetPixelAsVectorFloat32, \n",
       "        GetPixelAsVectorFloat64 = Image_GetPixelAsVectorFloat64, \n",
       "        GetPixelAsComplexFloat32 = Image_GetPixelAsComplexFloat32, \n",
       "        GetPixelAsComplexFloat64 = Image_GetPixelAsComplexFloat64, \n",
       "        SetPixelAsInt8 = Image_SetPixelAsInt8, SetPixelAsUInt8 = Image_SetPixelAsUInt8, \n",
       "        SetPixelAsInt16 = Image_SetPixelAsInt16, SetPixelAsUInt16 = Image_SetPixelAsUInt16, \n",
       "        SetPixelAsInt32 = Image_SetPixelAsInt32, SetPixelAsUInt32 = Image_SetPixelAsUInt32, \n",
       "        SetPixelAsInt64 = Image_SetPixelAsInt64, SetPixelAsUInt64 = Image_SetPixelAsUInt64, \n",
       "        SetPixelAsFloat = Image_SetPixelAsFloat, SetPixelAsDouble = Image_SetPixelAsDouble, \n",
       "        SetPixelAsVectorInt8 = Image_SetPixelAsVectorInt8, SetPixelAsVectorUInt8 = Image_SetPixelAsVectorUInt8, \n",
       "        SetPixelAsVectorInt16 = Image_SetPixelAsVectorInt16, \n",
       "        SetPixelAsVectorUInt16 = Image_SetPixelAsVectorUInt16, \n",
       "        SetPixelAsVectorInt32 = Image_SetPixelAsVectorInt32, \n",
       "        SetPixelAsVectorUInt32 = Image_SetPixelAsVectorUInt32, \n",
       "        SetPixelAsVectorInt64 = Image_SetPixelAsVectorInt64, \n",
       "        SetPixelAsVectorUInt64 = Image_SetPixelAsVectorUInt64, \n",
       "        SetPixelAsVectorFloat32 = Image_SetPixelAsVectorFloat32, \n",
       "        SetPixelAsVectorFloat64 = Image_SetPixelAsVectorFloat64, \n",
       "        SetPixelAsComplexFloat32 = Image_SetPixelAsComplexFloat32, \n",
       "        SetPixelAsComplexFloat64 = Image_SetPixelAsComplexFloat64, \n",
       "        MakeUnique = Image_MakeUnique)\n",
       "    idx = pmatch(name, names(accessorFuns))\n",
       "    if (is.na(idx)) \n",
       "        return(callNextMethod(x, name))\n",
       "    f = accessorFuns[[idx]]\n",
       "    function(...) {\n",
       "        f(x, ...)\n",
       "    }\n",
       "}, target = structure(\"_p_itk__simple__Image\", .Names = \"x\", package = \"SimpleITK\", class = structure(\"signature\", package = \"methods\")), defined = structure(\"_p_itk__simple__Image\", .Names = \"x\", package = \"SimpleITK\", class = structure(\"signature\", package = \"methods\")), generic = structure(\"$\", package = \"base\"), class = structure(\"MethodDefinition\", package = \"methods\"))\n",
       "```"
      ],
      "text/plain": [
       "function (x, name) \n",
       "{\n",
       "    accessorFuns = list(`__seteq__` = Image___seteq__, GetITKBase = Image_GetITKBase, \n",
       "        GetPixelID = Image_GetPixelID, GetPixelIDValue = Image_GetPixelIDValue, \n",
       "        GetDimension = Image_GetDimension, GetNumberOfComponentsPerPixel = Image_GetNumberOfComponentsPerPixel, \n",
       "        GetOrigin = Image_GetOrigin, SetOrigin = Image_SetOrigin, \n",
       "        GetSpacing = Image_GetSpacing, SetSpacing = Image_SetSpacing, \n",
       "        GetDirection = Image_GetDirection, SetDirection = Image_SetDirection, \n",
       "        TransformIndexToPhysicalPoint = Image_TransformIndexToPhysicalPoint, \n",
       "        TransformPhysicalPointToIndex = Image_TransformPhysicalPointToIndex, \n",
       "        TransformPhysicalPointToContinuousIndex = Image_TransformPhysicalPointToContinuousIndex, \n",
       "        TransformContinuousIndexToPhysicalPoint = Image_TransformContinuousIndexToPhysicalPoint, \n",
       "        GetSize = Image_GetSize, GetHeight = Image_GetHeight, \n",
       "        GetWidth = Image_GetWidth, GetDepth = Image_GetDepth, \n",
       "        CopyInformation = Image_CopyInformation, GetMetaDataKeys = Image_GetMetaDataKeys, \n",
       "        HasMetaDataKey = Image_HasMetaDataKey, GetMetaData = Image_GetMetaData, \n",
       "        GetPixelIDTypeAsString = Image_GetPixelIDTypeAsString, \n",
       "        ToString = Image_ToString, GetPixelAsInt8 = Image_GetPixelAsInt8, \n",
       "        GetPixelAsUInt8 = Image_GetPixelAsUInt8, GetPixelAsInt16 = Image_GetPixelAsInt16, \n",
       "        GetPixelAsUInt16 = Image_GetPixelAsUInt16, GetPixelAsInt32 = Image_GetPixelAsInt32, \n",
       "        GetPixelAsUInt32 = Image_GetPixelAsUInt32, GetPixelAsInt64 = Image_GetPixelAsInt64, \n",
       "        GetPixelAsUInt64 = Image_GetPixelAsUInt64, GetPixelAsFloat = Image_GetPixelAsFloat, \n",
       "        GetPixelAsDouble = Image_GetPixelAsDouble, GetPixelAsVectorInt8 = Image_GetPixelAsVectorInt8, \n",
       "        GetPixelAsVectorUInt8 = Image_GetPixelAsVectorUInt8, \n",
       "        GetPixelAsVectorInt16 = Image_GetPixelAsVectorInt16, \n",
       "        GetPixelAsVectorUInt16 = Image_GetPixelAsVectorUInt16, \n",
       "        GetPixelAsVectorInt32 = Image_GetPixelAsVectorInt32, \n",
       "        GetPixelAsVectorUInt32 = Image_GetPixelAsVectorUInt32, \n",
       "        GetPixelAsVectorInt64 = Image_GetPixelAsVectorInt64, \n",
       "        GetPixelAsVectorUInt64 = Image_GetPixelAsVectorUInt64, \n",
       "        GetPixelAsVectorFloat32 = Image_GetPixelAsVectorFloat32, \n",
       "        GetPixelAsVectorFloat64 = Image_GetPixelAsVectorFloat64, \n",
       "        GetPixelAsComplexFloat32 = Image_GetPixelAsComplexFloat32, \n",
       "        GetPixelAsComplexFloat64 = Image_GetPixelAsComplexFloat64, \n",
       "        SetPixelAsInt8 = Image_SetPixelAsInt8, SetPixelAsUInt8 = Image_SetPixelAsUInt8, \n",
       "        SetPixelAsInt16 = Image_SetPixelAsInt16, SetPixelAsUInt16 = Image_SetPixelAsUInt16, \n",
       "        SetPixelAsInt32 = Image_SetPixelAsInt32, SetPixelAsUInt32 = Image_SetPixelAsUInt32, \n",
       "        SetPixelAsInt64 = Image_SetPixelAsInt64, SetPixelAsUInt64 = Image_SetPixelAsUInt64, \n",
       "        SetPixelAsFloat = Image_SetPixelAsFloat, SetPixelAsDouble = Image_SetPixelAsDouble, \n",
       "        SetPixelAsVectorInt8 = Image_SetPixelAsVectorInt8, SetPixelAsVectorUInt8 = Image_SetPixelAsVectorUInt8, \n",
       "        SetPixelAsVectorInt16 = Image_SetPixelAsVectorInt16, \n",
       "        SetPixelAsVectorUInt16 = Image_SetPixelAsVectorUInt16, \n",
       "        SetPixelAsVectorInt32 = Image_SetPixelAsVectorInt32, \n",
       "        SetPixelAsVectorUInt32 = Image_SetPixelAsVectorUInt32, \n",
       "        SetPixelAsVectorInt64 = Image_SetPixelAsVectorInt64, \n",
       "        SetPixelAsVectorUInt64 = Image_SetPixelAsVectorUInt64, \n",
       "        SetPixelAsVectorFloat32 = Image_SetPixelAsVectorFloat32, \n",
       "        SetPixelAsVectorFloat64 = Image_SetPixelAsVectorFloat64, \n",
       "        SetPixelAsComplexFloat32 = Image_SetPixelAsComplexFloat32, \n",
       "        SetPixelAsComplexFloat64 = Image_SetPixelAsComplexFloat64, \n",
       "        MakeUnique = Image_MakeUnique)\n",
       "    idx = pmatch(name, names(accessorFuns))\n",
       "    if (is.na(idx)) \n",
       "        return(callNextMethod(x, name))\n",
       "    f = accessorFuns[[idx]]\n",
       "    function(...) {\n",
       "        f(x, ...)\n",
       "    }\n",
       "}\n",
       "<environment: namespace:SimpleITK>\n",
       "attr(,\"target\")\n",
       "                      x \n",
       "\"_p_itk__simple__Image\" \n",
       "attr(,\"defined\")\n",
       "                      x \n",
       "\"_p_itk__simple__Image\" \n",
       "attr(,\"generic\")\n",
       "[1] \"$\"\n",
       "attr(,\"generic\")attr(,\"package\")\n",
       "[1] \"base\"\n",
       "attr(,\"class\")\n",
       "[1] \"MethodDefinition\"\n",
       "attr(,\"class\")attr(,\"package\")\n",
       "[1] \"methods\""
      ]
     },
     "execution_count": 17,
     "metadata": {},
     "output_type": "execute_result"
    }
   ],
   "source": [
    "getMethod('$', class(imA))"
   ]
  },
  {
   "cell_type": "code",
   "execution_count": null,
   "metadata": {
    "collapsed": true
   },
   "outputs": [],
   "source": []
  }
 ],
 "metadata": {
  "kernelspec": {
   "display_name": "R",
   "language": "R",
   "name": "ir"
  },
  "language_info": {
   "codemirror_mode": "r",
   "file_extension": ".r",
   "mimetype": "text/x-r-source",
   "name": "R",
   "pygments_lexer": "r",
   "version": "3.2.2"
  }
 },
 "nbformat": 4,
 "nbformat_minor": 0
}
