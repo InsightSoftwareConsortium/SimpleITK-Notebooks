{
 "cells": [
  {
   "cell_type": "markdown",
   "metadata": {},
   "source": [
    "<h1 align=\"center\">Segmentation: Thresholding and Edge Detection</h1>\n",
    "\n",
    "In this notebook our goal is to estimate the radius of spherical markers from an image (Cone-Beam CT volume).\n",
    "\n",
    "We will use two approaches:\n",
    "1. Segment the fiducial using a thresholding approach, derive the sphere's radius from the segmentation. This approach is solely based on SimpleITK.\n",
    "2. Localize the fiducial's edges using the Canny edge detector and then fit a sphere to these edges using a least squares approach. This approach is a combination of SimpleITK and R.\n",
    "\n",
    "It should be noted that all of the operations, filtering and computations, are natively in 3D. This is the \"magic\" of ITK and SimpleITK at work."
   ]
  },
  {
   "cell_type": "code",
   "execution_count": null,
   "metadata": {
    "collapsed": false
   },
   "outputs": [],
   "source": [
    "library(SimpleITK)\n",
    "\n",
    "source(\"downloaddata.R\")"
   ]
  },
  {
   "cell_type": "markdown",
   "metadata": {},
   "source": [
    "Load the volume and look at the image (visualization requires window-leveling)."
   ]
  },
  {
   "cell_type": "code",
   "execution_count": null,
   "metadata": {
    "collapsed": false
   },
   "outputs": [],
   "source": [
    "spherical_fiducials_image <- ReadImage(fetch_data(\"spherical_fiducials.mha\"))\n",
    "Show(spherical_fiducials_image, \"spheres\")"
   ]
  },
  {
   "cell_type": "markdown",
   "metadata": {},
   "source": [
    "After looking at the image you should have identified two spheres. Now select a Region Of Interest (ROI) around the sphere which you want to analyze. "
   ]
  },
  {
   "cell_type": "code",
   "execution_count": null,
   "metadata": {
    "collapsed": false
   },
   "outputs": [],
   "source": [
    "roi1 = list(c(280,320), c(65,90), c(8, 30))\n",
    "roi2 = list(c(200,240), c(65,100), c(15, 40))\n",
    "mask_value = 255\n",
    "\n",
    "# Select the roi\n",
    "roi = roi1\n",
    "# Update the R roi, SimpleITK indexes are zero based, R indexes start at one  \n",
    "r_roi = lapply(roi, function(x) x+1)\n",
    "    \n",
    "    \n",
    "mask = Image(spherical_fiducials_image$GetSize(), \"sitkUInt8\")\n",
    "mask$CopyInformation(spherical_fiducials_image)\n",
    "for(x in roi[[1]][1]:roi[[1]][2]) {\n",
    "    for(y in roi[[2]][1]:roi[[2]][2]) {\n",
    "        for(z in roi[[3]][1]:roi[[3]][2]) {\n",
    "             mask$SetPixel(c(x,y,z), mask_value)\n",
    "        }\n",
    "    }\n",
    "}\n",
    "\n",
    "Show(LabelOverlay(Cast(IntensityWindowing(spherical_fiducials_image, windowMinimum=-32767, \n",
    "                                          windowMaximum=-29611), \n",
    "                       \"sitkUInt8\"), \n",
    "                   mask, opacity=0.5))    "
   ]
  },
  {
   "cell_type": "code",
   "execution_count": null,
   "metadata": {
    "collapsed": false
   },
   "outputs": [],
   "source": [
    "# Here we use the rep functions to create the array containing all the mask\n",
    "# indexes. This allows us to use apply.\n",
    "\n",
    "roi1 = list(c(280,320), c(65,90), c(8, 30))\n",
    "roi2 = list(c(200,240), c(65,100), c(15, 40))\n",
    "mask_value = 255\n",
    "\n",
    "# Select the roi\n",
    "roi = roi1\n",
    "# Update the R roi, SimpleITK indexes are zero based, R indexes start at one  \n",
    "r_roi = lapply(roi, function(x) x+1)\n",
    "\n",
    "# create a 3 column matrix - each row is a coordinate\n",
    "blockcoords <- function(xs, ys, zs)\n",
    "    {\n",
    "        xall <- rep(xs, length(ys))\n",
    "        yall <- rep(ys, rep(length(xs), length(ys)))\n",
    "        zall <- rep(zs, rep(length(xs)*length(ys), length(zs)))\n",
    "    return(cbind(xall, yall, zall))\n",
    "    }\n",
    "xs <- r_roi[[1]][1]:r_roi[[1]][2]\n",
    "ys <- r_roi[[2]][1]:r_roi[[2]][2]\n",
    "zs <- r_roi[[3]][1]:r_roi[[3]][2]\n",
    "\n",
    "coords <- blockcoords(xs, ys, zs)\n",
    "mask = Image(spherical_fiducials_image$GetSize(), \"sitkUInt8\")\n",
    "mask$CopyInformation(spherical_fiducials_image)\n",
    "dummy <- apply(coords, MARGIN=1, mask$SetPixel, mask_value)\n",
    "Show(LabelOverlay(Cast(IntensityWindowing(spherical_fiducials_image, windowMinimum=-32767, \n",
    "                                          windowMaximum=-29611), \n",
    "                       \"sitkUInt8\"), \n",
    "                   mask, opacity=0.5))    "
   ]
  },
  {
   "cell_type": "code",
   "execution_count": null,
   "metadata": {
    "collapsed": false
   },
   "outputs": [],
   "source": [
    "# The nicer option would be to have array assignment operators for images, but we don't yet.\n",
    "# So we can create an R array and convert it\n",
    "# create an array that matches the iamge size\n",
    "amask <- array(0, spherical_fiducials_image$GetSize())\n",
    "# Mark the ROI using array assignment\n",
    "xs <- r_roi[[1]][1]:r_roi[[1]][2]\n",
    "ys <- r_roi[[2]][1]:r_roi[[2]][2]\n",
    "zs <- r_roi[[3]][1]:r_roi[[3]][2]\n",
    "\n",
    "amask[xs, ys, zs] <- mask_value\n",
    "\n",
    "# Convert it to an image\n",
    "mask <- Cast(as.image(amask), \"sitkUInt8\")\n",
    "mask$CopyInformation(spherical_fiducials_image)\n",
    "Show(LabelOverlay(Cast(IntensityWindowing(spherical_fiducials_image, windowMinimum=-32767, \n",
    "                                          windowMaximum=-29611), \n",
    "                       \"sitkUInt8\"), \n",
    "                   mask, opacity=0.5))    "
   ]
  },
  {
   "cell_type": "markdown",
   "metadata": {},
   "source": [
    "## Thresholding based approach\n",
    "\n",
    "Our region of interest is expected to have a bimodal intensity distribution with high intensities belonging to the spherical marker and low ones to the background. We can thus use Otsu's method for threshold selection to segment the sphere and estimate its radius. "
   ]
  },
  {
   "cell_type": "code",
   "execution_count": null,
   "metadata": {
    "collapsed": false
   },
   "outputs": [],
   "source": [
    "# Set pixels that are in [min_intensity,otsu_threshold] to inside_value, values above otsu_threshold are\n",
    "# set to outside_value. The sphere's have higher intensity values than the background, so they are outside.\n",
    "\n",
    "inside_value <- 0\n",
    "outside_value <- 255\n",
    "number_of_histogram_bins <- 100\n",
    "mask_output <- TRUE\n",
    "\n",
    "labeled_result <- OtsuThreshold(spherical_fiducials_image, mask, inside_value, outside_value, \n",
    "                                number_of_histogram_bins, mask_output, mask_value)\n",
    "\n",
    "# Estimate the sphere radius from the segmented image using the LabelShapeStatisticsImageFilter.\n",
    "label_shape_analysis <- LabelShapeStatisticsImageFilter()\n",
    "label_shape_analysis$SetBackgroundValue(inside_value)\n",
    "dummy <- label_shape_analysis$Execute(labeled_result)\n",
    "cat(\"The sphere's radius is: \",label_shape_analysis$GetEquivalentSphericalRadius(outside_value),\"mm\") "
   ]
  },
  {
   "cell_type": "markdown",
   "metadata": {},
   "source": [
    "## Edge detection based approach\n",
    "\n",
    "In this approach we will localize the sphere's edges in 3D using SimpleITK. We then compute the least squares sphere that optimally fits the 3D points using R. The mathematical formulation for this solution is described in this [Insight Journal paper](http://www.insight-journal.org/download/viewpdf/769/1/download). We also look at a weighted version of least squares fitting using R's linear model fitting approach. \n"
   ]
  },
  {
   "cell_type": "code",
   "execution_count": null,
   "metadata": {
    "collapsed": false
   },
   "outputs": [],
   "source": [
    "# Create a cropped version of the original image.\n",
    "sub_image = spherical_fiducials_image[r_roi[[1]][1]:r_roi[[1]][2],\n",
    "                                      r_roi[[2]][1]:r_roi[[2]][2],\n",
    "                                      r_roi[[3]][1]:r_roi[[3]][2]]\n",
    "\n",
    "# Edge detection on the sub_image with appropriate thresholds and smoothing.\n",
    "edges <- CannyEdgeDetection(Cast(sub_image, \"sitkFloat32\"), \n",
    "                            lowerThreshold=0.0, \n",
    "                            upperThreshold=200.0, \n",
    "                            variance = c(5.0, 5.0, 5.0))\n",
    "\n",
    "# Get the 3D location of the edge points\n",
    "edge_indexes <- which(as.array(edges)==1.0, arr.ind=TRUE)\n",
    "# Always remember to modify indexes when shifting between native R operations and SimpleITK operations\n",
    "physical_points <- t(apply(edge_indexes - 1, MARGIN=1,\n",
    "                           sub_image$TransformIndexToPhysicalPoint))"
   ]
  },
  {
   "cell_type": "markdown",
   "metadata": {},
   "source": [
    "Visually inspect the results of edge detection, just to make sure. Note that because SimpleITK is working in the\n",
    "physical world (not pixels, but mm) we can easily transfer the edges localized in the cropped image to the original."
   ]
  },
  {
   "cell_type": "code",
   "execution_count": null,
   "metadata": {
    "collapsed": false
   },
   "outputs": [],
   "source": [
    "edge_label <- Image(spherical_fiducials_image$GetSize(), \"sitkUInt8\")\n",
    "edge_label$CopyInformation(spherical_fiducials_image)\n",
    "e_label <- 255\n",
    "apply(physical_points, \n",
    "      MARGIN=1, \n",
    "      function(x, img, label) img$SetPixel(img$TransformPhysicalPointToIndex(x),label), \n",
    "      img=edge_label, \n",
    "      label=e_label)\n",
    "    \n",
    "Show(LabelOverlay(Cast(IntensityWindowing(spherical_fiducials_image, windowMinimum=-32767, windowMaximum=-29611),\n",
    "                       \"sitkUInt8\"), \n",
    "                  edge_label, opacity=0.5))"
   ]
  },
  {
   "cell_type": "markdown",
   "metadata": {},
   "source": [
    "Setup and solve linear equation system."
   ]
  },
  {
   "cell_type": "code",
   "execution_count": null,
   "metadata": {
    "collapsed": false
   },
   "outputs": [],
   "source": [
    "A <- -2 * physical_points\n",
    "A <- cbind(A, 1)\n",
    "b <- -rowSums(physical_points^2)\n",
    "x <- solve(qr(A, LAPACK=TRUE), b)\n",
    "cat(\"The sphere's center is: \", x, \"\\n\")\n",
    "cat(\"The sphere's radius is: \", sqrt(x[1:3] %*% x[1:3] - x[4]), \"\\n\")"
   ]
  },
  {
   "cell_type": "markdown",
   "metadata": {
    "collapsed": true
   },
   "source": [
    "Now, solve using R's linear model fitting. We also weigh the edge points based on the gradient magnitude."
   ]
  },
  {
   "cell_type": "code",
   "execution_count": null,
   "metadata": {
    "collapsed": false
   },
   "outputs": [],
   "source": [
    "gradient_magnitude = GradientMagnitude(sub_image)\n",
    "grad_weights = apply(edge_indexes-1, MARGIN=1, gradient_magnitude$GetPixel)\n",
    "\n",
    "df <- data.frame(Y=rowSums(physical_points^2), x=physical_points[, 1],\n",
    "                 y=physical_points[, 2], z=physical_points[, 3])\n",
    "fit <- lm(Y ~ x + y + z, data=df, weights=grad_weights)\n",
    "\n",
    "center <- coefficients(fit)[c(\"x\", \"y\", \"z\")] / 2\n",
    "radius <- sqrt(coefficients(fit)[\"(Intercept)\"] + sum(center^2))\n",
    "cat(\"The sphere's center is: \", center, \"\\n\")\n",
    "cat(\"The sphere's radius is: \", radius, \"\\n\")"
   ]
  },
  {
   "cell_type": "markdown",
   "metadata": {
    "collapsed": false
   },
   "source": [
    "## You've made it to the end of the notebook, so what is the sphere's radius?\n",
    "\n",
    "The radius is 3mm. "
   ]
  },
  {
   "cell_type": "code",
   "execution_count": null,
   "metadata": {
    "collapsed": true
   },
   "outputs": [],
   "source": []
  }
 ],
 "metadata": {
  "kernelspec": {
   "display_name": "R",
   "language": "R",
   "name": "ir"
  },
  "language_info": {
   "codemirror_mode": "r",
   "file_extension": ".r",
   "mimetype": "text/x-r-source",
   "name": "R",
   "pygments_lexer": "r",
   "version": "3.3.1"
  }
 },
 "nbformat": 4,
 "nbformat_minor": 0
}
