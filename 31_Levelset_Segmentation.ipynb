{
 "metadata": {
  "name": "31 Levelset Segmentation"
 },
 "nbformat": 3,
 "nbformat_minor": 0,
 "worksheets": [
  {
   "cells": [
    {
     "cell_type": "code",
     "collapsed": false,
     "input": [
      "import SimpleITK as sitk\n",
      "# Download data to work on\n",
      "import downloaddata",
      "from myshow import myshow, myshow3d"
     ],
     "language": "python",
     "metadata": {},
     "outputs": []
    },
    {
     "cell_type": "code",
     "collapsed": false,
     "input": [
      "img_T1 = sitk.ReadImage(\"Data/nac-brain-atlas-1.0/volumes/A1_grayT1.nrrd\")\n",
      "img_T2 = sitk.ReadImage(\"Data/nac-brain-atlas-1.0/volumes/A1_grayT2.nrrd\")\n",
      "img_T1_255 = sitk.Cast(sitk.RescaleIntensity(img_T1), sitk.sitkUInt8)\n",
      "img_T1_255 = sitk.Cast(sitk.RescaleIntensity(img_T1), sitk.sitkUInt8)"
     ],
     "language": "python",
     "metadata": {},
     "outputs": []
    },
    {
     "cell_type": "code",
     "collapsed": false,
     "input": [
      "sitk.Show(img_T1, title=\"T1\")"
     ],
     "language": "python",
     "metadata": {},
     "outputs": []
    },
    {
     "cell_type": "code",
     "collapsed": false,
     "input": [
      "idx = (106,116,141)\n",
      "pt = img_T1.TransformIndexToPhysicalPoint(idx)"
     ],
     "language": "python",
     "metadata": {},
     "outputs": []
    },
    {
     "cell_type": "code",
     "collapsed": false,
     "input": [
      "seg = sitk.Image(img_T1.GetSize(), sitk.sitkUInt8)\n",
      "seg.CopyInformation(img_T1)\n",
      "seg[idx] = 1\n",
      "seg = sitk.BinaryDilate(seg, 3)\n",
      "myshow3d(sitk.LabelOverlay(img_T1_255, seg), zslices=range(idx[2]-3, idx[2]+4, 3), dpi=30, title=\"Initial Seed\")"
     ],
     "language": "python",
     "metadata": {},
     "outputs": []
    },
    {
     "cell_type": "code",
     "collapsed": false,
     "input": [
      "stats = sitk.LabelStatisticsImageFilter()\n",
      "stats.Execute(img_T1, seg)\n",
      "print stats"
     ],
     "language": "python",
     "metadata": {},
     "outputs": []
    },
    {
     "cell_type": "code",
     "collapsed": false,
     "input": [
      "factor = 1.5\n",
      "lower_threshold = stats.GetMean(1)-factor*stats.GetSigma(1)\n",
      "upper_threshold = stats.GetMean(1)+factor*stats.GetSigma(1)"
     ],
     "language": "python",
     "metadata": {},
     "outputs": []
    },
    {
     "cell_type": "code",
     "collapsed": false,
     "input": [
      "init_ls = sitk.SignedMaurerDistanceMap(seg, insideIsPositive=True, useImageSpacing=True)"
     ],
     "language": "python",
     "metadata": {},
     "outputs": []
    },
    {
     "cell_type": "code",
     "collapsed": false,
     "input": [
      "lsFilter = sitk.ThresholdSegmentationLevelSetImageFilter()\n",
      "lsFilter.SetLowerThreshold(lower_threshold)\n",
      "lsFilter.SetUpperThreshold(upper_threshold)\n",
      "lsFilter.SetMaximumRMSError(0.02)\n",
      "lsFilter.SetNumberOfIterations(100)\n",
      "lsFilter.SetCurvatureScaling(1)\n",
      "lsFilter.SetPropagationScaling(1)\n",
      "lsFilter.ReverseExpansionDirectionOn()"
     ],
     "language": "python",
     "metadata": {},
     "outputs": []
    },
    {
     "cell_type": "code",
     "collapsed": false,
     "input": [
      "ls = lsFilter.Execute(init_ls, sitk.Cast(img_T1, sitk.sitkFloat32))\n",
      "print lsFilter\n"
     ],
     "language": "python",
     "metadata": {},
     "outputs": []
    },
    {
     "cell_type": "code",
     "collapsed": false,
     "input": [
      "zslice_offset = 4\n",
      "t = \"LevelSet after \"+str(lsFilter.GetNumberOfIterations())+\" iterations\"\n",
      "myshow3d(sitk.LabelOverlay(img_T1_255, ls > 0), zslices=range(idx[2]-zslice_offset,idx[2]+zslice_offset+1,zslice_offset), dpi=20, title=t)"
     ],
     "language": "python",
     "metadata": {},
     "outputs": []
    },
    {
     "cell_type": "code",
     "collapsed": false,
     "input": [
      "lsFilter.SetNumberOfIterations(25)\n",
      "img_T1f = sitk.Cast(img_T1, sitk.sitkFloat32)\n",
      "ls = init_ls\n",
      "niter = 0\n",
      "for i in range(0, 10):\n",
      "    ls = lsFilter.Execute(ls, img_T1f)\n",
      "    niter += lsFilter.GetNumberOfIterations()\n",
      "    t = \"LevelSet after \"+str(niter)+\" iterations and RMS \"+str(lsFilter.GetRMSChange())\n",
      "    fig = myshow3d(sitk.LabelOverlay(img_T1_255, ls > 0), zslices=range(idx[2]-zslice_offset,idx[2]+zslice_offset+1,zslice_offset), dpi=20, title=t)\n"
     ],
     "language": "python",
     "metadata": {},
     "outputs": []
    },
    {
     "cell_type": "code",
     "collapsed": false,
     "input": [],
     "language": "python",
     "metadata": {},
     "outputs": []
    }
   ],
   "metadata": {}
  }
 ]
}
