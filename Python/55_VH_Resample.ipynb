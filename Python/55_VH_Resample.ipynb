{
 "cells": [
  {
   "cell_type": "markdown",
   "metadata": {},
   "source": [
    "# Resampling an Image onto Another's Physical Space"
   ]
  },
  {
   "cell_type": "markdown",
   "metadata": {},
   "source": [
    "The purpose of this Notebook is to demonstrate how the physical space described by the meta-data is used when resampling onto a reference image."
   ]
  },
  {
   "cell_type": "code",
   "execution_count": null,
   "metadata": {},
   "outputs": [],
   "source": [
    "%matplotlib inline\n",
    "import matplotlib.pyplot as plt\n",
    "\n",
    "import SimpleITK as sitk\n",
    "\n",
    "# If the environment variable SIMPLE_ITK_MEMORY_CONSTRAINED_ENVIRONMENT is set, this will override the ReadImage\n",
    "# function so that it also resamples the image to a smaller size (testing environment is memory constrained).\n",
    "%run setup_for_testing\n",
    "\n",
    "print(sitk.Version())\n",
    "from myshow import myshow\n",
    "\n",
    "# Download data to work on\n",
    "%run update_path_to_download_script\n",
    "from downloaddata import fetch_data as fdata\n",
    "\n",
    "OUTPUT_DIR = \"Output\""
   ]
  },
  {
   "cell_type": "markdown",
   "metadata": {},
   "source": [
    "Load the RGB cryosectioning of the Visible Human Male dataset. The data is about 1GB so this may take several seconds, or a bit longer if this is the first time the data is downloaded from the midas repository."
   ]
  },
  {
   "cell_type": "code",
   "execution_count": null,
   "metadata": {},
   "outputs": [],
   "source": [
    "fixed = sitk.ReadImage(fdata(\"vm_head_rgb.mha\"))"
   ]
  },
  {
   "cell_type": "code",
   "execution_count": null,
   "metadata": {},
   "outputs": [],
   "source": [
    "moving = sitk.ReadImage(fdata(\"vm_head_mri.mha\"))"
   ]
  },
  {
   "cell_type": "code",
   "execution_count": null,
   "metadata": {},
   "outputs": [],
   "source": [
    "print(fixed.GetSize())\n",
    "print(fixed.GetOrigin())\n",
    "print(fixed.GetSpacing())\n",
    "print(fixed.GetDirection())"
   ]
  },
  {
   "cell_type": "code",
   "execution_count": null,
   "metadata": {},
   "outputs": [],
   "source": [
    "print(moving.GetSize())\n",
    "print(moving.GetOrigin())\n",
    "print(moving.GetSpacing())\n",
    "print(moving.GetDirection())"
   ]
  },
  {
   "cell_type": "code",
   "execution_count": null,
   "metadata": {},
   "outputs": [],
   "source": [
    "import sys\n",
    "\n",
    "resample = sitk.ResampleImageFilter()\n",
    "resample.SetReferenceImage(fixed)\n",
    "resample.SetInterpolator(sitk.sitkBSpline3)\n",
    "resample.AddCommand(\n",
    "    sitk.sitkProgressEvent,\n",
    "    lambda: print(f\"\\rProgress: {100*resample.GetProgress():03.1f}%...\", end=\"\"),\n",
    ")\n",
    "resample.AddCommand(sitk.sitkProgressEvent, lambda: sys.stdout.flush())\n",
    "out = resample.Execute(moving)"
   ]
  },
  {
   "cell_type": "markdown",
   "metadata": {},
   "source": [
    "Because we are resampling the moving image using the physical location of the fixed image without any transformation (identity), most of the resulting volume is empty. The image content appears in slice 57 and below.  "
   ]
  },
  {
   "cell_type": "code",
   "execution_count": null,
   "metadata": {},
   "outputs": [],
   "source": [
    "myshow(out)"
   ]
  },
  {
   "cell_type": "code",
   "execution_count": null,
   "metadata": {},
   "outputs": [],
   "source": [
    "# combine the two images using a checkerboard pattern:\n",
    "# because the moving image is single channel with a high dynamic range we rescale it to [0,255] and repeat\n",
    "# the channel 3 times\n",
    "vis = sitk.CheckerBoard(\n",
    "    fixed,\n",
    "    sitk.Compose([sitk.Cast(sitk.RescaleIntensity(out), sitk.sitkUInt8)] * 3),\n",
    "    checkerPattern=[15, 10, 1],\n",
    ")"
   ]
  },
  {
   "cell_type": "code",
   "execution_count": null,
   "metadata": {},
   "outputs": [],
   "source": [
    "myshow(vis)"
   ]
  },
  {
   "cell_type": "markdown",
   "metadata": {},
   "source": [
    "Write the image to the Output directory: (1) original as a single image volume and (2) as a series of smaller JPEG images which can be constructed into an animated GIF."
   ]
  },
  {
   "cell_type": "code",
   "execution_count": null,
   "metadata": {},
   "outputs": [],
   "source": [
    "import os\n",
    "\n",
    "sitk.WriteImage(vis, os.path.join(OUTPUT_DIR, \"example_resample_vis.mha\"))\n",
    "\n",
    "temp = sitk.Shrink(vis, [3, 3, 2])\n",
    "sitk.WriteImage(\n",
    "    temp, [os.path.join(OUTPUT_DIR, f\"r{i:03d}.jpg\") for i in range(temp.GetSize()[2])]\n",
    ")"
   ]
  }
 ],
 "metadata": {
  "kernelspec": {
   "display_name": "Python 3 (ipykernel)",
   "language": "python",
   "name": "python3"
  },
  "language_info": {
   "codemirror_mode": {
    "name": "ipython",
    "version": 3
   },
   "file_extension": ".py",
   "mimetype": "text/x-python",
   "name": "python",
   "nbconvert_exporter": "python",
   "pygments_lexer": "ipython3",
   "version": "3.8.12"
  }
 },
 "nbformat": 4,
 "nbformat_minor": 4
}
