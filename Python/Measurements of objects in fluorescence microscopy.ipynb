{
 "cells": [
  {
   "cell_type": "markdown",
   "metadata": {},
   "source": [
    "<center><h1>Colocalization and Distance measurements of objects in fluorescence microscopy</h1></center>\n",
    "\n",
    "<h2>Summary</h2>\n",
    "\n",
    "This notebook will show how to obtain data related to colocalization and distance of segmented objects in images obtained using fluorescence microscopy. For the purpose of this notebook Zeiss CZI files obtained using ZEN for 3D Structured Illumination Microscopy (3D-SIM) are used. Dimensional order is TCZYX. Python-bioformats was used to extract image pixel values as a numpy array.\n",
    "\n",
    "<h2>Imports</h2>"
   ]
  },
  {
   "cell_type": "code",
   "execution_count": null,
   "metadata": {},
   "outputs": [],
   "source": [
    "import numpy as np\n",
    "import SimpleITK as sitk"
   ]
  },
  {
   "cell_type": "markdown",
   "metadata": {},
   "source": [
    "<h2>Retrieve Image Data</h2>\n",
    "\n",
    "Included for the sake of completeness.\n",
    "This can be skipped if your images are already sitk images."
   ]
  },
  {
   "cell_type": "code",
   "execution_count": null,
   "metadata": {},
   "outputs": [],
   "source": [
    "import javabridge\n",
    "import bioformats as bf\n",
    "import re\n",
    "from xml.etree import ElementTree as ETree\n",
    "\n",
    "\n",
    "filepath = \"/path/to/your/file\"\n",
    "\n",
    "javabridge.start_vm(\n",
    "        class_path=bf.JARS,\n",
    "        run_headless=True\n",
    "    )\n",
    "md = bf.get_omexml_metadata(filepath)\n",
    "rdr = bf.ImageReader(filepath)\n",
    "mdroot = ETree.fromstring(re.sub(' xmlns=\"[^\"]+\"', '', md, count=1))\n",
    "# Get metadata from image to be used in reading pixel data\n",
    "main_metadata = dict(mdroot.find(\"Image\").find(\"Pixels\").items())\n",
    "size = [int(item) for item in [main_metadata['SizeT'], \n",
    "                               main_metadata['SizeC'], \n",
    "                               main_metadata['SizeZ'], \n",
    "                               main_metadata['SizeY'], \n",
    "                               main_metadata['SizeX']]]\n",
    "# Create empty array to be filled with pixel data.\n",
    "image5d = np.empty(size)\n",
    "# Fill image5d with pixel data extracted from image\n",
    "for t in range(int(main_metadata['SizeT'])):\n",
    "    for c in range(int(main_metadata['SizeC'])):\n",
    "        for z in range(int(main_metadata['SizeZ'])):\n",
    "            try:\n",
    "                image5d[t,c,z] = rdr.read(c=c, z=z, t=t, rescale=False)\n",
    "            except Exception as e:\n",
    "                print(\"Error reading image: {}\".format(e))\n",
    "rdr.close()\n",
    "# Remove dimensions with only one axis. In the test case it was the T dimension.\n",
    "image5d = image5d.squeeze()\n",
    "Blue_Channel = sitk.GetImageFromArray(image5d[0])\n",
    "Red_Channel = sitk.GetImageFromArray(image5d[1])\n",
    "Green_Channel = sitk.GetImageFromArray(image5d[2])"
   ]
  },
  {
   "cell_type": "markdown",
   "metadata": {},
   "source": [
    "<h2>Segmenting Channels</h2>"
   ]
  },
  {
   "cell_type": "code",
   "execution_count": null,
   "metadata": {},
   "outputs": [],
   "source": [
    "# Get connected components from pixels above a threshold value i.e. 20000\n",
    "Blue_obj = sitk.ConnectedComponent(Blue_Channel>20000)\n",
    "Red_obj = sitk.ConnectedComponent(Red_Channel>10000)\n",
    "Green_obj = sitk.ConnectedComponent(Green_Channel>10000)"
   ]
  },
  {
   "cell_type": "markdown",
   "metadata": {},
   "source": [
    "<h2>Bitwise Colocalization (Red/Green)</h2>\n",
    "\n",
    "This determines which voxels contain both red and green objects."
   ]
  },
  {
   "cell_type": "code",
   "execution_count": null,
   "metadata": {},
   "outputs": [],
   "source": [
    "filt = sitk.AndImageFilter()\n",
    "overlap_image = filt.Execute(Green_obj, Red_obj)\n",
    "# Correcting for disjointed pixels that might be labelled as part \n",
    "# of the same colocalization object by the bitwise operation\n",
    "overlap_image = sitk.ConnectedComponent(overlap_image)"
   ]
  },
  {
   "cell_type": "markdown",
   "metadata": {},
   "source": [
    "<h2>Distance Measurements</h2>\n",
    "\n",
    "//TODO\n",
    "This will show how many of each object are found at a given distance."
   ]
  }
 ],
 "metadata": {
  "kernelspec": {
   "display_name": "Python 3",
   "language": "python",
   "name": "python3"
  },
  "language_info": {
   "codemirror_mode": {
    "name": "ipython",
    "version": 3
   },
   "file_extension": ".py",
   "mimetype": "text/x-python",
   "name": "python",
   "nbconvert_exporter": "python",
   "pygments_lexer": "ipython3",
   "version": "3.7.5"
  }
 },
 "nbformat": 4,
 "nbformat_minor": 2
}
