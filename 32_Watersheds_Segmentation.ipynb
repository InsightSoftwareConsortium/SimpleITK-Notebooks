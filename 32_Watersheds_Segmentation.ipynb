{
 "metadata": {
  "name": "32 Watersheds Segmentation"
 },
 "nbformat": 3,
 "nbformat_minor": 0,
 "worksheets": [
  {
   "cells": [
    {
     "cell_type": "markdown",
     "metadata": {},
     "source": [
      "#Watersheds Segmentation"
     ]
    },
    {
     "cell_type": "code",
     "collapsed": false,
     "input": [
      "import SimpleITK as sitk\n",
      "# Download data to work on\n",
      "import downloaddata",
      "from myshow import myshow, myshow3d"
     ],
     "language": "python",
     "metadata": {},
     "outputs": []
    },
    {
     "cell_type": "code",
     "collapsed": false,
     "input": [
      "img = sitk.ReadImage(\"Data/cthead1.png\")\n",
      "myshow(img)"
     ],
     "language": "python",
     "metadata": {},
     "outputs": []
    },
    {
     "cell_type": "markdown",
     "metadata": {},
     "source": [
      "##Gradient Watersheds Segmentation"
     ]
    },
    {
     "cell_type": "code",
     "collapsed": false,
     "input": [
      "sigma=img.GetSpacing()[0]\n",
      "level=4"
     ],
     "language": "python",
     "metadata": {},
     "outputs": []
    },
    {
     "cell_type": "code",
     "collapsed": false,
     "input": [
      "feature_img = sitk.GradientMagnitude(img)\n",
      "myshow(feature_img, \"Edge Features\")"
     ],
     "language": "python",
     "metadata": {},
     "outputs": []
    },
    {
     "cell_type": "code",
     "collapsed": false,
     "input": [
      "ws_img = sitk.MorphologicalWatershed(feature_img, level=0, markWatershedLine=True, fullyConnected=False)\n",
      "myshow(sitk.LabelToRGB(ws_img), \"Watershed Over Segmentation\")"
     ],
     "language": "python",
     "metadata": {},
     "outputs": []
    },
    {
     "cell_type": "code",
     "collapsed": false,
     "input": [
      "ws_img = sitk.MorphologicalWatershed(feature_img, level=level, markWatershedLine=True, fullyConnected=False)\n",
      "myshow(sitk.LabelToRGB(ws_img), \"Watershed Segmentation\")"
     ],
     "language": "python",
     "metadata": {},
     "outputs": []
    },
    {
     "cell_type": "markdown",
     "metadata": {},
     "source": [
      "##Segmentation From Markers"
     ]
    },
    {
     "cell_type": "code",
     "collapsed": false,
     "input": [
      "min_img = sitk.RegionalMinima(feature_img, backgroundValue=0, foregroundValue=1.0, fullyConnected=False, flatIsMinima=True)\n",
      "marker_img = sitk.ConnectedComponent(min_img, fullyConnected=False)\n",
      "myshow(sitk.LabelToRGB(marker_img), \"Too many local minima markers\")"
     ],
     "language": "python",
     "metadata": {},
     "outputs": []
    },
    {
     "cell_type": "code",
     "collapsed": false,
     "input": [
      "ws = sitk.MorphologicalWatershedFromMarkers(feature_img, marker_img, markWatershedLine=True, fullyConnected=False)\n",
      "myshow(sitk.LabelToRGB(ws), \"Watershed Oversegmentation from markers\")"
     ],
     "language": "python",
     "metadata": {},
     "outputs": []
    },
    {
     "cell_type": "code",
     "collapsed": false,
     "input": [
      "pt = [60,60]\n",
      "idx = img.TransformPhysicalPointToIndex(pt)\n",
      "marker_img *= 0\n",
      "marker_img[0,0] = 1\n",
      "marker_img[idx] = 2\n",
      "\n",
      "ws = sitk.MorphologicalWatershedFromMarkers(feature_img, marker_img, markWatershedLine=True, fullyConnected=False)\n",
      "myshow(sitk.LabelOverlay(img, ws, opacity=.2), \"Watershed Oversegmentation from manual markers\")"
     ],
     "language": "python",
     "metadata": {},
     "outputs": []
    },
    {
     "cell_type": "markdown",
     "metadata": {},
     "source": [
      "##Binary Watersheds for Object Separation "
     ]
    },
    {
     "cell_type": "code",
     "collapsed": false,
     "input": [
      "rgb_img = sitk.ReadImage(\"Data/coins.png\")\n",
      "myshow(rgb_img, \"coins.png\")\n",
      "img = sitk.VectorIndexSelectionCast(rgb_img,1)\n",
      "myshow(img, \"Green Coins\")"
     ],
     "language": "python",
     "metadata": {},
     "outputs": []
    },
    {
     "cell_type": "code",
     "collapsed": false,
     "input": [
      "feature_img = sitk.GradientMagnitudeRecursiveGaussian(img, sigma=1.5)\n",
      "myshow(feature_img)"
     ],
     "language": "python",
     "metadata": {},
     "outputs": []
    },
    {
     "cell_type": "code",
     "collapsed": false,
     "input": [
      "ws_img = sitk.MorphologicalWatershed(feature_img, level=4, markWatershedLine=False, fullyConnected=False)\n",
      "myshow(sitk.LabelToRGB(ws_img), \"Watershed Over Segmentation\")\n",
      "seg = sitk.ConnectedComponent(ws_img!=ws_img[0,0])\n",
      "myshow(sitk.LabelOverlay(img, seg), \"Foreground Components\")"
     ],
     "language": "python",
     "metadata": {},
     "outputs": []
    },
    {
     "cell_type": "code",
     "collapsed": false,
     "input": [
      "filled = sitk.BinaryFillhole(seg!=0)\n",
      "d = sitk.SignedMaurerDistanceMap(filled, insideIsPositive=False, squaredDistance=False, useImageSpacing=False)\n",
      "myshow(d, \"Inside Distance Map\")"
     ],
     "language": "python",
     "metadata": {},
     "outputs": []
    },
    {
     "cell_type": "code",
     "collapsed": false,
     "input": [
      "ws = sitk.MorphologicalWatershed( d, markWatershedLine=False, level=1)\n",
      "myshow(sitk.LabelOverlay(img, ws))"
     ],
     "language": "python",
     "metadata": {},
     "outputs": []
    },
    {
     "cell_type": "code",
     "collapsed": false,
     "input": [
      "ws = sitk.Mask( ws, sitk.Cast(seg, ws.GetPixelID()))\n",
      "myshow(sitk.LabelOverlay(img, ws), \"Split Objects\")"
     ],
     "language": "python",
     "metadata": {},
     "outputs": []
    },
    {
     "cell_type": "markdown",
     "metadata": {},
     "source": [
      "#Multi-label Morphology"
     ]
    },
    {
     "cell_type": "code",
     "collapsed": false,
     "input": [
      "seg = ws"
     ],
     "language": "python",
     "metadata": {},
     "outputs": []
    },
    {
     "cell_type": "code",
     "collapsed": false,
     "input": [
      "radius=10\n",
      "bd_img = sitk.BinaryDilate(seg!=0, radius)\n",
      "myshow(bd_img, \"Binary Dilate\")"
     ],
     "language": "python",
     "metadata": {},
     "outputs": []
    },
    {
     "cell_type": "code",
     "collapsed": false,
     "input": [
      "dist_img = sitk.SignedMaurerDistanceMap(seg!=0, insideIsPositive=False, squaredDistance=False, useImageSpacing=False)\n",
      "wsd_img = sitk.MorphologicalWatershedFromMarkers(dist_img, seg, markWatershedLine=False)\n",
      "myshow(sitk.LabelOverlay(img,wsd_img))"
     ],
     "language": "python",
     "metadata": {},
     "outputs": []
    },
    {
     "cell_type": "code",
     "collapsed": false,
     "input": [
      "md_img = sitk.Mask(wsd_img,bd_img)\n",
      "myshow(sitk.LabelToRGB(md_img), \"Multi-label Dilate\")"
     ],
     "language": "python",
     "metadata": {},
     "outputs": []
    },
    {
     "cell_type": "code",
     "collapsed": false,
     "input": [
      "e_img=sitk.BinaryErode(md_img!=0, radius)\n",
      "mo_img=sitk.Mask(md_img, e_img)\n",
      "myshow(sitk.LabelOverlay(img, mo_img), \"Multi-label Closing\")"
     ],
     "language": "python",
     "metadata": {},
     "outputs": []
    },
    {
     "cell_type": "code",
     "collapsed": false,
     "input": [],
     "language": "python",
     "metadata": {},
     "outputs": []
    }
   ],
   "metadata": {}
  }
 ]
}
