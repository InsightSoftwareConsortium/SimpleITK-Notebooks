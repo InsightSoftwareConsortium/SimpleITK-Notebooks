{
 "cells": [
  {
   "cell_type": "code",
   "execution_count": 1,
   "id": "b86bf02d-1507-4927-a83b-a93692c31f61",
   "metadata": {},
   "outputs": [
    {
     "name": "stdout",
     "output_type": "stream",
     "text": [
      "{'path': '../../Python/00_Setup.ipynb'}\n",
      "{'path': '../../Python/01_Image_Basics.ipynb'}\n",
      "{'path': '../../Python/02_Pythonic_Image.ipynb'}\n",
      "{'path': '../../Python/03_Image_Details.ipynb'}\n",
      "{'path': '../../Python/04_Image_Display.ipynb'}\n",
      "{'path': '../../Python/05_Results_Visualization.ipynb'}\n",
      "{'path': '../../Python/10_matplotlibs_imshow.ipynb'}\n",
      "{'path': '../../Python/11_Progress.ipynb'}\n",
      "{'path': '../../Python/20_Expand_With_Interpolators.ipynb'}\n",
      "{'path': '../../Python/21_Transforms_and_Resampling.ipynb'}\n",
      "{'path': '../../Python/22_Transforms.ipynb'}\n",
      "{'path': '../../Python/300_Segmentation_Overview.ipynb'}\n",
      "{'path': '../../Python/30_Segmentation_Region_Growing.ipynb'}\n",
      "{'path': '../../Python/31_Levelset_Segmentation.ipynb'}\n",
      "{'path': '../../Python/32_Watersheds_Segmentation.ipynb'}\n",
      "{'path': '../../Python/33_Segmentation_Thresholding_Edge_Detection.ipynb'}\n",
      "{'path': '../../Python/34_Segmentation_Evaluation.ipynb'}\n",
      "{'path': '../../Python/35_Segmentation_Shape_Analysis.ipynb'}\n",
      "{'path': '../../Python/36_Microscopy_Colocalization_Distance_Analysis.ipynb'}\n",
      "{'path': '../../Python/51_VH_Segmentation1.ipynb'}\n",
      "{'path': '../../Python/55_VH_Resample.ipynb'}\n",
      "{'path': '../../Python/56_VH_Registration1.ipynb'}\n",
      "{'path': '../../Python/60_Registration_Introduction.ipynb'}\n",
      "{'path': '../../Python/61_Registration_Introduction_Continued.ipynb'}\n",
      "{'path': '../../Python/62_Registration_Tuning.ipynb'}\n",
      "{'path': '../../Python/63_Registration_Initialization.ipynb'}\n",
      "{'path': '../../Python/64_Registration_Memory_Time_Tradeoff.ipynb'}\n",
      "{'path': '../../Python/65_Registration_FFD.ipynb'}\n",
      "{'path': '../../Python/66_Registration_Demons.ipynb'}\n",
      "{'path': '../../Python/67_Registration_Semiautomatic_Homework.ipynb'}\n",
      "{'path': '../../Python/68_Registration_Errors.ipynb'}\n",
      "{'path': '../../Python/69_x-ray-panorama.ipynb'}\n",
      "{'path': '../../Python/70_Data_Augmentation.ipynb'}\n",
      "{'path': '../../Python/71_Trust_But_Verify.ipynb'}\n"
     ]
    }
   ],
   "source": [
    "import json\n",
    "from pathlib import Path\n",
    "\n",
    "all_notebooks = !find Python/*.ipynb\n",
    "for num, notebook in enumerate(all_notebooks):\n",
    "    p=Path(notebook)\n",
    "    names =  {\"path\": f\"../../{p}\"}\n",
    "    print(names)\n",
    "    base = Path('docs/source')\n",
    "    jsonpath = base / (    p.stem + \".nblink\")\n",
    "    base.mkdir(exist_ok=True)\n",
    "    jsonpath.write_text(json.dumps(names))"
   ]
  },
  {
   "cell_type": "code",
   "execution_count": null,
   "id": "de18013d-0baf-4e16-9648-9f96c114d20c",
   "metadata": {},
   "outputs": [],
   "source": []
  }
 ],
 "metadata": {
  "kernelspec": {
   "display_name": "Python 3 (ipykernel)",
   "language": "python",
   "name": "python3"
  },
  "language_info": {
   "codemirror_mode": {
    "name": "ipython",
    "version": 3
   },
   "file_extension": ".py",
   "mimetype": "text/x-python",
   "name": "python",
   "nbconvert_exporter": "python",
   "pygments_lexer": "ipython3",
   "version": "3.8.12"
  }
 },
 "nbformat": 4,
 "nbformat_minor": 5
}
